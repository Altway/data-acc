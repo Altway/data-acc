{
 "cells": [
  {
   "cell_type": "code",
   "execution_count": 1,
   "metadata": {},
   "outputs": [],
   "source": [
    "import time\n",
    "import pandas as pd\n",
    "from datetime import datetime\n",
    "from pandas_datareader import data as pdr\n",
    "import sqlite3\n",
    "import yfinance as yf\n",
    "\n",
    "yf.pdr_override()"
   ]
  },
  {
   "cell_type": "code",
   "execution_count": 39,
   "metadata": {},
   "outputs": [],
   "source": [
    "conn = sqlite3.connect('/home/rems/dev/back-acc/acc/db.sqlite3')\n",
    "cursor = conn.cursor()\n",
    "\n",
    "### Peupler la DB avec les Exchange que l'on va pull et leur devise\n",
    "sql = \"INSERT INTO personnal_exchange (name, currency) VALUES ('NYSE', 'USD')\"\n",
    "cursor.execute(sql)\n",
    "conn.commit()"
   ]
  },
  {
   "cell_type": "code",
   "execution_count": 49,
   "metadata": {},
   "outputs": [
    {
     "name": "stdout",
     "output_type": "stream",
     "text": [
      "dict_keys(['zip', 'sector', 'fullTimeEmployees', 'longBusinessSummary', 'city', 'phone', 'state', 'country', 'companyOfficers', 'website', 'maxAge', 'address1', 'industry', 'previousClose', 'regularMarketOpen', 'twoHundredDayAverage', 'trailingAnnualDividendYield', 'payoutRatio', 'volume24Hr', 'regularMarketDayHigh', 'navPrice', 'averageDailyVolume10Day', 'totalAssets', 'regularMarketPreviousClose', 'fiftyDayAverage', 'trailingAnnualDividendRate', 'open', 'toCurrency', 'averageVolume10days', 'expireDate', 'yield', 'algorithm', 'dividendRate', 'exDividendDate', 'beta', 'circulatingSupply', 'startDate', 'regularMarketDayLow', 'priceHint', 'currency', 'trailingPE', 'regularMarketVolume', 'lastMarket', 'maxSupply', 'openInterest', 'marketCap', 'volumeAllCurrencies', 'strikePrice', 'averageVolume', 'priceToSalesTrailing12Months', 'dayLow', 'ask', 'ytdReturn', 'askSize', 'volume', 'fiftyTwoWeekHigh', 'forwardPE', 'fromCurrency', 'fiveYearAvgDividendYield', 'fiftyTwoWeekLow', 'bid', 'tradeable', 'dividendYield', 'bidSize', 'dayHigh', 'exchange', 'shortName', 'longName', 'exchangeTimezoneName', 'exchangeTimezoneShortName', 'isEsgPopulated', 'gmtOffSetMilliseconds', 'quoteType', 'symbol', 'messageBoardId', 'market', 'annualHoldingsTurnover', 'enterpriseToRevenue', 'beta3Year', 'profitMargins', 'enterpriseToEbitda', '52WeekChange', 'morningStarRiskRating', 'forwardEps', 'revenueQuarterlyGrowth', 'sharesOutstanding', 'fundInceptionDate', 'annualReportExpenseRatio', 'bookValue', 'sharesShort', 'sharesPercentSharesOut', 'fundFamily', 'lastFiscalYearEnd', 'heldPercentInstitutions', 'netIncomeToCommon', 'trailingEps', 'lastDividendValue', 'SandP52WeekChange', 'priceToBook', 'heldPercentInsiders', 'nextFiscalYearEnd', 'mostRecentQuarter', 'shortRatio', 'sharesShortPreviousMonthDate', 'floatShares', 'enterpriseValue', 'threeYearAverageReturn', 'lastSplitDate', 'lastSplitFactor', 'legalType', 'lastDividendDate', 'morningStarOverallRating', 'earningsQuarterlyGrowth', 'dateShortInterest', 'pegRatio', 'lastCapGain', 'shortPercentOfFloat', 'sharesShortPriorMonth', 'category', 'fiveYearAverageReturn', 'regularMarketPrice', 'logo_url'])\n"
     ]
    }
   ],
   "source": [
    "### Il faut au préalable trouver la liste des Tickers de l'indice\n",
    "#nyse = pd.read_csv('data/nyse_tickers.csv')\n",
    "#print(nyse.sort_values(by=['Symbol']))\n",
    "#nyse.drop(['LastSale', 'MarketCap', 'IPOyear', 'Summary Quote'], axis=1, inplace=True)\n",
    "#nyse.columns = ['ticker', 'name', 'sector', 'industry', 'sector']\n",
    "#nyse['exchange_id'] = 1\n",
    "\n",
    "#nyse.dropna(inplace=True)\n",
    "#print(nyse)\n",
    "#nyse = nyse[cols[-1:] + cols[:-1]]\n",
    "\n",
    "#define the ticker symbol### Configuration\n",
    "from_date_str = \"2019-01-01\"\n",
    "to_date_str = \"2020-11-01\"\n",
    "\n",
    "#from_date = datetime.strptime(from_date_str, '%d-%m-%Y')\n",
    "#to_date = datetime.strptime(to_date_str, '%d-%m-%Y')\n",
    "tickerSymbol = ['MSFT']#, 'AAPL']\n",
    "#a = [yf.Ticker(i) for i in tickerSymbol]\n",
    "\n",
    "meta = {}\n",
    "ochl = {}\n",
    "\n",
    "a = yf.Tickers(tickerSymbol)\n",
    "b = pd.DataFrame()\n",
    "c = pd.DataFrame()\n",
    "for i in a.tickers:\n",
    "    #print(i.history(period='2mo', interval='1d').info())\n",
    "    c = i.history(period='2mo', interval='1d')\n",
    "    tmp = {k:(v,) for k,v in i.info.items()}\n",
    "    \n",
    "    b = pd.DataFrame.from_dict(tmp)\n",
    "    b[\"exchange_id\"] = 1\n",
    "    meta[i] = b\n",
    "    ochl[i] = c\n",
    "    print(i.info.keys())\n",
    "\n",
    "    #print(b.head())\n",
    "    #b.columns = i.info.keys() \n",
    "    \n",
    "\n",
    "#print(b[\"zip\"])\n",
    "#\n",
    "#print(b)\n",
    "#print(c)\n",
    "#print(meta)\n",
    "#print(ochl)\n",
    "#print(b.columns)\n",
    "#print(b['zip'])\n",
    "#print(a[0].info.keys())\n",
    "#print(a[0].info['sector'])\n",
    "#print(a[0].info.get('ticker'))\n",
    "\n",
    "\n",
    "#get data on this ticker\n",
    "#tickerData = yf.Tickers(tickerSymbol)\n",
    "\n",
    "#print(dir(tickerData))\n",
    "#info on the company\n",
    "#tickerData\n",
    "#print(dir(tickerData.tickers))\n",
    "#print(tickerData.tickers.MSFT.info)\n",
    "#data = pdr.get_data_yahoo(tickerSymbol, start=from_date_str, end=to_date_str)\n",
    "#data.info()"
   ]
  },
  {
   "cell_type": "code",
   "execution_count": 50,
   "metadata": {},
   "outputs": [],
   "source": [
    "#for row in nyse.itertuples(index=False):\n",
    "for ticker in meta.values():\n",
    "    #print(ticker)\n",
    "    for row in ticker.itertuples(index=False):\n",
    "\n",
    "        try:\n",
    "            cursor.execute(f\"INSERT INTO personnal_coin (exchange_id, ticker, name, sector, industry) VALUES ('{row.exchange_id}', '{row.symbol}', '{row.shortName}', '{row.sector}','{row.industry}')\")\n",
    "        except:\n",
    "            # Assume that the exception is because sector\n",
    "            # and/or industry are missing\n",
    "            # print(f\"{row.exchange_id}, {row.ticker}, {row.name}\")\n",
    "            cursor.execute(f\"INSERT INTO personnal_coin(exchange_id, ticker, name) VALUES ('{row.exchange_id}', '{row.symbol}', '{row.shortName}')\")\n",
    "conn.commit()"
   ]
  },
  {
   "cell_type": "code",
   "execution_count": 56,
   "metadata": {},
   "outputs": [],
   "source": [
    "sql = \"INSERT INTO personnal_datavendor (name, website_url) VALUES ('YahooFinance', 'https://finance.yahoo.com')\"\n",
    "cursor.execute(sql)\n",
    "conn.commit()\n",
    "\n",
    "YAHOO_VENDOR_ID = 1"
   ]
  },
  {
   "cell_type": "code",
   "execution_count": 59,
   "metadata": {},
   "outputs": [
    {
     "name": "stdout",
     "output_type": "stream",
     "text": [
      "      ticker     id\n",
      "0       VCVC      1\n",
      "1      VCVCU      2\n",
      "2        TXG      3\n",
      "3         YI      4\n",
      "4        PIH      5\n",
      "...      ...    ...\n",
      "11705   CNET  11706\n",
      "11706   ZYNE  11707\n",
      "11707   ZYXI  11708\n",
      "11708   ZNGA  11709\n",
      "11709   MSFT  11710\n",
      "\n",
      "[11710 rows x 2 columns]\n",
      "['VCVC', 'VCVCU', 'TXG', 'YI', 'PIH', 'PIHPP', 'TURN', 'ATNF', 'ATNFW', 'FLWS', 'BCOW', 'ONEM', 'FCCY', 'SRCE', 'VNET', 'TWOU', 'QFIN', 'KRKR', 'FVAM', 'JOBS', 'ETNB', 'EGHT', 'NMTR', 'JFU', 'AAON', 'ABCM', 'ABEO', 'ABMD', 'AXAS', 'ABST', 'ACIU', 'ACIA', 'ACTG', 'ASO', 'ACHC', 'ACAD', 'ACAM', 'ACAMU', 'ACAMW', 'ACST', 'AXDX', 'ACCP', 'XLRN', 'ACCD', 'ARAY', 'ACEV', 'ACEVU', 'ACEVW', 'ACLL', 'ACRX', 'ACER', 'ACHV', 'ACIW', 'ACACU', 'ACRS', 'ACMR', 'ACNB', 'STWO', 'STWOU', 'STWOW', 'ACOR', 'ATVI', 'AFIB', 'ADMS', 'ADMP', 'AHCO', 'ADAP', 'ADPT', 'ADXN', 'ADUS', 'AEY', 'ADIL', 'ADILW', 'ACET', 'ADTX', 'ADMA', 'ADBE', 'ADTN', 'ADES', 'AEIS', 'AMD', 'ADV', 'ADVWW', 'ADXS', 'ADVM', 'DWEQ', 'DWAW', 'DWUS', 'DWMC', 'DWSH', 'AEGN', 'AGLE', 'AEHR', 'AMTX', 'ARBGU', 'AERI', 'AVAV', 'ARPO', 'AIH', 'AEZS', 'AEMD', 'AFMD', 'AFYA', 'AGBA', 'AGBAR', 'AGBAU', 'AGBAW', 'AGEN', 'AGRX', 'AGYS', 'AGIO', 'AGMH', 'AGNC', 'AGNCM', 'AGNCN', 'AGNCO', 'AGNCP', 'API', 'AGFS', 'AIKI', 'ALRN', 'AIRT', 'AIRTP', 'AIRTW', 'ATSG', 'AIRG', 'ANTE', 'AKAM', 'AKTX', 'AKBA', 'KERN', 'KERNW', 'AKRO', 'AKER', 'AKUS', 'AKTS', 'AKU', 'ALRM', 'ALSK', 'ALAC', 'ALACR', 'ALACU', 'ALACW', 'ALBO', 'ALDX', 'ALEC', 'ALRS', 'ALXN', 'ALCO', 'ALIT', 'ALGN', 'ALGS', 'ALIM', 'ALYA', 'ALJJ', 'ALKS', 'ALLK', 'ABTX', 'ALGT', 'ALGM', 'ALNA', 'ARLP', 'LNT', 'AESE', 'AHPI', 'AMOT', 'ALLO', 'ALLT', 'ALVR', 'MDRX', 'ALNY', 'AOSL', 'AHAC', 'AHACU', 'AHACW', 'GOOG', 'GOOGL', 'SMCP', 'ATEC', 'ALPN', 'ALTA', 'ALTR', 'ATHE', 'AGCUU', 'ALT', 'ASPS', 'ALTU', 'ALTUU', 'AIMC', 'ALTM', 'ALXO', 'AMAL', 'AMRN', 'AMRK', 'AMZN', 'AMBC', 'AMBA', 'AMCX', 'AMCI', 'AMCIU', 'AMCIW', 'DOX', 'AMED', 'AMTB', 'AMTBB', 'UHAL', 'AMRH', 'AMRHW', 'ATAX', 'AMOV', 'AAL', 'AEP', 'AEPPL', 'AEPPZ', 'AFIN', 'AFINP', 'AMNB', 'ANAT', 'AOUT', 'APEI', 'AREC', 'AMRB', 'AMSWA', 'AMSC', 'AVCT', 'AVCTW', 'AMWD', 'CRMT', 'ABCB', 'AMSF', 'ASRV', 'ASRVP', 'ATLO', 'AMST', 'AMGN', 'FOLD', 'AMKR', 'AMPH', 'IBUY', 'AMHC', 'AMHCU', 'AMHCW', 'AMYT', 'ASYS', 'AMRS', 'ADI', 'ANAB', 'AVXL', 'ANCN', 'ANDA', 'ANDAR', 'ANDAU', 'ANDAW', 'ANGI', 'ANGO', 'ANIP', 'ANIK', 'ANIX', 'ANNX', 'ANPC', 'ANSS', 'ATRS', 'AEHL', 'ATEX', 'APA', 'APLS', 'APXT', 'APXTU', 'APXTW', 'APHA', 'APOG', 'APEN', 'AINV', 'AMEH', 'APPF', 'APPN', 'AAPL', 'APDN', 'AGTC', 'AMAT', 'AMTI', 'AAOI', 'APLT', 'AUVI', 'APRE', 'APVO', 'APTX', 'APM', 'APTO', 'APYX', 'AQMS', 'AQB', 'AQST', 'ARAV', 'ABUS', 'ABIO', 'RKDA', 'ARCB', 'ACGL', 'ACGLO', 'ACGLP', 'FUV', 'ACTCU', 'ARCE', 'ARCT', 'ARQT', 'ARDX', 'ARNA', 'ARCC', 'ARGX', 'ARDS', 'ARKR', 'ARRY', 'DWCR', 'DWAT', 'AROW', 'ARWR', 'ARTL', 'ARTLW', 'ARTNA', 'AACQ', 'AACQU', 'AACQW', 'ARTW', 'ARVN', 'ARYA', 'ASND', 'APWC', 'ASLN', 'ASML', 'ASPU', 'AZPN', 'AWH', 'ASMB', 'ASRT', 'ASTE', 'AZN', 'ATRO', 'ALOT', 'ASTC', 'ASUR', 'AACG', 'ATRA', 'AVIR', 'ATNX', 'ATHX', 'ATHA', 'ATIF', 'AAME', 'ACBI', 'AUB', 'AUBAP', 'AY', 'ATLC', 'AAWW', 'ATCX', 'ATCXW', 'TEAM', 'ATNI', 'ATOM', 'ATOS', 'BCEL', 'ATRC', 'ATRI', 'LIFE', 'AUBN', 'AUUD', 'AUUDW', 'AUDC', 'AEYE', 'AUPH', 'EARS', 'JG', 'ADSK', 'AUTL', 'ADP', 'AUTO', 'AVDL', 'AHI', 'AVCO', 'ATXI', 'AVEO', 'AVNW', 'CDMO', 'CDMOP', 'AVID', 'RNA', 'AVGR', 'CAR', 'RCEL', 'AVT', 'AVRO', 'AWRE', 'ACLS', 'AXLA', 'AXGN', 'AAXN', 'AXNX', 'AXSM', 'AXTI', 'AYLA', 'AYRO', 'AYTU', 'AZYO', 'AZRX', 'RILY', 'RILYG', 'RILYH', 'RILYI', 'RILYL', 'RILYM', 'RILYN', 'RILYO', 'RILYP', 'RILYZ', 'BOSC', 'BIDU', 'BCPC', 'BLDP', 'BANF', 'BANFP', 'BAND', 'BFC', 'BOCH', 'BMRC', 'BMLP', 'BKSC', 'BOTJ', 'OZK', 'BSVN', 'BFIN', 'BWFG', 'BANR', 'BZUN', 'DFVL', 'DFVS', 'TAPR', 'BBSI', 'GOLD', 'BSET', 'ZTEST', 'BXRX', 'BCML', 'BBQ', 'BCBP', 'BLSA', 'BCTG', 'BECN', 'BEEM', 'BEEMW', 'BEAM', 'BBGI', 'BBBY', 'BGNE', 'BELFA', 'BELFB', 'BLPH', 'BLCM', 'BLU', 'BNFT', 'BNTC', 'BSY', 'BLI', 'BRY', 'BWACU', 'BWMX', 'XAIR', 'BYND', 'BYSI', 'BGCP', 'BCYC', 'BGFV', 'BRPA', 'BRPAR', 'BRPAU', 'BRPAW', 'BIGC', 'BILI', 'BASI', 'BCDA', 'BCDAW', 'BIOC', 'BCRX', 'BDSI', 'BDSX', 'BFRA', 'BIIB', 'BHTG', 'BKYI', 'BIOL', 'BLFS', 'BLRX', 'BMRN', 'BMRA', 'BNGO', 'BNGOW', 'BVXV', 'BNTX', 'BPTH', 'BSGM', 'BSTC', 'TECH', 'BEAT', 'BIVI', 'BTAI', 'BTBT', 'BJRI', 'BDTX', 'BLKB', 'BL', 'BKCC', 'TCPC', 'BLNK', 'BLNKW', 'BLMN', 'BCOR', 'BLBD', 'BHAT', 'BLUE', 'BLCT', 'BKEP', 'BKEPP', 'BPMC', 'ITEQ', 'BMCH', 'BSBK', 'WIFI', 'BOKF', 'BOKFL', 'BNSO', 'BKNG', 'BIMI', 'BRQS', 'BOMN', 'BPFH', 'EPAY', 'BOWX', 'BOWXU', 'BOWXW', 'BOXL', 'BBRX', 'BCLI', 'BWAY', 'BCTX', 'BBI', 'BDGE', 'BBIO', 'BLIN          ', 'BTWNU', 'BWB', 'BRID', 'BCOV', 'BHF', 'BHFAL', 'BHFAO', 'BHFAP', 'BRLI', 'BRLIR', 'BRLIU', 'BRLIW', 'AVGO', 'AVGOP', 'BYFC', 'BWEN', 'BROG', 'BROGW', 'BPY', 'BPYPN', 'BPYPO', 'BPYPP', 'BPYU', 'BPYUP', 'BRKL', 'BCAC', 'BCACU', 'BRKS', 'BRP', 'DOOO', 'BRKR', 'BMTC', 'BSQR', 'BLDR', 'BHSEU', 'BTAQ', 'BTAQU', 'BTAQW', 'BNR', 'BFST', 'CFFI', 'CHRW', 'CCCC', 'CABA', 'CDNS', 'CDZI', 'CZR', 'CSTE', 'CLBS', 'CHY', 'CHI', 'CCD', 'CHW', 'CGO', 'CPZ', 'CSQ', 'CAMP', 'CVGW', 'CALB', 'CALA', 'CALT', 'CALM', 'CLMT', 'CLXT', 'CMBM', 'CATC', 'CAC', 'CAMT', 'CAN', 'CSIQ', 'CGIX', 'CGC', 'CPHC', 'CBNK', 'CCBG', 'CPLP', 'CSWC', 'CSWCL', 'CPTA', 'CPTAG', 'CPTAL', 'CFFN', 'CAPR', 'CSTR', 'CPST', 'CARA', 'CRDF', 'CSII', 'CDLX', 'CATM', 'CDNA', 'CTRE', 'CARG', 'PRTS', 'TAST', 'CARE', 'CARV', 'CASA', 'CWST', 'CASY', 'CASI', 'CASS', 'SAVA', 'CSTL', 'CTRM', 'CATB', 'CBIO', 'CPRX', 'CATY', 'CVCO', 'CBFV', 'CBAT', 'CBMB', 'CBOE', 'CBTX', 'CDK', 'CDW', 'CECE', 'CELC', 'CLDX', 'APOP', 'APOPW', 'CLRB', 'CLRBZ', 'CLLS', 'CBMG', 'CLSN', 'CELH', 'CYAD', 'CETX', 'CETXP', 'CETXW', 'CDEV', 'CNTG', 'CENT', 'CENTA', 'CVCY', 'CNTX', 'CENX', 'CNBKA', 'CNTY', 'CRNT', 'CERC', 'CRNC', 'CERE', 'CEREW', 'CERN', 'CERS', 'CEVA', 'CFBK', 'CFII', 'CFIIU', 'CFIIW', 'CFACU', 'CSBR', 'CHNG', 'CHNGU', 'CTHR', 'GTLS', 'CHTR', 'CHKP', 'CHEK', 'CHEKZ', 'CMPI', 'CKPT', 'CEMI', 'CCXI', 'CHMG', 'CHFS', 'CHMA', 'CSSE', 'CSSEN', 'CSSEP', 'PLCE', 'CMRX', 'CAAS', 'CBPO', 'CCRC', 'JRJC', 'HGSH', 'CIH', 'CJJD', 'CLEU', 'CHNR', 'CREG', 'SXTC', 'CXDC', 'PLIN', 'CD', 'KDNY', 'IMOS', 'COFS', 'CHPM', 'CHPMU', 'CHPMW', 'CDXC', 'CHSCL', 'CHSCM', 'CHSCN', 'CHSCO', 'CHSCP', 'CHDN', 'CHUY', 'CDTX', 'CIIC', 'CIICU', 'CIICW', 'CMCT', 'CMCTP', 'CMPR', 'CNNB', 'CINF', 'CIDM', 'CTAS', 'CRUS', 'CSCO', 'CTRN', 'CTXR', 'CTXRW', 'CZNC', 'CZWI', 'CIZN', 'CTXS', 'CHCO', 'CIVB', 'CLAR', 'CLNE', 'CLSK', 'CACG', 'YLDE', 'LRGE', 'CLFD', 'CLRO', 'CLPT', 'CLSD', 'CLIR', 'CBLI', 'CLVS', 'CLPS', 'CMLF', 'CMLFU', 'CMLFW', 'CCMP', 'CME', 'CCNE', 'CCNEP', 'CNSP', 'CCB', 'COKE', 'COCP', 'CODA', 'CCNC', 'CDXS', 'CODX', 'CDAK', 'CVLY', 'JVA', 'COGT', 'CCOI', 'CGNX', 'CTSH', 'CWBR', 'COHR', 'CHRS', 'COHU', 'CGRO', 'CGROU', 'CGROW', 'CLCT', 'COLL', 'CIGI', 'CLGN', 'CBAN', 'CSCW', 'COLB', 'CLBK', 'COLM', 'CMCO', 'CMCSA', 'CBSH', 'CVGI', 'COMM', 'JCS', 'ESXB', 'CFBI', 'CTBI', 'CWBC', 'CVLT', 'CMPS', 'CMPX', 'CGEN', 'CPSI', 'CTG', 'SCOR', 'CHCI', 'CMTL', 'CNXCV', 'CNCE', 'BBCP', 'CDOR', 'CNDT', 'CFMS', 'CNFR', 'CNFRL', 'CNMD', 'CNOB', 'CONN', 'CNSL', 'CWCO', 'CNST', 'ROAD', 'CPSS', 'CFRX', 'CPTI', 'CONXU', 'CPRT', 'CRBP', 'CORT', 'CORE', 'CSOD', 'CRSR', 'CRTX', 'CLDB', 'CRVL', 'KOR', 'CRVS', 'CSGP', 'COST', 'CPAH', 'ICBK', 'COUP', 'CVLG', 'CVET', 'COWN', 'COWNL', 'COWNZ', 'CPSH', 'CRAI', 'CBRL', 'CRTD', 'CRTDW', 'CREX', 'CREXW', 'CACC', 'GLDI', 'SLVO', 'USOI', 'CREE', 'CRSA', 'CRSAU', 'CRSAW', 'CCAP', 'CRESY', 'CXDO', 'CRNX', 'CRSP', 'CRTO', 'CROX', 'CRON', 'CCRN', 'CFB', 'CRWD', 'CRWS', 'CYRX', 'CSGS', 'CCLP', 'CSPI', 'CSWI', 'CSX', 'CTIC', 'CUE', 'CPIX', 'CMLS', 'CVAC', 'CURI', 'CURIW', 'CRIS', 'CUTR', 'CVBF', 'CVV', 'CYAN', 'CYBR', 'CYBE', 'CYCC', 'CYCCP', 'CYCN', 'CBAY', 'CYRN', 'CONE', 'CYTK', 'CTMX', 'CTSO', 'DADA', 'DJCO', 'DAKT', 'DARE', 'DRIO', 'DRIOW', 'DSKE', 'DSKEW', 'DAIO', 'DDOG', 'DTSS', 'PLAY', 'DTEA', 'DFNL', 'DINT', 'DUSA', 'DWLD', 'DWSN', 'DBVT', 'DCRBU', 'DCPH', 'DFHT', 'DFHTU', 'DFHTW', 'IBBJ', 'TACO', 'DCTH', 'DEMZ', 'DNLI', 'DENN', 'XRAY', 'DRMT', 'DMTK', 'DXLG', 'DSWL', 'DXCM', 'DFPH', 'DFPHU', 'DFPHW', 'DMAC', 'DHIL', 'FANG', 'DRNA', 'DFFN', 'DGII', 'DMRC', 'EQOS', 'EQOSW', 'DRAD', 'DRADP', 'DGLY', 'APPS', 'DCOM', 'DCOMP', 'DIOD', 'DRTT', 'DISCA', 'DISCB', 'DISCK', 'DISH', 'DHC', 'DHCNI', 'DHCNL', 'DLHC', 'BOOM', 'DOCU', 'DOGZ', 'DLTR', 'DLPN', 'DLPNW', 'DOMO', 'DGICA', 'DGICB', 'DMLP', 'DORM', 'DDI', 'DOYU', 'DKNG', 'LYL', 'DGNS', 'DBX', 'DSPG', 'DCT', 'DSACU', 'DLTH', 'DNKN', 'DUOT', 'DRRX', 'DXPE', 'DYAI', 'DYNT', 'DVAX', 'DYN', 'DZSI', 'ETAC', 'ETACU', 'ETACW', 'SSP', 'EBMT', 'EGBN', 'EGLE', 'EGRX', 'IGLE', 'EAR', 'ERES', 'ERESU', 'ERESW', 'ESSC', 'ESSCR', 'ESSCU', 'ESSCW', 'EWBC', 'EBC', 'EML', 'EAST', 'EVGBC', 'EVSTC', 'EVLMC', 'EBON', 'EBAY', 'EBAYL', 'EBIX', 'ECHO', 'SATS', 'MOHO', 'EDAP', 'EDSA', 'EDIT', 'ADOCU', 'EDUC', 'EGAN', 'EH', 'EHTH', 'EIDX', 'EIGR', 'EKSO', 'LOCO', 'ESLT', 'SOLO', 'SOLOW', 'ECOR', 'EA', 'ELSE', 'ESBK', 'ELOX', 'ELTK', 'ELYS', 'EMCF', 'EMKR', 'ENTA', 'ECPG', 'WIRE', 'ENDP', 'NDRA', 'NDRAW', 'EIGI', 'WATT', 'EFOI', 'ERII', 'ENG', 'ENLV', 'ENOB', 'ENPH', 'ESGR', 'ESGRO', 'ESGRP', 'ETTX', 'ENTG', 'ENTX', 'ENTXW', 'EBTC', 'EFSC', 'EOSE', 'EOSEW', 'EPZM', 'PLUS', 'EPSN', 'EQ', 'EQIX', 'EQBK', 'ERIC', 'ERIE', 'ERYP', 'ESCA', 'ESPR', 'GMBL', 'GMBLW', 'ESQ', 'ESSA', 'EPIX', 'ESTA', 'VBND', 'VUSE', 'VIDI', 'ETON', 'ETSY', 'EUCRU', 'CLWT', 'EDRY', 'EEFT', 'ESEA', 'EVLO', 'EVBG', 'EVK', 'EVER', 'MRAM', 'EVOP', 'EVFM', 'EVGN', 'EVOK', 'EOLS', 'EVOL', 'EXAS', 'XGN', 'ROBO', 'XELA', 'EXEL', 'EXC', 'EXFO', 'XCUR', 'EXLS', 'EXPI', 'EXPE', 'EXPD', 'EXPC', 'EXPCU', 'EXPCW', 'EXPO', 'STAY', 'EXTR', 'EYEG', 'EYEN', 'EYPT', 'EZPW', 'FLRZ', 'FFIV', 'FB', 'FCACU', 'FLMN', 'FLMNW', 'DUO', 'FANH', 'FARM', 'FMAO', 'FMNB', 'FAMI', 'FARO', 'FAST', 'FAT', 'FATBP', 'FATBW', 'FATE', 'FTHM', 'FBSS', 'FNHC', 'FENC', 'GSM', 'FFBW', 'FGEN', 'FDBC', 'ONEQ', 'FDUS', 'FDUSG', 'FDUSL', 'FDUSZ', 'FRGI', 'FITB', 'FITBI', 'FITBO', 'FITBP', 'FISI', 'FSRV', 'FSRVU', 'FSRVW', 'FTIV', 'FTIVU', 'FTIVW', 'FEYE', 'FBNC', 'FNLC', 'FRBA', 'BUSE', 'FBIZ', 'FCAP', 'FCBP', 'FCNCA', 'FCNCP', 'FCBC', 'FCCO', 'FCRD', 'FFBC', 'FFIN', 'THFF', 'FFNW', 'FFWM', 'FGBI', 'FHB', 'INBK', 'INBKL', 'INBKZ', 'FIBK', 'FRME', 'FMBH', 'FMBI', 'FMBIO', 'FMBIP', 'FXNC', 'FNWB', 'FSFG', 'FSEA', 'FSLR', 'FAAR', 'FPA', 'BICK', 'FBZ', 'FTHI', 'FCAL', 'FTCS', 'FCEF', 'FCA', 'SKYY', 'RNDM', 'FDT', 'FDTS', 'FVC', 'FV', 'IFV', 'DDIV', 'DVOL', 'DVLU', 'DWPP', 'DALI', 'FDNI', 'FEM', 'RNEM', 'FEMB', 'FEMS', 'FTSM', 'FEP', 'FEUZ', 'FGM', 'FTGC', 'FTLB', 'HYLS', 'NFTY', 'FTAG', 'FTRI', 'LEGR', 'NXTG', 'FPXI', 'FPXE', 'FJP', 'FEX', 'FTC', 'RNLC', 'FTA', 'FLN', 'LMBS', 'LDSF', 'FMB', 'FMK', 'FNX', 'FNY', 'RNMC', 'FNK', 'FAD', 'FAB', 'MDIV', 'MCEF', 'FMHI', 'QABA', 'ROBT', 'FTXO', 'QCLN', 'GRID', 'CIBR', 'FTXG', 'CARZ', 'FTXN', 'FTXH', 'FTXD', 'FTXL', 'TDIV', 'FTXR', 'QQEW', 'QQXT', 'QTEC', 'AIRR', 'RDVY', 'RFAP', 'RFDI', 'RFEM', 'RFEU', 'FID', 'FTSL', 'FYX', 'FYC', 'RNSC', 'FYT', 'SDVY', 'FCVT', 'FDIV', 'FSZ', 'FIXD', 'TUSA', 'FKU', 'RNDV', 'FUNC', 'FUSB', 'MYFW', 'FCFS', 'SVVC', 'FSV', 'FISV', 'FIVE', 'FPRX', 'FVE', 'FIVN', 'FLEX', 'FLXN', 'SKOR', 'ASET', 'ESG', 'ESGG', 'LKOR', 'QLC', 'MBSD', 'FPAY', 'FLXS', 'FLIR', 'FLWR', 'FLNT', 'FLDM', 'FFIC', 'FLUX', 'FNCB', 'FOCS', 'FHTX', 'FONR', 'FRSX', 'FMTX', 'FORM', 'FORTY', 'FORR', 'FBRX', 'FRTA', 'FTNT', 'FBIO', 'FBIOP', 'FIII', 'FIIIU', 'FIIIW', 'FWRD', 'FORD', 'FWP', 'FOSL', 'FOX', 'FOXA', 'FOXF', 'FRAN', 'FRG', 'FRGAP', 'FELE', 'FRAF', 'FRHC', 'FRLN', 'RAIL', 'FEIM', 'FREQ', 'FRPT', 'FTDR', 'FRPH', 'FSBW', 'FSDC', 'HUGE', 'FTOC', 'FTOCU', 'FTOCW', 'FTEK', 'FCEL', 'FULC', 'FLGT', 'FORK', 'FLL', 'FMAX', 'FULT', 'FULTP', 'FNKO', 'FUSN', 'FUTU', 'FTFT', 'FFHL', 'FVCB', 'GMVD', 'WILC', 'GTHX', 'GAIA', 'GLPG', 'GALT', 'GLTO', 'GRTX', 'GLMD', 'GMDA', 'GLPI', 'GAN', 'GRMN', 'GLIBA', 'GLIBP', 'GCMG', 'GCMGW', 'GDS', 'GNSS', 'GENC', 'GFN', 'GFNCP', 'GFNSL', 'GFNSZ', 'GBIO', 'GENE', 'GTH', 'GNFT', 'GNUS', 'GMAB', 'GNMK', 'GNCA', 'GNPX', 'GNTX', 'THRM', 'GEOS', 'GOVX', 'GOVXW', 'GABC', 'GERN', 'GEVO', 'ROCK', 'GIGM', 'GIII', 'GILT', 'GILD', 'GBCI', 'GLAD', 'GLADD', 'GLADL', 'GOOD', 'GOODM', 'GOODN', 'GAIN', 'GAINL', 'GAINM', 'LAND', 'LANDO', 'LANDP', 'GLBZ', 'GBT', 'GBLI', 'GBLIL', 'SELF', 'GWRS', 'AIQ', 'DRIV', 'POTX', 'CHB', 'CTEC', 'CLOU', 'KRMA', 'BUG', 'VPN', 'DAX', 'EBIZ', 'EDUT', 'EWEB', 'FINX', 'CHIC', 'GNOM', 'BFIT', 'SNSR', 'LNGR', 'MILN', 'EFAS', 'QYLG', 'QYLD', 'BOTZ', 'CATH', 'CEFA', 'SOCL', 'ALTY', 'SRET', 'EDOC', 'GXTG', 'HERO', 'YLCO', 'GLBS', 'GSMG', 'GSMGW', 'GLUU', 'GLYC', 'GOGO', 'GOCO', 'GLNG', 'GMLP', 'GMLPP', 'GDEN', 'GOGL', 'GBDC', 'GTIM', 'GWACU', 'GBLK', 'GDRX', 'GSHD', 'GPRO', 'GHIV', 'GHIVU', 'GHIVW', 'GRSV', 'GRSVU', 'GRSVW', 'GHVI', 'GHVIU', 'GMHI', 'GMHIU', 'GMHIW', 'GOSS', 'LOPE', 'GRVY', 'GRAY', 'GECC', 'GECCL', 'GECCM', 'GECCN', 'GEC', 'GLDD', 'GSBC', 'GRBK', 'GPP', 'GPRE', 'GRCY', 'GRCYU', 'GRCYW', 'GCBC', 'GTEC', 'GNLN', 'GLRE', 'GP', 'GRNQ', 'GNRS', 'GNRSU', 'GNRSW', 'GSKY', 'GRNV', 'GRNVR', 'GRNVU', 'GRNVW', 'GLSI', 'GDYN', 'GDYNW', 'GSUM', 'GRIF', 'GRFS', 'GRIN', 'GRTS', 'GO', 'GRPN', 'GRWG', 'OMAB', 'GGAL', 'GVP', 'GSIT', 'GTYH', 'GNTY', 'GFED', 'GH', 'GHSI', 'GIFI', 'GURE', 'GPOR', 'GWPH', 'GWGH', 'GXGX', 'GXGXU', 'GXGXW', 'GYRO', 'HEES', 'HLG', 'HOFV', 'HOFVW', 'HNRG', 'HALL', 'HALO', 'HLNE', 'HJLI', 'HJLIW', 'HWC', 'HWCPL', 'HWCPZ', 'HAFC', 'HAPP', 'HCDI', 'HONE', 'HLIT', 'HRMY', 'HARP', 'HROW', 'HBIO', 'HCAP', 'HCAPZ', 'HAS', 'HA', 'HWKN', 'HWBK', 'HYAC', 'HYACU', 'HYACW', 'HAYN', 'HBT', 'HDS', 'HHR', 'HAACU', 'HCAT', 'HSAQ', 'HCAR', 'HCARU', 'HCSG', 'HTIA', 'HQY', 'HSTM', 'HTLD', 'HTLF', 'HTLFP', 'HTBX', 'HSII', 'HELE', 'HLIO', 'HSDT', 'HLXA', 'HMTV', 'HNNA', 'HCAC', 'HCACU', 'HCACW', 'HSIC', 'HEPA', 'HTBK', 'HFWA', 'HGBL', 'HCCI', 'MLHR', 'HRTX', 'HSKA', 'HX', 'HFEN', 'HFFG', 'HIBB', 'CAPA', 'CAPAU', 'CAPAW', 'SNLN', 'HPK', 'HPKEW', 'HIHO', 'HIMX', 'HIFS', 'HQI', 'HSTO', 'HKIT', 'HCCH', 'HCCHR', 'HCCHU', 'HCCHW', 'HMNF', 'HMSY', 'HOL', 'HOLUU', 'HOLUW', 'HOLI', 'HOLX', 'HBCP', 'HOMB', 'HFBL', 'HMST', 'HTBI', 'FIXX', 'HOFT', 'HOOK', 'HOPE', 'HBNC', 'HRZN', 'HZNP', 'HST', 'TWNK', 'TWNKW', 'HOTH', 'HMHC', 'HWCC', 'HOVNP', 'HBMD', 'HTGM', 'HTHT', 'HUBG', 'HUSN', 'HEC', 'HECCU', 'HECCW', 'HSON', 'HDSN', 'HUIZ', 'HGEN', 'HBAN', 'HBANN', 'HBANO', 'HURC', 'HURN', 'HCM', 'HBP', 'HVBC', 'HYMC', 'HYMCW', 'HYMCZ', 'HYGO', 'HYRE', 'IIIV', 'IAC', 'IBEX', 'ICAD', 'IEP', 'ICCH', 'ICFI', 'ICHR', 'ICLK', 'ICLR', 'ICON', 'ICUI', 'IPWR', 'IDEX', 'IDYA', 'INVE', 'IDRA', 'IDXX', 'IEC', 'IESC', 'IROQ', 'IFMK', 'IGACU', 'IGMS', 'IHRT', 'INFO', 'IIVI', 'IIVIP', 'IKNX', 'ILMN', 'IMAB', 'IMAC', 'IMACW', 'ISNS', 'IMRA', 'IMBI', 'IMTX', 'IMTXW', 'IMMR', 'ICCC', 'IMUX', 'IMGN', 'IMNM', 'IMVT', 'IMRN', 'IMRNW', 'IMMP', 'PI', 'IMV', 'INAB', 'NARI', 'INCY', 'INDB', 'IBCP', 'IBTX', 'ILPT', 'ITAC', 'ITACU', 'ITACW', 'INFN', 'INFI', 'IFRX', 'III', 'IEA', 'IEAWW', 'IMKTA', 'IKT', 'INBX', 'INM', 'INMD', 'INMB', 'IPHA', 'INOD', 'IOSP', 'ISSC', 'INVA', 'INGN', 'INOV', 'INO', 'INZY', 'IPHI', 'INPX', 'INSG', 'NSIT', 'ISIG', 'INSM', 'INSE', 'IIIN', 'INAQ', 'INAQU', 'INAQW', 'PODD', 'NTEC', 'IART', 'IMTE', 'INTC', 'NTLA', 'IDN', 'IPAR', 'IBKR', 'ICPT', 'IDCC', 'TILE', 'IBOC', 'IGIC', 'IGICW', 'IMXI', 'IDXG', 'XENT', 'IPLDP', 'IVAC', 'ITCI', 'IIN', 'INTZ', 'INTU', 'ISRG', 'IVA', 'PLW', 'ADRE', 'BSCK', 'BSJK', 'BSCL', 'BSJL', 'BSML', 'BSAE', 'BSCM', 'BSJM', 'BSMM', 'BSBE', 'BSCN', 'BSJN', 'BSMN', 'BSCE', 'BSCO', 'BSJO', 'BSMO', 'BSDE', 'BSCP', 'BSJP', 'BSMP', 'BSCQ', 'BSJQ', 'BSMQ', 'BSCR', 'BSJR', 'BSMR', 'BSCS', 'BSJS', 'BSMS', 'BSCT', 'BSMT', 'BSCU', 'BSMU', 'PKW', 'PFM', 'PYZ', 'PEZ', 'PSL', 'PIZ', 'PIE', 'PXI', 'PFI', 'PTH', 'PRN', 'PDP', 'DWAS', 'PTF', 'PUI', 'IDLB', 'PRFZ', 'PIO', 'PGJ', 'PEY', 'IPKW', 'PID', 'KBWB', 'KBWD', 'KBWY', 'KBWP', 'KBWR', 'QQQM', 'PNQI', 'QQQJ', 'PDBC', 'QQQ', 'ISDX', 'ISEM', 'IUS', 'IUSS', 'USLB', 'PSCD', 'PSCC', 'PSCE', 'PSCF', 'PSCH', 'PSCI', 'PSCT', 'PSCM', 'PSCU', 'VRIG', 'PHO', 'ISTR', 'CMFNL', 'ICMB', 'ISBC', 'ITIC', 'NVIV', 'INVO', 'IONS', 'IOVA', 'IPGP', 'CLRG', 'CSML', 'IQ', 'IRMD', 'IRTC', 'IRIX', 'IRDM', 'IRBT', 'IRWD', 'IRCP', 'SLQD', 'ISHG', 'SHY', 'IGSB', 'TLT', 'IEI', 'IGIB', 'IEF', 'AIA', 'USIG', 'COMT', 'ISTB', 'IXUS', 'IUSG', 'IUSV', 'IUSB', 'HEWG', 'HYXF', 'DMXF', 'EMXF', 'USXF', 'SUSB', 'ESGD', 'ESGE', 'ESGU', 'SUSC', 'LDEM', 'SUSL', 'XT', 'FALN', 'IFGL', 'BGRN', 'IGF', 'GNMA', 'IBTA', 'IBTB', 'IBTD', 'IBTE', 'IBTF', 'IBTG', 'IBTH', 'IBTI', 'IBTJ', 'IBTK', 'IGOV', 'EMB', 'MBB', 'JKI', 'ACWX', 'ACWI', 'AAXJ', 'EWZS', 'MCHI', 'SCZ', 'EEMA', 'EMXC', 'EUFN', 'IEUS', 'RING', 'SDG', 'EWJE', 'EWJV', 'ENZL', 'QAT', 'TUR', 'UAE', 'IBB', 'SOXX', 'PFF', 'AMCA', 'EMIF', 'ICLN', 'WOOD', 'INDY', 'IJT', 'DVY', 'SHV', 'ITMR', 'ITOS', 'ITI', 'ITRM', 'ITRI', 'ITRN', 'ISEE', 'IZEA', 'JJSF', 'MAYS', 'JBHT', 'JCOM', 'JCIC', 'JCICU', 'JKHY', 'JACK', 'JAGX', 'JAKK', 'JRVR', 'JAMF', 'JAN', 'JSML', 'JSMD', 'JAZZ', 'JD', 'JRSH', 'JBLU', 'JCTCF', 'FROG', 'JFIN', 'JYAC', 'JMPNL', 'JMPNZ', 'JBSS', 'JOUT', 'JNCE', 'YY', 'JAQC', 'JAQCU', 'JUPW', 'JUPWW', 'KDMN', 'KALU', 'KXIN', 'KALA', 'KLDO', 'KALV', 'KMDA', 'KNDI', 'KRTX', 'KPTI', 'KSPN', 'KZIA', 'KBSF', 'KRNY', 'KELYA', 'KELYB', 'KFFB', 'KROS', 'KDP', 'KEQU', 'KTCC', 'KZR', 'KFRC', 'KE', 'KBAL', 'KIN', 'KC', 'KINS', 'KNSA', 'KINZ', 'KINZU', 'KNSL', 'KTRA', 'KIRK', 'KRBP', 'KSMT', 'KSMTU', 'KSMTW', 'KTOV', 'KTOVW', 'KLAC', 'KLXE', 'KOD', 'KOPN', 'KRNT', 'KOSS', 'KWEB', 'KTOS', 'KRON', 'KRYS', 'KBNT', 'KBNTW', 'KLIC', 'KURA', 'KRUS', 'KVHI', 'KYMR', 'FSTR', 'LJPC', 'LSBK', 'LBAI', 'LKFN', 'LAKE', 'LRCX', 'LAMR', 'LANC', 'LCA', 'LCAHU', 'LCAHW', 'LCYAU', 'LNDC', 'LARK', 'LMRK', 'LMRKN', 'LMRKO', 'LMRKP', 'LE', 'LSTR', 'LTRN', 'LNTH', 'LTRX', 'LRMR', 'LSCC', 'LAUR', 'LAWS', 'LAZY', 'LCNB', 'LPTX', 'LFTRU', 'LEGH', 'LEGO', 'LEGOU', 'LEGN', 'INFR', 'LVHD', 'SQLV', 'LACQ', 'LACQU', 'LACQW', 'LMAT', 'TREE', 'LNSR', 'LESL', 'LEVL', 'LEVLP', 'LXRX', 'LX', 'LFAC', 'LFACU', 'LFACW', 'LGIH', 'LHCG', 'LI', 'LLIT', 'LBRDA', 'LBRDK', 'LBTYA', 'LBTYB', 'LBTYK', 'LILA', 'LILAK', 'BATRA', 'BATRK', 'FWONA', 'FWONK', 'LSXMA', 'LSXMB', 'LSXMK', 'LTRPA', 'LTRPB', 'LSAC', 'LSACU', 'LSACW', 'LCUT', 'LFVN', 'LWAY', 'LGND', 'LTBR', 'LPTH', 'LMB', 'LLNW', 'LMST', 'LMNL', 'LMNR', 'LINC', 'LECO', 'LIND', 'LGHL', 'LGHLW', 'LCAP', 'LCAPU', 'LCAPW', 'LPCN', 'LIQT', 'YVR', 'LQDA', 'LQDT', 'LFUS', 'LIVK', 'LIVKU', 'LIVKW', 'LIVN', 'LOB', 'LIVE', 'LPSN', 'LIVX', 'LXEH', 'LIXT', 'LIXTW', 'LIZI', 'LKQ', 'LMFA', 'LMPX', 'LOGC', 'LOGI', 'CNCR', 'CHNA', 'LOAC', 'LOACR', 'LOACU', 'LOACW', 'LOOP', 'LORL', 'RIDE', 'RIDEW', 'LPLA', 'LYTS', 'LULU', 'LITE', 'LMNX', 'LUMO', 'LUNA', 'LKCO', 'LBC', 'LUXAU', 'LYFT', 'LYRA', 'MCBC', 'MFNC', 'MTSI', 'MGNX', 'MDGL', 'MAGS', 'MGLN', 'MGTA', 'MGIC', 'MGNI', 'MGYR', 'MHLD', 'MNSB', 'MNSBP', 'MMYT', 'MLAC', 'MLACU', 'MLACW', 'MBUU', 'MACUU', 'MLVF', 'TUSK', 'MANH', 'LOAN', 'MNTX', 'MTEX', 'MNKD', 'MANT', 'MARA', 'MRVI', 'MCHX', 'MRIN', 'MARPS', 'MRNS', 'MRKR', 'MKTX', 'MRLN', 'MAR', 'MBII', 'MRTN', 'MMLP', 'MRVL', 'MASI', 'MCFT', 'MTCH', 'MTLS', 'MTRX', 'MAT', 'MATW', 'MVNR', 'MAXN', 'MXIM', 'MCFE', 'MGRC', 'MDCA', 'MDJH', 'MDRR', 'MDRRP', 'MBNKP', 'MFIN', 'MFINL', 'MDVL', 'MDIA', 'MDNA', 'MNOV', 'MDGS', 'MDGSW', 'MDWD', 'MEDP', 'MEIP', 'MGTX', 'MLCO', 'MTSL', 'MELI', 'MBWM', 'MERC', 'MBIN', 'MBINO', 'MBINP', 'MFH', 'MRCY', 'MREO', 'MCMJ', 'MCMJW', 'EBSB', 'VIVO', 'MRBK', 'MMSI', 'SNUG', 'MACK', 'MRSN', 'MRUS', 'MESA', 'MLAB', 'MESO', 'CASH', 'MTCR', 'METX', 'METXW', 'MEOH', 'MCBS', 'MGEE', 'MGPI', 'MBOT', 'MCHP', 'MU', 'MSFT', 'MSTR', 'MVIS', 'MICT', 'MPB', 'MTP', 'MCEP', 'MBCN', 'MSEX', 'MSBI', 'MSVB', 'MOFG', 'MIST', 'MLND', 'TIGO', 'MIME', 'MDXG', 'MNDO', 'MIND', 'MINDP', 'NERV', 'YGMZ', 'MGEN', 'MRTX', 'MIRM', 'MSON', 'AVO', 'MITK', 'MKSI', 'MMAC', 'MTC', 'MOBL', 'MRNA', 'MOGO', 'MWK', 'MKD', 'MTEM', 'MBRX', 'MOMO', 'MKGI', 'MCRI', 'MDLZ', 'MGI', 'MDB', 'MNCL', 'MNCLU', 'MNCLW', 'MPWR', 'MNPR', 'MNRO', 'MRCC', 'MRCCL', 'MNST', 'MAACU', 'MORN', 'MORF', 'MOR', 'MOSY', 'MOTNU', 'MPAA', 'MOTS', 'MCAC', 'MCACR', 'MCACU', 'MOXC', 'COOP', 'MTBC', 'MTBCP', 'MTSC', 'GRIL', 'MBIO', 'MVBF', 'MYSZ', 'MYRG', 'MYGN', 'NBRV', 'NAKD', 'NNDM', 'NSTG', 'NAOV', 'NNOX', 'NH', 'NK', 'NSSC', 'NDAQ', 'NTRA', 'NATH', 'NKSH', 'FIZZ', 'NCMI', 'NESR', 'NESRW', 'NGHC', 'NGHCN', 'NGHCO', 'NGHCP', 'NGHCZ', 'NHLD', 'NHLDW', 'NATI', 'NRC', 'NSEC', 'EYE', 'NWLI', 'NAII', 'NHTC', 'NOACU', 'NATR', 'NTUS', 'JSM', 'NAVI', 'NMCI', 'NBTB', 'NCNO', 'NCSM', 'NKTR', 'NMRD', 'NEOG', 'NEO', 'NLTX', 'NEON', 'NEOS', 'NVCN', 'NEPH', 'NEPT', 'UEPS', 'NETE', 'NTAP', 'NTES', 'NFLX', 'NTGR', 'NTCT', 'NTWK', 'NBSE', 'NRBO', 'NBIX', 'NURO', 'STIM', 'NTRP', 'NFE', 'NMFC', 'NMFCL', 'NPA', 'NPAUU', 'NPAWW', 'NYMT', 'NYMTM', 'NYMTN', 'NYMTO', 'NYMTP', 'NBEV', 'NEWA', 'NBAC', 'NBACR', 'NBACU', 'NBACW', 'NWL', 'NHIC', 'NHICU', 'NHICW', 'NMRK', 'NWS', 'NWSA', 'NEWT', 'NEWTI', 'NEWTL', 'NXMD', 'NXST', 'NXTC', 'NEXT', 'NGACU', 'NXGN', 'NGM', 'NODK', 'EGOV', 'NICE', 'NICK', 'NCBS', 'NKLA', 'NISN', 'NIU', 'NKTX', 'LASR', 'NLSP', 'NMIH', 'NNBR', 'NBLX', 'NDLS', 'NDSN', 'NSYS', 'NMMC', 'NMMCU', 'NMMCW', 'NBN', 'NTIC', 'NTRS', 'NTRSO', 'NFBK', 'NRIM', 'NWBI', 'NWPX', 'NWE', 'NLOK', 'NCLH', 'NWFL', 'NVFY', 'NVMI', 'NOVN', 'NOVT', 'NVAX', 'NVCR', 'NOVS', 'NOVSU', 'NOVSW', 'NVUS', 'NUAN', 'NCNA', 'NRIX', 'NTNX', 'NUVA', 'QQQX', 'NUZE', 'NVEE', 'NVEC', 'NVDA', 'NXPI', 'NXTD', 'NYMX', 'OIIM', 'OVLY', 'OCSL', 'OCSI', 'OMP', 'OAS', 'OBLN', 'OBSV', 'OBCI', 'OPTT', 'OCFC', 'OCFCP', 'OFED', 'OCGN', 'OCUL', 'OCUP', 'ODT', 'OMEX', 'OPI', 'OPINI', 'OPINL', 'OFS', 'OFSSG', 'OFSSI', 'OFSSL', 'OFSSZ', 'OCCI', 'OCCIP', 'OVBC', 'OKTA', 'ODFL', 'ONB', 'OPOF', 'OSBC', 'OLMA', 'OLLI', 'ZEUS', 'OFLX', 'OMER', 'OMCL', 'ON', 'ONCY', 'ONTX', 'ONTXW', 'ONCR', 'ONCS', 'ONCT', 'OSS', 'OSPN', 'OSW', 'ONEW', 'OTRK', 'OTRKP', 'OPBK', 'LPRO', 'OTEX', 'OPRA', 'OPES', 'OPESU', 'OPESW', 'OPGN', 'OPNT', 'OPK', 'OPRT', 'OPT', 'OBAS', 'OCC', 'OPRX', 'OPHC', 'OPTN', 'OPCH', 'ORMP', 'OSUR', 'ORBC', 'OEG', 'ORTX', 'ORLY', 'OGI', 'ORGO', 'ONVO', 'ORGS', 'ORIC', 'SEED', 'OBNK', 'OESX', 'ORPH', 'ORRF', 'OFIX', 'KIDS', 'OSIS', 'OSMT', 'OSN', 'OTEL', 'OTG', 'OTIC', 'OTRAU', 'OTTR', 'OTLK', 'OTLKW', 'OM', 'OSTK', 'OVID', 'OXBR', 'OXBRW', 'OXFD', 'OXLC', 'OXLCM', 'OXLCO', 'OXLCP', 'OXSQ', 'OXSQL', 'OXSQZ', 'OYST', 'PFIN', 'PTSI', 'PCAR', 'HERD', 'ECOW', 'VETS', 'PACB', 'PEIX', 'PMBC', 'PPBI', 'PCRX', 'PTVE', 'PACW', 'PAE', 'PAEWW', 'PRFX', 'PLMR', 'PAAS', 'PAND', 'PANL', 'PZZA', 'PRTK', 'PCYG', 'PKBK', 'PKOH', 'PTNR', 'PTRS', 'PASG', 'PBHC', 'PATK', 'PNBK', 'PATI', 'PDCO', 'PTEN', 'PAVM', 'PAVMW', 'PAVMZ', 'PXMD', 'PXMDW', 'PAYA', 'PAYAW', 'PAYX', 'PCTY', 'PYPL', 'PAYS', 'CNXN', 'PCB', 'PCIM', 'PCSB', 'PCTI', 'PDCE', 'PDFS', 'PDLI', 'PDLB', 'PDSB', 'PGC', 'PEGA', 'PTON', 'PENN', 'PVAC', 'PFLT', 'PNNT', 'PNNTG', 'PWOD', 'PEBO', 'PEBK', 'PFIS', 'PBCT', 'PBCTP', 'PEP', 'PRCP', 'PRDO', 'PRFT', 'PSHG', 'PFMT', 'PERI', 'PESI', 'PPIH', 'PSNL', 'PETQ', 'PETS', 'PAIC', 'PAICU', 'PAICW', 'PFSW', 'PGTI', 'PHAS', 'PHAT', 'PAHC', 'PHIO', 'PHIOW', 'PLAB', 'PHUN', 'PHUNW', 'PICO', 'PLL', 'PIRS', 'PPC', 'PDD', 'PME', 'PNFP', 'PNFPP', 'PT', 'PBFS', 'PPSI', 'PXLW', 'PLYA', 'PLXS', 'PLRX', 'PLUG', 'PLBC', 'PS', 'PSTI', 'PSTV', 'PLXP', 'PMVP', 'PCOM', 'POLA', 'PTE', 'PYPD', 'POOL', 'BPOP', 'BPOPM', 'BPOPN', 'PHICU', 'KCAPL', 'PTMN', 'PSTX', 'PBPB', 'PCH', 'POWL', 'POWI', 'PBTS', 'PWFL', 'PPD', 'PRAA', 'PRAH', 'PRAX', 'PGEN', 'PRPO', 'DTIL', 'POAI', 'PFBC', 'PLPC', 'PRLD', 'PFBI', 'PFC', 'PINC', 'SQFT', 'PBIO', 'PRVL', 'PRGX', 'PSMT', 'PNRG', 'PRMW', 'PRIM', 'PFG', 'BTEC', 'PDEV', 'GENY', 'PSET', 'PLC', 'USMC', 'PSC', 'PSM', 'PY', 'PRTH', 'PCSA', 'UFO', 'PDEX', 'IPDN', 'PFHD', 'PFIE', 'PROF', 'PROG', 'PRGS', 'PGNY', 'PFPT', 'PSAC', 'PSACU', 'PSACW', 'PRPH', 'PTAC', 'PTACU', 'PTACW', 'PTICU', 'PRQR', 'EQRR', 'BIB', 'TQQQ', 'SQQQ', 'BIS', 'PSEC', 'PTGX', 'TARA', 'PTVCA', 'PTVCB', 'PTI', 'PRTA', 'PRVB', 'PVBC', 'PROV', 'PBIP', 'PMD', 'PTC', 'PTCT', 'PHCF', 'PULM', 'LUNG', 'PLSE', 'PBYI', 'PCYO', 'PRTC', 'PRPL', 'PRPLW', 'PUYI', 'PXS', 'PXSAP', 'PXSAW', 'QK', 'QADA', 'QADB', 'QCRH', 'QELLU', 'QGEN', 'QIWI', 'QRVO', 'QCOM', 'QLGN', 'QLYS', 'QTRX', 'QMCO', 'QRHC', 'QH', 'QUIK', 'QDEL', 'QNST', 'QUMU', 'QTNT', 'QRTEA', 'QRTEB', 'QRTEP', 'QTT', 'RRD', 'RCM', 'RXT', 'RADA', 'RDCM', 'RADI', 'RDUS', 'RDNT', 'RDWR', 'METC', 'RMBS', 'RAND', 'RNDB', 'RPD', 'RAPT', 'RTLR', 'RAVE', 'RAVN', 'RBB', 'ROLL', 'RICK', 'RCMT', 'RDI', 'RDIB', 'BLCN', 'RNWK', 'RP', 'RETA', 'RCHGU', 'RCON', 'REPH', 'RRBI', 'RRGB', 'RRR', 'RDVT', 'RDFN', 'RDHL', 'REED', 'REG', 'REGN', 'RGNX', 'RGLS', 'REKR', 'RLAY', 'RBNC', 'RELV', 'RLMD', 'MARK', 'RNLX', 'RNST', 'REGI', 'RCII', 'RPTX', 'RPAY', 'RGEN', 'REPL', 'KRMD', 'RBCAA', 'FRBK', 'REFR', 'RSSS', 'RESN', 'RGP', 'ROIC', 'RETO', 'RVNC', 'RVMD', 'RWLK', 'REYN', 'RZLT', 'RFIL', 'RGCO', 'RBKB', 'RYTM', 'RBBN', 'RIBT', 'RELL', 'RMBI', 'RIGL', 'RNET', 'RMNI', 'RIOT', 'REDU', 'RVSB', 'RIVE', 'RMRM', 'RCKT', 'RMTI', 'RCKY', 'RMCF', 'ROKU', 'DBDRU', 'ROOT', 'ROST', 'ROCH', 'ROCHU', 'ROCHW', 'RGLD', 'RPRX', 'RBCN', 'RUBY', 'RUHN', 'RMBL', 'RUSHA', 'RUSHB', 'RUTH', 'RYAAY', 'STBA', 'SANW', 'SBRA', 'SABR', 'SABRP', 'SFET', 'SAFT', 'SGA', 'SAGE', 'SAIA', 'SLRX', 'SALM', 'SAL', 'SMTI', 'SAFM', 'SASR', 'SGMO', 'SANM', 'SNY', 'SPNS', 'SRPT', 'SRSAU', 'STSA', 'SVRA', 'SBFG', 'SBAC', 'SCSC', 'SMIT', 'SCHN', 'SRRK', 'SCHL', 'SDGR', 'SAMA', 'SAMAU', 'SAMAW', 'SJ', 'SGMS', 'SCPL', 'SCPH', 'WORX', 'SCYX', 'SEAC', 'SBCF', 'STX', 'SGEN', 'SHIP', 'SHIPW', 'SHIPZ', 'SPNE', 'EYES', 'EYESW', 'SECO', 'SCWX', 'SNFCA', 'SEEL', 'SEIC', 'SLCT', 'SIC', 'SELB', 'SIGI', 'SLS', 'LEDS', 'SMTC', 'SNCA', 'SENEA', 'SENEB', 'SNES', 'AIHS', 'SRTS', 'SQBG', 'MCRB', 'SVC', 'SREV', 'SFBS', 'SESN', 'SVBI', 'SGBX', 'SGOC', 'SMED', 'SHSP', 'STTK', 'SHEN', 'SFT', 'SFTTW', 'PIXY', 'SCCI', 'TYHT', 'SWAV', 'SCVL', 'SHBI', 'SSTI', 'SIBN', 'SIEB', 'SIEN', 'BSRR', 'SRRA', 'SWIR', 'SIFY', 'SIGA', 'SGLB', 'SGLBW', 'SGMA', 'SBNY', 'SLN', 'SLGN', 'SILC', 'SLAB', 'SIMO', 'SILK', 'SSPK', 'SSPKU', 'SSPKW', 'SAMG', 'SSNT', 'SFNC', 'SLP', 'SINA', 'SBGI', 'SINO', 'SVA', 'SINT', 'SIOX', 'SPQQ', 'SG', 'SIRI', 'SRVA', 'SITM', 'SYTA', 'SYTAW', 'EDTK', 'SKYW', 'SWKS', 'SNBR', 'SLM', 'SLMBP', 'SGH', 'SND', 'SMBK', 'SDC', 'SWBI', 'SMSI', 'SMID', 'SMTX', 'TLMD', 'TLMDW', 'SCKT', 'GIGE', 'SAII', 'SAIIU', 'SAIIW', 'SOHU', 'SLRC', 'SUNS', 'SEDG', 'SLNO', 'SLGL', 'SLDB', 'SNGX', 'SNGXW', 'SOLY', 'SONM', 'SONN', 'SNOA', 'SONO', 'SRNE', 'SOHO', 'SOHOB', 'SOHON', 'SOHOO', 'SFBC', 'SMMC', 'SMMCU', 'SMMCW', 'SPFI', 'SSB', 'SFST', 'SMBC', 'SONA', 'SBSI', 'SY', 'SP', 'SGRP', 'SPKE', 'SPKEP', 'TMTS', 'TMTSU', 'TMTSW', 'SPTN', 'DWFI', 'SPPI', 'SPRO', 'ANY', 'SPI', 'SPEL', 'SAVE', 'STXB', 'SPLK', 'SPOK', 'SPWH', 'SBPH', 'SWTX', 'FUND', 'SPT', 'SFM', 'SPRB', 'SPSC', 'SRAX', 'SSNC', 'SSRM', 'STAA', 'SRAC', 'SRACU', 'SRACW', 'STAF', 'STMP', 'STND', 'SBLK', 'SBLKZ', 'SVAC', 'SVACU', 'SVACW', 'SBUX', 'STFC', 'MITO', 'GASS', 'STCN', 'STLD', 'STEP', 'SRCL', 'SBT', 'STRL', 'SHOO', 'SFIX', 'SYBT', 'STOK', 'BANX', 'STNE', 'SNEX', 'SSKN', 'SSYS', 'STRA', 'HNDL', 'STRT', 'STRS', 'STRM', 'SBBP', 'SUMR', 'SMMF', 'SSBI', 'SMMT', 'WISA', 'SUMO', 'SNBP', 'SNDE', 'SNDL', 'SNSS', 'STKL', 'SPWR', 'RUN', 'SUNW', 'SLGG', 'SMCI', 'SPCB', 'SGC', 'SUPN', 'SPRT', 'SURF', 'SRGA', 'SGRY', 'SRDX', 'SSSS', 'STRO', 'SIVB', 'SIVBP', 'SVMK', 'SWKH', 'SYKE', 'SYNC', 'SYNL', 'SYNA', 'SNCR', 'SNDX', 'SYNH', 'SYBX', 'SNPS', 'SYPR', 'SYRS', 'TROW', 'TTOO', 'TRHC', 'TCMD', 'TAIT', 'TLC', 'TTWO', 'TLND', 'TNDM', 'TANH', 'TAOP', 'TEDU', 'TH', 'THWWW', 'TARS', 'TATT', 'TTCF', 'TTCFW', 'TAYD', 'TSHA', 'TCF', 'TCFCP', 'CGBD', 'TCRR', 'GLG', 'PETZ', 'TCCO', 'TTGT', 'TGLS', 'TECTP', 'TEKKU', 'TELA', 'TNAV', 'TLGT', 'TELL', 'TLS', 'TENB', 'TENX', 'TZAC', 'TZACU', 'TZACW', 'TER', 'TBNK', 'TSLA', 'TESS', 'TTEK', 'TCBI', 'TCBIL', 'TCBIP', 'TXN', 'TXRH', 'TFFP', 'TFSL', 'TGTX', 'TVAC', 'TVACU', 'WTER', 'ANDE', 'TBBK', 'BPRN', 'CG', 'CAKE', 'CHEF', 'TCFC', 'DSGX', 'DXYN', 'ENSG', 'XONE', 'FBMS', 'FLIC', 'GT', 'HCKT', 'HAIN', 'CUBA', 'INTG', 'JYNT', 'KHC', 'OLD', 'LOVE', 'MIK', 'MIDD', 'ODP', 'OLB', 'STKS', 'PECK', 'PNTG', 'PRSC', 'REAL', 'RMR', 'SHYF', 'SMPL', 'TTD', 'YORW', 'NCTY', 'RACA', 'TXMD', 'THTX', 'TBPH', 'THMO', 'THRY', 'THBR', 'THBRU', 'THBRW', 'TLRY', 'TSBK', 'TIPT', 'TITN', 'TMDI', 'TTNP', 'TVTY', 'TLSA', 'TMUS', 'TOMZ', 'TNXP', 'TOPS', 'TRCH', 'TRMD', 'TOTA', 'TOTAR', 'TOTAU', 'TOTAW', 'TBLT', 'TBLTW', 'TSEM', 'TOWN', 'TPIC', 'TCON', 'TSCO', 'TW', 'TACT', 'TRNS', 'TGA', 'TBIO', 'TMDX', 'TA', 'TANNI', 'TANNL', 'TANNZ', 'TZOO', 'TIG', 'TRMT', 'TRVN', 'TRVI', 'TPCO', 'TCDA', 'TCBK', 'TDAC', 'TDACU', 'TDACW', 'TRIL', 'TRS', 'TRMB', 'TRIB', 'TCOM', 'TRIP', 'TSC', 'TSCAP', 'TSCBP', 'TRIT', 'TRITW', 'TBK', 'TBKCP', 'TRVG', 'TRUE', 'TRUP', 'TRST', 'TRMK', 'MEDS', 'TSIAU', 'TSRI', 'TTEC', 'TTMI', 'TC', 'TCX', 'TOUR', 'TMPMU', 'TPTX', 'HEAR', 'THCB', 'THCBU', 'THCBW', 'THCA', 'THCAU', 'THCAW', 'TWCT', 'TWCTU', 'TWCTW', 'TWIN', 'TWST', 'TYME', 'USCR', 'USEG', 'GROW', 'USAU', 'USWS', 'USWSW', 'UCL', 'UK', 'UKOMW', 'UFPI', 'UFPT', 'ULTA', 'UCTT', 'RARE', 'ULBI', 'UMBF', 'UMPQ', 'UNAM', 'LATN', 'LATNU', 'LATNW', 'UNB', 'QURE', 'UAL', 'UBCP', 'UBOH', 'UBSI', 'UCBI', 'UCBIO', 'UFCS', 'UIHC', 'UNFI', 'UBFO', 'USLM', 'UTHR', 'UG', 'UNIT', 'UNTY', 'UBX', 'OLED', 'UEIC', 'ULH', 'USAP', 'UVSP', 'TIGR', 'UPLD', 'UPWK', 'UONE', 'UONEK', 'URBN', 'MYT', 'URGN', 'UROV', 'ECOL', 'ECOLW', 'USAT', 'USAK', 'USIO', 'UTMD', 'UTSI', 'UXIN', 'VCNX', 'VLY', 'VLYPO', 'VLYPP', 'VTEC', 'VALU', 'VNDA', 'BBH', 'ANGL', 'BJK', 'PPH', 'RTH', 'SMH', 'ESPO', 'VWOB', 'VNQI', 'VCIT', 'VGIT', 'VIGI', 'VYMI', 'VCLT', 'VGLT', 'VMBS', 'VONE', 'VONG', 'VONV', 'VTWO', 'VTWG', 'VTWV', 'VTHR', 'VCSH', 'VTIP', 'VGSH', 'BND', 'VTC', 'BNDX', 'VXUS', 'BNDW', 'VREX', 'VRNS', 'VBLT', 'VSTA', 'VXRT', 'PCVX', 'VBIV', 'VACQ', 'VACQU', 'VACQW', 'VECO', 'VLDR', 'VLDRW', 'VERO', 'VEON', 'VRA', 'VCYT', 'VSTM', 'VERB', 'VERBW', 'VCEL', 'VERY', 'VRME', 'VRMEW', 'VRNT', 'VRSN', 'VRSK', 'VBTX', 'VERI', 'VRNA', 'VRRM', 'VRCA', 'VTNR', 'VRTX', 'VERX', 'VERU', 'VSPRU', 'VIAC', 'VIACA', 'VSAT', 'VTRS', 'VIAV', 'VICR', 'VCTR', 'CIZ', 'VSDA', 'CEY', 'CEZ', 'CID', 'CIL', 'QQQN', 'SHLD', 'VTRN', 'CFO', 'CFA', 'CSF', 'CDC', 'CDL', 'VSMV', 'CSB', 'CSA', 'VIE', 'VMD', 'VRAY', 'VKTX', 'VKTXW', 'VBFC', 'VFF', 'VLGEA', 'BBIG', 'VIOT', 'VNOM', 'VIR', 'VIRC', 'VTSI', 'VIRT', 'VRTS', 'BBC', 'BBP', 'JOET', 'VRTU', 'VISL', 'VTGN', 'VMAC', 'VMACU', 'VMACW', 'VC', 'VITL', 'VTRU', 'VIVE', 'VVPR', 'VOD', 'VG', 'VJET', 'VOXX', 'VYGR', 'VIH', 'VIHAU', 'VIHAW', 'VRM', 'VSEC', 'VTVT', 'VUZI', 'VYNE', 'WAFU', 'HLAL', 'WTRH', 'WBA', 'WSG', 'WMG', 'WAFD', 'WASH', 'WSBF', 'WTRE', 'WTREP', 'WVE', 'WNFM', 'WSTG', 'WDFC', 'WB', 'WEN', 'WERN', 'WSBC', 'WSBCP', 'WTBA', 'WABC', 'WINC', 'WBND', 'WDC', 'WNEB', 'WPRT', 'WWR', 'WEYS', 'WHLR', 'WHLRD', 'WHLRP', 'WHF', 'WHFBZ', 'FREE', 'FREEW', 'WHLM', 'WVVI', 'WVVIP', 'WLDN', 'WLFC', 'WLTW', 'WSC', 'WIMI', 'WINT', 'WING', 'WINA', 'WTFC', 'WTFCM', 'WTFCP', 'CXSE', 'WCLD', 'EMCB', 'DGRE', 'DXGE', 'HYZD', 'AGZD', 'WETF', 'DXJS', 'DGRW', 'DGRS', 'WKEY', 'WIX', 'WWD', 'WDAY', 'WKHS', 'WRLD', 'WRTC', 'WSFS', 'WVFC', 'WW', 'WYNN', 'XFOR', 'XBIT', 'XELB', 'XEL', 'XNCR', 'XBIO', 'XBIOW', 'XENE', 'XERS', 'XLNX', 'XOMA', 'XP', 'XPEL', 'XPER', 'XSPA', 'XTLB', 'XNET', 'YNDX', 'YTRA', 'YSACU', 'YTEN', 'YMAB', 'YGYI', 'YGYIP', 'YRCW', 'CTIB', 'ZGYH', 'ZGYHR', 'ZGYHU', 'ZGYHW', 'YJ', 'ZAGG', 'ZLAB', 'ZNTEU', 'ZEAL', 'ZBRA', 'ZNTL', 'ZCMD', 'Z', 'ZG', 'ZION', 'ZIONL', 'ZIONN', 'ZIONO', 'ZIONP', 'ZIOP', 'ZIXI', 'ZKIN', 'ZGNX', 'ZM', 'ZI', 'ZSAN', 'ZVO', 'ZS', 'ZUMZ', 'CNET', 'ZYNE', 'ZYXI', 'ZNGA']\n"
     ]
    }
   ],
   "source": [
    "# Obtenir la list des tickers (leur acronymes)\n",
    "all_tickers = pd.read_sql(\"SELECT ticker, id FROM personnal_coin\", conn)\n",
    "print(all_tickers)\n",
    "ticker_index = dict(all_tickers.to_dict('split')['data'])\n",
    "#print(ticker_index)\n",
    "tickers = list(ticker_index.keys())"
   ]
  },
  {
   "cell_type": "code",
   "execution_count": 52,
   "metadata": {},
   "outputs": [],
   "source": [
    "def download_data_chunk(start_idx, end_idx, tickerlist, \n",
    "                        start_date=None):\n",
    "    \"\"\"\n",
    "    Download stock data using pandas-datareader\n",
    "    :param start_idx: start index\n",
    "    :param end_idx: end index\n",
    "    :param tickerlist: which tickers are meant to be downloaded\n",
    "    :param start_date: the starting date for each ticker\n",
    "    :return: writes data to mysql database\n",
    "    \"\"\"\n",
    "    ms_tickers = []\n",
    "    for ticker in tickerlist[start_idx:end_idx]:\n",
    "        df = pdr.get_data_yahoo(ticker, start=start_date)\n",
    "        if df.empty:\n",
    "            #print(f\"df is empty for {ticker}\")\n",
    "            ms_tickers.append(ticker)\n",
    "            time.sleep(3)\n",
    "            continue\n",
    "\n",
    "        for row in df.itertuples():\n",
    "            values = [YAHOO_VENDOR_ID, ticker_index[ticker]] + list(row)\n",
    "            #print(values)\n",
    "            #values = (values,)\n",
    "            #try:\n",
    "                #print(row)\n",
    "                #print(tickers)\n",
    "                #print(ticker_index[ticker])\n",
    "            #print(f\"{ticker_index[ticker]},{ticker_index[ticker]},{row.Index},{row.Open},{row.High},{row.Low},{row.Close},{row._5},{row.Volume}\")\n",
    "            sql = f\"\"\"\n",
    "            INSERT INTO personnal_dailyprice (data_vendor_id,ticker_id,price_date,open_price,high_price,low_price,close_price,adj_close_price,volume)               \n",
    "            VALUES ('{ticker_index[ticker]}','{ticker_index[ticker]}','{row.Index}','{row.Open}','{row.High}','{row.Low}','{row.Close}','{row._5}','{row.Volume}')\"\"\"\n",
    "            #print(sql)\n",
    "            cursor.execute(sql)\n",
    "            #except Exception as e:\n",
    "             #   print(str(e))\n",
    "        conn.commit()\n",
    "        return ms_tickers\n",
    "\n",
    "\n",
    "def download_all_data(tickerlist, chunk_size=100,\n",
    "                      start_date=None):\n",
    "    # Hacky snippet to get the ceiling\n",
    "    n_chunks = -(-len(tickerlist) // chunk_size)\n",
    "\n",
    "    ms_tickers = []\n",
    "    for i in range(0, n_chunks, chunk_size):\n",
    "        # This will download data from the earliest possible date\n",
    "        ms_from_chunk = download_data_chunk(i, i+chunk_size, tickerlist, start_date)\n",
    "        ms_tickers.append(ms_from_chunk)\n",
    "        \n",
    "        # Check for possible throttling\n",
    "        if len(ms_from_chunk) > 40:\n",
    "            time.sleep(120)\n",
    "        else:\n",
    "            time.sleep(10)\n",
    "    return ms_tickers"
   ]
  },
  {
   "cell_type": "code",
   "execution_count": 53,
   "metadata": {},
   "outputs": [],
   "source": [
    "def update_prices():\n",
    "    # Get present tickers\n",
    "    present_ticker_ids = pd.read_sql(\"SELECT DISTINCT ticker_id FROM personnal_dailyprice\", conn)\n",
    "    index_ticker = {v: k for k, v in ticker_index.items()}\n",
    "    present_tickers = [index_ticker[i]\n",
    "                       for i in list(present_ticker_ids['ticker_id'])]\n",
    "    # Get last date\n",
    "    sql = \"SELECT price_date FROM personnal_dailyprice WHERE ticker_id=1\"\n",
    "    dates = pd.read_sql(sql, conn)\n",
    "    print(dates)\n",
    "    last_date = dates.iloc[-1, 0]\n",
    "    download_all_data(present_tickers, start_date=last_date)"
   ]
  },
  {
   "cell_type": "code",
   "execution_count": 57,
   "metadata": {},
   "outputs": [
    {
     "name": "stdout",
     "output_type": "stream",
     "text": [
      "[*********************100%***********************]  1 of 1 completed\n",
      "\n",
      "1 Failed download:\n",
      "- VCVC: No data found, symbol may be delisted\n",
      "[*********************100%***********************]  1 of 1 completed\n",
      "\n",
      "1 Failed download:\n",
      "- VCVCU: 1d data not available for startTime=-2208988800 and endTime=1606138205. Only 100 years worth of day granularity data are allowed to be fetched per request.\n",
      "[*********************100%***********************]  1 of 1 completed\n"
     ]
    },
    {
     "data": {
      "text/plain": [
       "[['VCVC', 'VCVCU']]"
      ]
     },
     "execution_count": 57,
     "metadata": {},
     "output_type": "execute_result"
    }
   ],
   "source": [
    "download_all_data(tickers)"
   ]
  },
  {
   "cell_type": "code",
   "execution_count": 58,
   "metadata": {},
   "outputs": [
    {
     "ename": "KeyError",
     "evalue": "3906",
     "output_type": "error",
     "traceback": [
      "\u001b[0;31m---------------------------------------------------------------------------\u001b[0m",
      "\u001b[0;31mKeyError\u001b[0m                                  Traceback (most recent call last)",
      "\u001b[0;32m<ipython-input-58-a855394ba5ad>\u001b[0m in \u001b[0;36m<module>\u001b[0;34m\u001b[0m\n\u001b[0;32m----> 1\u001b[0;31m \u001b[0mupdate_prices\u001b[0m\u001b[0;34m(\u001b[0m\u001b[0;34m)\u001b[0m\u001b[0;34m\u001b[0m\u001b[0;34m\u001b[0m\u001b[0m\n\u001b[0m",
      "\u001b[0;32m<ipython-input-53-45d508bd5981>\u001b[0m in \u001b[0;36mupdate_prices\u001b[0;34m()\u001b[0m\n\u001b[1;32m      3\u001b[0m     \u001b[0mpresent_ticker_ids\u001b[0m \u001b[0;34m=\u001b[0m \u001b[0mpd\u001b[0m\u001b[0;34m.\u001b[0m\u001b[0mread_sql\u001b[0m\u001b[0;34m(\u001b[0m\u001b[0;34m\"SELECT DISTINCT ticker_id FROM personnal_dailyprice\"\u001b[0m\u001b[0;34m,\u001b[0m \u001b[0mconn\u001b[0m\u001b[0;34m)\u001b[0m\u001b[0;34m\u001b[0m\u001b[0;34m\u001b[0m\u001b[0m\n\u001b[1;32m      4\u001b[0m     \u001b[0mindex_ticker\u001b[0m \u001b[0;34m=\u001b[0m \u001b[0;34m{\u001b[0m\u001b[0mv\u001b[0m\u001b[0;34m:\u001b[0m \u001b[0mk\u001b[0m \u001b[0;32mfor\u001b[0m \u001b[0mk\u001b[0m\u001b[0;34m,\u001b[0m \u001b[0mv\u001b[0m \u001b[0;32min\u001b[0m \u001b[0mticker_index\u001b[0m\u001b[0;34m.\u001b[0m\u001b[0mitems\u001b[0m\u001b[0;34m(\u001b[0m\u001b[0;34m)\u001b[0m\u001b[0;34m}\u001b[0m\u001b[0;34m\u001b[0m\u001b[0;34m\u001b[0m\u001b[0m\n\u001b[0;32m----> 5\u001b[0;31m     present_tickers = [index_ticker[i]\n\u001b[0m\u001b[1;32m      6\u001b[0m                        for i in list(present_ticker_ids['ticker_id'])]\n\u001b[1;32m      7\u001b[0m     \u001b[0;31m# Get last date\u001b[0m\u001b[0;34m\u001b[0m\u001b[0;34m\u001b[0m\u001b[0;34m\u001b[0m\u001b[0m\n",
      "\u001b[0;32m<ipython-input-53-45d508bd5981>\u001b[0m in \u001b[0;36m<listcomp>\u001b[0;34m(.0)\u001b[0m\n\u001b[1;32m      3\u001b[0m     \u001b[0mpresent_ticker_ids\u001b[0m \u001b[0;34m=\u001b[0m \u001b[0mpd\u001b[0m\u001b[0;34m.\u001b[0m\u001b[0mread_sql\u001b[0m\u001b[0;34m(\u001b[0m\u001b[0;34m\"SELECT DISTINCT ticker_id FROM personnal_dailyprice\"\u001b[0m\u001b[0;34m,\u001b[0m \u001b[0mconn\u001b[0m\u001b[0;34m)\u001b[0m\u001b[0;34m\u001b[0m\u001b[0;34m\u001b[0m\u001b[0m\n\u001b[1;32m      4\u001b[0m     \u001b[0mindex_ticker\u001b[0m \u001b[0;34m=\u001b[0m \u001b[0;34m{\u001b[0m\u001b[0mv\u001b[0m\u001b[0;34m:\u001b[0m \u001b[0mk\u001b[0m \u001b[0;32mfor\u001b[0m \u001b[0mk\u001b[0m\u001b[0;34m,\u001b[0m \u001b[0mv\u001b[0m \u001b[0;32min\u001b[0m \u001b[0mticker_index\u001b[0m\u001b[0;34m.\u001b[0m\u001b[0mitems\u001b[0m\u001b[0;34m(\u001b[0m\u001b[0;34m)\u001b[0m\u001b[0;34m}\u001b[0m\u001b[0;34m\u001b[0m\u001b[0;34m\u001b[0m\u001b[0m\n\u001b[0;32m----> 5\u001b[0;31m     present_tickers = [index_ticker[i]\n\u001b[0m\u001b[1;32m      6\u001b[0m                        for i in list(present_ticker_ids['ticker_id'])]\n\u001b[1;32m      7\u001b[0m     \u001b[0;31m# Get last date\u001b[0m\u001b[0;34m\u001b[0m\u001b[0;34m\u001b[0m\u001b[0;34m\u001b[0m\u001b[0m\n",
      "\u001b[0;31mKeyError\u001b[0m: 3906"
     ]
    }
   ],
   "source": [
    "update_prices()"
   ]
  },
  {
   "cell_type": "code",
   "execution_count": null,
   "metadata": {},
   "outputs": [],
   "source": []
  }
 ],
 "metadata": {
  "kernelspec": {
   "display_name": "Python 3",
   "language": "python",
   "name": "python3"
  },
  "language_info": {
   "codemirror_mode": {
    "name": "ipython",
    "version": 3
   },
   "file_extension": ".py",
   "mimetype": "text/x-python",
   "name": "python",
   "nbconvert_exporter": "python",
   "pygments_lexer": "ipython3",
   "version": "3.8.6"
  }
 },
 "nbformat": 4,
 "nbformat_minor": 4
}
