{
 "cells": [
  {
   "cell_type": "code",
   "execution_count": 5,
   "id": "c4ca3f18-4449-4db3-85ce-ef9a383dbd1a",
   "metadata": {},
   "outputs": [],
   "source": [
    "### Payoff Function\n",
    "\n",
    "# Initial configuration\n",
    "payout_ratio = 0.1\n",
    "\n",
    "investor_collateral = 1000000\n",
    "liquidity_collateral = investor_collateral * payout_ratio\n",
    "\n",
    "strike_price = 80\n",
    "initial_price = 130"
   ]
  },
  {
   "cell_type": "code",
   "execution_count": 16,
   "id": "54d04210-3196-48a3-b01f-14713e115545",
   "metadata": {},
   "outputs": [],
   "source": [
    "def payout(price):\n",
    "    \n",
    "    if price >= strike_price:\n",
    "        return investor_collateral + liquidity_collateral\n",
    "    \n",
    "    return investor_collateral + liquidity_collateral * price  / initial_price"
   ]
  },
  {
   "cell_type": "code",
   "execution_count": 18,
   "id": "3031a0ba-0c7e-4358-80e0-11cb952f3c36",
   "metadata": {},
   "outputs": [
    {
     "data": {
      "text/plain": [
       "484615.3846153846"
      ]
     },
     "execution_count": 18,
     "metadata": {},
     "output_type": "execute_result"
    }
   ],
   "source": [
    "payout(50)"
   ]
  },
  {
   "cell_type": "code",
   "execution_count": null,
   "id": "df2ca8c7-8002-4cdc-a995-0f8df7f9f8db",
   "metadata": {},
   "outputs": [],
   "source": []
  }
 ],
 "metadata": {
  "kernelspec": {
   "display_name": "Python 3",
   "language": "python",
   "name": "python3"
  },
  "language_info": {
   "codemirror_mode": {
    "name": "ipython",
    "version": 3
   },
   "file_extension": ".py",
   "mimetype": "text/x-python",
   "name": "python",
   "nbconvert_exporter": "python",
   "pygments_lexer": "ipython3",
   "version": "3.8.6"
  }
 },
 "nbformat": 4,
 "nbformat_minor": 5
}
