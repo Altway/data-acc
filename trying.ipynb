{
 "cells": [
  {
   "cell_type": "code",
   "execution_count": 1,
   "metadata": {},
   "outputs": [
    {
     "name": "stdout",
     "output_type": "stream",
     "text": [
      "0.00\n",
      "0.43\n",
      "1.35\n",
      "3.34\n",
      "7.46\n",
      "15.68\n",
      "31.62\n",
      "61.33\n",
      "113.79\n",
      "197.28\n",
      "294.24\n"
     ]
    }
   ],
   "source": [
    "import math\n",
    "import numpy as np\n",
    "import latexify\n",
    "\n",
    "@latexify.function\n",
    "def expected_value(k):\n",
    "    return 2**k*(1-(k/11)) + 1/2*(k/11)\n",
    "\n",
    "# Log of expected value + starting capital\n",
    "def expected_utility(start, k):\n",
    "    return math.log(start+2**k)*(1-(k/11)) + math.log(start+1/2)*(k/11)\n",
    "\n",
    "# Standard deviation\n",
    "def riskiness(start, k, expected_take_home):\n",
    "    return math.sqrt(max(0, (2**k)**2*(1-(k/11)) + (1/2)**2*(k/11)-expected_value(k)**2))\n",
    "\n",
    "\n",
    "def get_hurst_exponent(ts, max_lag=20):\n",
    "    lags = range(2, max_lag)\n",
    "    tau = [np.std(np.subtract(ts[lag:], ts[:-lag])) for lag in lags]\n",
    "\n",
    "    return np.polyfit(np.log(lags), np.log(tau), 1)[0]\n",
    "\n",
    "def omega_ratio(returns, required_return=0.0):\n",
    "    \"\"\"Determines the Omega ratio of a strategy.\n",
    "\n",
    "    Parameters\n",
    "    ----------\n",
    "    returns: pd.Series or np.ndarray\n",
    "        Daily returns of the strategy, noncumulative.\n",
    "    required_return: float, optional\n",
    "        Minimum acceptance return of the investor. Threshold over which to\n",
    "        consider positive vs negative returns. It will be converted to a \n",
    "        value appropritae for the period of the returns. E.g An annual minimum\n",
    "        acceptable return of 100 will translate to a minimum acceptable\n",
    "        reutnr of 0.018\n",
    "\n",
    "    Returns\n",
    "    -------\n",
    "    omega_ratio : float\n",
    "\n",
    "    Note\n",
    "    ----\n",
    "    See https://en.wikipedia.org/wiki/Omega_ratio for more details.\n",
    "    \"\"\"\n",
    "\n",
    "    return_threshold = (1 + required_return) ** (1/252) - 1\n",
    "\n",
    "    returns_less_thresh = returns - return_threshold\n",
    "\n",
    "    numer = sum(returns_less_thresh[returns_less_thresh > 0.0])\n",
    "    denom = -1.0 * sum(returns_less_thresh[returns_less_thresh < 0.0])\n",
    "\n",
    "    if denom > 0.0:\n",
    "        return numer / denom\n",
    "    \n",
    "    return np.nan\n",
    "\n",
    "for i in range(11):\n",
    "    print(f\"{riskiness(1, i, 1):.2f}\")\n",
    "\n"
   ]
  },
  {
   "cell_type": "code",
   "execution_count": 2,
   "metadata": {},
   "outputs": [
    {
     "data": {
      "text/latex": [
       "$$ \\displaystyle \\mathrm{expected_value}(k) = {2}^{k} \\left( {1} - \\frac{k}{{11}} \\right) + \\frac{{1}}{{2}} \\frac{k}{{11}} $$"
      ],
      "text/plain": [
       "<latexify.frontend.LatexifiedFunction at 0x7f951a7b8850>"
      ]
     },
     "execution_count": 2,
     "metadata": {},
     "output_type": "execute_result"
    }
   ],
   "source": [
    "expected_value"
   ]
  },
  {
   "cell_type": "code",
   "execution_count": null,
   "metadata": {},
   "outputs": [],
   "source": []
  }
 ],
 "metadata": {
  "kernelspec": {
   "display_name": "data-acc-msZwibCE",
   "language": "python",
   "name": "python3"
  },
  "language_info": {
   "codemirror_mode": {
    "name": "ipython",
    "version": 3
   },
   "file_extension": ".py",
   "mimetype": "text/x-python",
   "name": "python",
   "nbconvert_exporter": "python",
   "pygments_lexer": "ipython3",
   "version": "3.10.7"
  },
  "orig_nbformat": 4,
  "vscode": {
   "interpreter": {
    "hash": "6c204f47349a62a61f679ecb91d9dfc52def4c454061bafec016fcb7353013ec"
   }
  }
 },
 "nbformat": 4,
 "nbformat_minor": 2
}
