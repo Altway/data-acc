{
 "cells": [
  {
   "cell_type": "code",
   "execution_count": 1,
   "metadata": {},
   "outputs": [
    {
     "name": "stdout",
     "output_type": "stream",
     "text": [
      "0.00\n",
      "0.43\n",
      "1.35\n",
      "3.34\n",
      "7.46\n",
      "15.68\n",
      "31.62\n",
      "61.33\n",
      "113.79\n",
      "197.28\n",
      "294.24\n"
     ]
    }
   ],
   "source": [
    "import math\n",
    "import latexify\n",
    "\n",
    "@latexify.function\n",
    "def expected_value(k):\n",
    "    return 2**k*(1-(k/11)) + 1/2*(k/11)\n",
    "\n",
    "# Log of expected value + starting capital\n",
    "def expected_utility(start, k):\n",
    "    return math.log(start+2**k)*(1-(k/11)) + math.log(start+1/2)*(k/11)\n",
    "\n",
    "# Standard deviation\n",
    "def riskiness(start, k, expected_take_home):\n",
    "    return math.sqrt(max(0, (2**k)**2*(1-(k/11)) + (1/2)**2*(k/11)-expected_value(k)**2))\n",
    "\n",
    "\n",
    "for i in range(11):\n",
    "    print(f\"{riskiness(1, i, 1):.2f}\")\n",
    "\n"
   ]
  },
  {
   "cell_type": "code",
   "execution_count": 2,
   "metadata": {},
   "outputs": [
    {
     "data": {
      "text/latex": [
       "$$ \\displaystyle \\mathrm{expected_value}(k) = {2}^{k} \\left( {1} - \\frac{k}{{11}} \\right) + \\frac{{1}}{{2}} \\frac{k}{{11}} $$"
      ],
      "text/plain": [
       "<latexify.frontend.LatexifiedFunction at 0x7f951a7b8850>"
      ]
     },
     "execution_count": 2,
     "metadata": {},
     "output_type": "execute_result"
    }
   ],
   "source": [
    "expected_value"
   ]
  },
  {
   "cell_type": "code",
   "execution_count": null,
   "metadata": {},
   "outputs": [],
   "source": []
  }
 ],
 "metadata": {
  "kernelspec": {
   "display_name": "data-acc-msZwibCE",
   "language": "python",
   "name": "python3"
  },
  "language_info": {
   "codemirror_mode": {
    "name": "ipython",
    "version": 3
   },
   "file_extension": ".py",
   "mimetype": "text/x-python",
   "name": "python",
   "nbconvert_exporter": "python",
   "pygments_lexer": "ipython3",
   "version": "3.10.7 (main, Nov 24 2022, 19:45:47) [GCC 12.2.0]"
  },
  "orig_nbformat": 4,
  "vscode": {
   "interpreter": {
    "hash": "6c204f47349a62a61f679ecb91d9dfc52def4c454061bafec016fcb7353013ec"
   }
  }
 },
 "nbformat": 4,
 "nbformat_minor": 2
}
