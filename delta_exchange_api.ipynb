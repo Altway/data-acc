{
 "cells": [
  {
   "cell_type": "code",
   "execution_count": null,
   "metadata": {},
   "outputs": [],
   "source": [
    "import ccxt\n",
    "import os\n",
    "import datetime\n",
    "\n",
    "from dotenv import dotenv_values\n",
    "from pprint import pprint\n",
    "\n",
    "import ccxt.async_support as ccxt # link against the asynchronous version of ccxt"
   ]
  },
  {
   "cell_type": "code",
   "execution_count": null,
   "metadata": {},
   "outputs": [],
   "source": [
    "config = {\n",
    "    **dotenv_values(\".env.shared\"),  # load shared development variables\n",
    "    **dotenv_values(\".env.secret\"),  # load sensitive variables\n",
    "    **os.environ,  # override loaded values with environment variables\n",
    "}\n",
    "\n",
    "exchange = ccxt.delta(config)\n",
    "exchange.verbose = False \n",
    "\n",
    "exchange.check_required_credentials()\n",
    "print(exchange.requiredCredentials) "
   ]
  },
  {
   "cell_type": "code",
   "execution_count": null,
   "metadata": {},
   "outputs": [],
   "source": [
    "%%capture --no-display\n",
    "\n",
    "# markets = await exchange.fetchMarkets() # Full reloading\n",
    "symbol = \"BTC/USDT:USDT\"\n",
    "markets = exchange.load_markets()\n",
    "balance = exchange.fetch_balance()\n",
    "currencies = exchange.fetch_currencies()\n",
    "orderbook = exchange.fetch_order_book(symbol)\n",
    "l2_orderbook = exchange.fetch_l2_order_book(symbol)\n",
    "fetchTrades = exchange.fetch_trades(symbol)\n",
    "ticker = exchange.fetch_ticker(symbol)\n",
    "positions = exchange.fetch_positions()\n",
    "ledger = exchange.fetch_ledger()\n",
    "\n",
    "# risk = exchange.fetch_positions_risk(symbol) # not suppoted yet\n",
    "# transactions = exchange.fetch_transactions() # not supported yet"
   ]
  },
  {
   "cell_type": "code",
   "execution_count": null,
   "metadata": {},
   "outputs": [],
   "source": [
    "# Retrieve only options contract id\n",
    "_ = {}\n",
    "for k, v in delta_exchange_markets.items():\n",
    "    if k.startswith(symbol): _.update({k:v})\n",
    "\n",
    "btc_options = {}\n",
    "for k, v in _.items():\n",
    "    if v[\"option\"]: btc_options.update({k:v})"
   ]
  },
  {
   "cell_type": "code",
   "execution_count": null,
   "metadata": {},
   "outputs": [],
   "source": [
    "raw_btc_options = btc_options[\"BTC/USDT:USDT-221129:15800:C\"]\n",
    "pprint(raw_btc_options)\n"
   ]
  },
  {
   "cell_type": "code",
   "execution_count": null,
   "metadata": {},
   "outputs": [],
   "source": [
    "# to get IV/Greeks\n",
    "a = await exchange.fetchTickers(list(btc_options.keys()))\n",
    "# to get Index price (Underlying price)\n",
    "res = await exchange.fetch_ticker(symbol, params={'price':'index'})\n",
    "index_price = res['last']\n",
    "\n",
    "a = datetime.datetime.now()\n",
    "b = datetime.datetime.strptime(raw_btc_options[\"expiryDatetime\"], \"%Y-%m-%dT%H:%M:%SZ\")\n",
    "\n",
    "seconds_until_expiration = b-a\n",
    "seconds_until_expiration"
   ]
  },
  {
   "cell_type": "code",
   "execution_count": null,
   "metadata": {},
   "outputs": [],
   "source": [
    "option_contract = \"BTC/USDT:USDT-221129:15800:C\"\n",
    "\n"
   ]
  },
  {
   "cell_type": "code",
   "execution_count": null,
   "metadata": {},
   "outputs": [],
   "source": [
    "\"\"\"\n",
    "Retrieve\n",
    "IV\n",
    "index price (Underlying price)\n",
    "days until expiration\n",
    "strike price\n",
    "interest rate\n",
    "dividend yield (0)\n",
    "\"\"\""
   ]
  },
  {
   "cell_type": "code",
   "execution_count": null,
   "metadata": {},
   "outputs": [],
   "source": []
  },
  {
   "cell_type": "code",
   "execution_count": null,
   "metadata": {},
   "outputs": [],
   "source": [
    "delta_exchange_tickers"
   ]
  },
  {
   "cell_type": "code",
   "execution_count": null,
   "metadata": {},
   "outputs": [],
   "source": [
    "data_1 = {}\n",
    "keys_to_select = [\n",
    "    'id',\n",
    "    'optionType',\n",
    "    'strike',\n",
    "    'base',\n",
    "    'active',\n",
    "    'quote',\n",
    "    'taker',\n",
    "    'maker',\n",
    "    'percentage',\n",
    "    'precision',\n",
    "    'contractsize',\n",
    "    'option',\n",
    "    'tiers',\n",
    "    'product_specs',\n",
    "    'spot_index',\n",
    "    'limits',\n",
    "]\n",
    "for k,v in raw_data.items():\n",
    "    if k in keys_to_select: data_1.update({k:v})\n",
    "data_1[\"expiryDatetime\"] = seconds_until_expiration"
   ]
  },
  {
   "cell_type": "code",
   "execution_count": null,
   "metadata": {},
   "outputs": [],
   "source": [
    "pprint(exchange.markets['BTC/USDT:USDT-221129:15300:C'])"
   ]
  },
  {
   "cell_type": "code",
   "execution_count": null,
   "metadata": {},
   "outputs": [],
   "source": [
    "data_1"
   ]
  },
  {
   "cell_type": "code",
   "execution_count": null,
   "metadata": {},
   "outputs": [],
   "source": [
    "pprint(data['info'])\n",
    "select = [\n",
    "    'annualized_funding',\n",
    "    'liquidation_penalty_factor',\n",
    "    'maintenance_margin',\n",
    "    'maintenance_margin_scaling_factor',\n",
    "    'maker_commission_rate',\n",
    "    'max_leverage_notional',\n",
    "    'notional_type',\n",
    "    'position_size_limit',\n",
    "    'product_specs',\n",
    "    \n",
    "]"
   ]
  },
  {
   "cell_type": "code",
   "execution_count": null,
   "metadata": {},
   "outputs": [],
   "source": [
    "'optionType': 'call',\n",
    " 'strike': 15800.0,\n",
    "'base': 'BTC',\n",
    " 'quote': 'USDT',\n",
    " 'contractsize': 0.001,\n",
    "'option' : True\n",
    "'product_specs': {'backup_vol_expiry_time': '31536000',\n",
    "   'max_deviation_from_external_vol': '0.75',\n",
    "   'max_lower_deviation_from_external_vol': '0.75',\n",
    "   'max_upper_deviation_from_external_vol': '0.5',\n",
    "   'max_volatility': '3',\n",
    "   'min_volatility': '0.2',\n",
    "   'premium_commission_rate': '0.1',\n",
    "   'vol_calculation_method': 'orderbook',\n",
    "   'vol_expiry_time': '31536000'},\n",
    "'tiers': {'taker': [[0, 0.0015],\n",
    "   [100, 0.0013],\n",
    "   [250, 0.0013],\n",
    "   [1000, 0.001],\n",
    "   [5000, 0.0009],\n",
    "   [10000, 0.00075],\n",
    "   [20000, 0.00065]],\n",
    "  'maker': [[0, 0.001],\n",
    "   [100, 0.001],\n",
    "   [250, 0.0009],\n",
    "   [1000, 0.00075],\n",
    "   [5000, 0.0006],\n",
    "   [10000, 0.0005],\n",
    "   [20000, 0.0005]]},\n",
    "   \n",
    "\n",
    "     'spot_index': {'config': {'impact_size': {'max_impact_size': '150000',\n",
    "     'min_impact_size': '5000',\n",
    "     'step_value': '5000'},\n",
    "    'quoting_asset': 'USDT',\n",
    "    'service_id': '1',\n",
    "    'underlying_asset': 'BTC'},\n",
    "   'constituent_exchanges': [{'exchange': 'binance',\n",
    "     'health_interval': '60',\n",
    "     'health_priority': '1',\n",
    "     'weight': '1'},\n",
    "    {'exchange': 'huobi',\n",
    "     'health_interval': '60',\n",
    "     'health_priority': '2',\n",
    "     'weight': '1'},\n",
    "    {'exchange': 'okex',\n",
    "     'health_interval': '60',\n",
    "     'health_priority': '3',\n",
    "     'weight': '1'}],\n",
    "   'constituent_indices': None,\n",
    "   'description': 'Bitcoin index from binance, huobi and okex',\n",
    "   'health_interval': '300',\n",
    "   'id': '2',\n",
    "   'impact_size': '1.000000000000000000',\n",
    "   'index_type': 'spot_pair',\n",
    "   'is_composite': False,\n",
    "   'price_method': 'orderbook',\n",
    "   'quoting_asset_id': '5',\n",
    "   'symbol': '.DEXBTUSDT',\n",
    "   'tick_size': '0.500000000000000000',\n",
    "   'underlying_asset_id': '2'}"
   ]
  }
 ],
 "metadata": {
  "kernelspec": {
   "display_name": "Python 3.11.0rc2 ('data-acc-msZwibCE')",
   "language": "python",
   "name": "python3"
  },
  "language_info": {
   "codemirror_mode": {
    "name": "ipython",
    "version": 3
   },
   "file_extension": ".py",
   "mimetype": "text/x-python",
   "name": "python",
   "nbconvert_exporter": "python",
   "pygments_lexer": "ipython3",
   "version": "3.11.0rc2"
  },
  "orig_nbformat": 4,
  "vscode": {
   "interpreter": {
    "hash": "6c204f47349a62a61f679ecb91d9dfc52def4c454061bafec016fcb7353013ec"
   }
  }
 },
 "nbformat": 4,
 "nbformat_minor": 2
}
