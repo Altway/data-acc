{
 "cells": [
  {
   "cell_type": "code",
   "execution_count": 125,
   "metadata": {},
   "outputs": [],
   "source": [
    "import ccxt\n",
    "import os\n",
    "import datetime\n",
    "import math\n",
    "\n",
    "from dotenv import dotenv_values, load_dotenv\n",
    "from pprint import pprint\n",
    "from arch import arch_model\n",
    "\n",
    "# import ccxt.async_support as ccxt # link against the asynchronous version of ccxt\n",
    "\n",
    "from functions.BS_pricer import BS_pricer\n",
    "from functions.Parameters import Option_param\n",
    "from functions.Processes import Diffusion_process\n",
    "\n",
    "import numpy as np\n",
    "import pandas as pd\n",
    "import scipy as scp\n",
    "import scipy.stats as ss\n",
    "from scipy.integrate import quad\n",
    "from functools import partial\n",
    "\n",
    "import matplotlib.pyplot as plt\n",
    "%matplotlib inline"
   ]
  },
  {
   "cell_type": "code",
   "execution_count": 126,
   "metadata": {},
   "outputs": [
    {
     "name": "stdout",
     "output_type": "stream",
     "text": [
      "{'delta': ccxt.delta(), 'deribit': ccxt.deribit()}\n"
     ]
    }
   ],
   "source": [
    "# Load environment variables from .env file\n",
    "load_dotenv()\n",
    "\n",
    "# Set the API keys for the exchanges\n",
    "delta_api_key = os.getenv('DELTA_API_KEY')\n",
    "delta_api_secret = os.getenv('DELTA_API_SECRET')\n",
    "deribit_api_key = os.getenv('DERIBIT_API_KEY')\n",
    "deribit_api_secret = os.getenv('DERIBIT_API_SECRET')\n",
    "\n",
    "# Create the exchange objects\n",
    "delta = ccxt.delta({\n",
    "    'apiKey': delta_api_key,\n",
    "    'secret': delta_api_secret,\n",
    "})\n",
    "deribit = ccxt.deribit({\n",
    "    'apiKey': deribit_api_key,\n",
    "    'secret': deribit_api_secret,\n",
    "})\n",
    "\n",
    "# Create the dictionary\n",
    "exchanges_dict = {'delta': delta, 'deribit': deribit}\n",
    "pprint(exchanges_dict)"
   ]
  },
  {
   "cell_type": "code",
   "execution_count": 127,
   "metadata": {},
   "outputs": [
    {
     "name": "stderr",
     "output_type": "stream",
     "text": [
      "/tmp/ipykernel_68928/3934710538.py:3: RuntimeWarning: coroutine 'delta.fetch_markets' was never awaited\n",
      "  instruments_dict = {k: exchanges_dict[k].fetchMarkets() for k in exchanges_dict}\n",
      "RuntimeWarning: Enable tracemalloc to get the object allocation traceback\n",
      "/tmp/ipykernel_68928/3934710538.py:3: RuntimeWarning: coroutine 'deribit.fetch_markets' was never awaited\n",
      "  instruments_dict = {k: exchanges_dict[k].fetchMarkets() for k in exchanges_dict}\n",
      "RuntimeWarning: Enable tracemalloc to get the object allocation traceback\n"
     ]
    }
   ],
   "source": [
    "# delta_instruments = exchanges_dict['delta'].fetchMarkets()\n",
    "# deribit_instruments = exchanges_dict['deribit'].fetchMarkets()\n",
    "instruments_dict = {k: exchanges_dict[k].fetchMarkets() for k in exchanges_dict}\n",
    "instruments_dict['delta'] = {d['symbol']: d for d in instruments_dict['delta']}\n",
    "instruments_dict['deribit'] = {d['symbol']: d for d in instruments_dict['deribit']}"
   ]
  },
  {
   "cell_type": "code",
   "execution_count": 128,
   "metadata": {},
   "outputs": [],
   "source": [
    "# We define the contract we are looking for\n",
    "contract_specification = {\n",
    "    'expiration': '230127',\n",
    "    'payoff': 'C',\n",
    "    'underlying': 'BTC',\n",
    "    'strike': 17000,\n",
    "    'quote': 'USDT'\n",
    "}"
   ]
  },
  {
   "cell_type": "code",
   "execution_count": 129,
   "metadata": {},
   "outputs": [
    {
     "name": "stdout",
     "output_type": "stream",
     "text": [
      "(\"Delta ticker: {'symbol': 'BTC/USDT:USDT-230127:17000:C', 'timestamp': \"\n",
      " \"1673179206884, 'datetime': '2023-01-08T12:00:06.884Z', 'high': 467.6, 'low': \"\n",
      " \"433.1, 'bid': None, 'bidVolume': None, 'ask': None, 'askVolume': None, \"\n",
      " \"'vwap': 16934.857787111112, 'open': 449.1, 'close': 433.1, 'last': 433.1, \"\n",
      " \"'previousClose': None, 'change': -16.0, 'percentage': -3.562680917390336, \"\n",
      " \"'average': 441.1, 'baseVolume': 0.27, 'quoteVolume': 4572.41160252, 'info': \"\n",
      " \"{'close': '433.1', 'contract_type': 'call_options', 'greeks': {'delta': \"\n",
      " \"'0.49056019', 'gamma': '0.00032807', 'rho': '4.08807636', 'spot': \"\n",
      " \"'16927.422068700555', 'theta': '-12.75938381', 'vega': '15.40314457'}, \"\n",
      " \"'high': '467.6', 'low': '433.1', 'mark_price': '450.36159851', 'mark_vol': \"\n",
      " \"'0.3148419250889370838801066081', 'oi': '4.3760', 'oi_contracts': '4376', \"\n",
      " \"'oi_value': '4.3760', 'oi_value_symbol': 'BTC', 'oi_value_usd': \"\n",
      " \"'74095.3660', 'open': '449.1', 'price_band': {'lower_limit': \"\n",
      " \"'0.100000000000000000', 'upper_limit': '4506.88461561'}, 'product_id': \"\n",
      " \"'84997', 'quotes': {'ask_iv': '0.3280855901539325714111328125', 'ask_size': \"\n",
      " \"'383', 'best_ask': '471', 'best_bid': '430', 'bid_iv': \"\n",
      " \"'0.3014676831662654876708984375', 'bid_size': '5419', 'mark_iv': \"\n",
      " \"'0.3148635736821840206782023113'}, 'size': '270', 'spot_price': \"\n",
      " \"'16926.937805036432', 'strike_price': '17000', 'symbol': \"\n",
      " \"'C-BTC-17000-270123', 'timestamp': '1673179206884475', 'turnover': \"\n",
      " \"'4572.41160252', 'turnover_symbol': 'USDT', 'turnover_usd': '4572.41160252', \"\n",
      " \"'volume': '0.27'}}\")\n",
      "(\"Deribit ticker: {'symbol': 'BTC/USD:BTC-230127-17000-C', 'timestamp': \"\n",
      " \"1673179208051, 'datetime': '2023-01-08T12:00:08.051Z', 'high': 0.0285, \"\n",
      " \"'low': 0.027, 'bid': 0.0265, 'bidVolume': 0.3, 'ask': 0.027, 'askVolume': \"\n",
      " \"1.4, 'vwap': None, 'open': None, 'close': 0.027, 'last': 0.027, \"\n",
      " \"'previousClose': None, 'change': None, 'percentage': None, 'average': None, \"\n",
      " \"'baseVolume': None, 'quoteVolume': 38.3, 'info': {'underlying_price': \"\n",
      " \"'16941.42', 'underlying_index': 'BTC-27JAN23', 'timestamp': '1673179208051', \"\n",
      " \"'stats': {'volume': '38.3', 'price_change': '0.0', 'low': '0.027', 'high': \"\n",
      " \"'0.0285'}, 'state': 'open', 'settlement_price': '0.02795464', \"\n",
      " \"'open_interest': '1965.2', 'min_price': '0.007', 'max_price': '0.0565', \"\n",
      " \"'mark_price': '0.0269', 'mark_iv': '31.48', 'last_price': '0.027', \"\n",
      " \"'interest_rate': '0.0', 'instrument_name': 'BTC-27JAN23-17000-C', \"\n",
      " \"'index_price': '16931.19', 'greeks': {'vega': '15.35123', 'theta': \"\n",
      " \"'-12.83085', 'rho': '4.09215', 'gamma': '0.00033', 'delta': '0.49501'}, \"\n",
      " \"'estimated_delivery_price': '16931.19', 'bid_iv': '31.07', 'best_bid_price': \"\n",
      " \"'0.0265', 'best_bid_amount': '0.3', 'best_ask_price': '0.027', \"\n",
      " \"'best_ask_amount': '1.4', 'ask_iv': '31.62'}}\")\n"
     ]
    }
   ],
   "source": [
    "def get_ticker(strike, expiration, underlying, quote, payoff):\n",
    "    # Construct the ticker symbol for the contract\n",
    "    delta_ticker_specification = f\"{underlying}/{quote}:{quote}-{expiration}:{strike}:{payoff}\"\n",
    "    if quote == \"USDT\": quote = \"USD\"\n",
    "    deribit_ticker_specification = f\"{underlying}/{quote}:{underlying}-{expiration}-{strike}-{payoff}\"\n",
    "    # Fetch the ticker data from the Delta exchange\n",
    "    delta_ticker = exchanges_dict['delta'].fetch_ticker(delta_ticker_specification)\n",
    "    pprint(f\"Delta ticker: {delta_ticker}\")\n",
    "\n",
    "    # Fetch the ticker data from the Deribit exchange\n",
    "    deribit_ticker = exchanges_dict['deribit'].fetch_ticker(deribit_ticker_specification)\n",
    "    pprint(f\"Deribit ticker: {deribit_ticker}\")\n",
    "\n",
    "    return {\n",
    "        \"delta\": delta_ticker,\n",
    "        \"deribit\": deribit_ticker,\n",
    "    }\n",
    "    \n",
    "tickers_dict = get_ticker(**contract_specification)"
   ]
  },
  {
   "cell_type": "code",
   "execution_count": 130,
   "metadata": {},
   "outputs": [
    {
     "name": "stdout",
     "output_type": "stream",
     "text": [
      "{'expiration': datetime.datetime(2023, 1, 27, 0, 0),\n",
      " 'payoff': 'call',\n",
      " 'quote': 'USDT',\n",
      " 'strike': 17000.0,\n",
      " 'underlying': 'BTC'}\n"
     ]
    }
   ],
   "source": [
    "def parse_option_spectification_delta(option_specification):\n",
    "    expiration = datetime.datetime.strptime(option_specification['expiration'], \"%y%m%d\")\n",
    "\n",
    "    return {\n",
    "        \"underlying\": option_specification['underlying'],\n",
    "        \"quote\": option_specification['quote'],\n",
    "        \"expiration\": expiration,\n",
    "        \"strike\": float(option_specification['strike']),\n",
    "        \"payoff\": \"call\" if option_specification['payoff'] in (\"C\", \"call\", \"Call\", \"CALL\") else \"put\",\n",
    "    }\n",
    "\n",
    "option_specification = parse_option_spectification_delta(contract_specification)\n",
    "pprint(option_specification)"
   ]
  },
  {
   "cell_type": "code",
   "execution_count": 131,
   "metadata": {},
   "outputs": [
    {
     "name": "stdout",
     "output_type": "stream",
     "text": [
      "(datetime.datetime(2023, 1, 8, 13, 0, 8, 572534), datetime.datetime(2023, 1, 27, 0, 0))\n",
      "18.458234114189814\n"
     ]
    }
   ],
   "source": [
    "now = datetime.datetime.now()\n",
    "forward_date = option_specification[\"expiration\"]\n",
    "print((now, forward_date))\n",
    "\n",
    "timedelta_until_expiration = forward_date - now\n",
    "\n",
    "days_until_expiration = timedelta_until_expiration.total_seconds() / 86400\n",
    "print(days_until_expiration)\n",
    "\n",
    "exchanges_option_contract = {}"
   ]
  },
  {
   "cell_type": "code",
   "execution_count": 132,
   "metadata": {},
   "outputs": [
    {
     "name": "stdout",
     "output_type": "stream",
     "text": [
      "'BTC/USDT:USDT-230127:17000:C'\n",
      "[0.03, 0.03, 0.1]\n"
     ]
    }
   ],
   "source": [
    "pprint(tickers_dict['delta']['symbol'])\n",
    "\n",
    "# pprint(instruments_dict['delta'][tickers_dict['delta']['symbol']])\n",
    "delta_maker_fees_rate = float(instruments_dict['delta'][tickers_dict['delta']['symbol']]['maker'])*100\n",
    "delta_taker_fees_rate = float(instruments_dict['delta'][tickers_dict['delta']['symbol']]['taker'])*100\n",
    "delta_premium_commission_rate = float(instruments_dict['delta'][tickers_dict['delta']['symbol']]['info']['product_specs']['premium_commission_rate'])\n",
    "\n",
    "pprint([\n",
    "    delta_maker_fees_rate,\n",
    "    delta_taker_fees_rate,\n",
    "    delta_premium_commission_rate\n",
    "])"
   ]
  },
  {
   "cell_type": "code",
   "execution_count": 133,
   "metadata": {},
   "outputs": [
    {
     "name": "stdout",
     "output_type": "stream",
     "text": [
      "'BTC/USD:BTC-230127-17000-C'\n",
      "[0.03, 0.03, 0.125]\n"
     ]
    }
   ],
   "source": [
    "pprint(tickers_dict['deribit']['symbol'])\n",
    "# pprint(instruments_dict['deribit'][tickers_dict['deribit']['symbol']])\n",
    "\n",
    "deribit_maker_fees_rate = float(instruments_dict['deribit'][tickers_dict['deribit']['symbol']]['maker'])*100\n",
    "deribit_taker_fees_rate = float(instruments_dict['deribit'][tickers_dict['deribit']['symbol']]['taker'])*100\n",
    "deribit_premium_commission_rate = 0.125\n",
    "\n",
    "pprint([\n",
    "    deribit_maker_fees_rate,\n",
    "    deribit_taker_fees_rate,\n",
    "    deribit_premium_commission_rate\n",
    "])"
   ]
  },
  {
   "cell_type": "code",
   "execution_count": 134,
   "metadata": {},
   "outputs": [
    {
     "data": {
      "text/plain": [
       "'\\ntry:\\n    a = exchanges_dict[\\'delta\\'].fetchFees()\\n    pprint(f\"fetchFees: {a}\")\\n    #b = exchanges_dict[\\'delta\\'].fetchTradingFee(tickers_dict[\\'delta\\'][\\'info\\'][\\'product_id\\'])\\n    #pprint(f\"fetchFees: {b}\")\\n    #c = exchanges_dict[\\'delta\\'].fetchTradingFees()\\n    #pprint(f\"fetchFees: {c}\")\\n    # d = exchanges_dict[\\'delta\\'].fetchTransactionFee()\\n    # pprint(f\"fetchFees: {d}\")\\n    #e = exchanges_dict[\\'delta\\'].fetchTransactionFees()\\n    #pprint(f\"fetchFees: {e}\")\\n    #a = exchanges_dict[\\'deribit\\'].fetchFees()\\n    #pprint(f\"fetchFees: {a}\")\\n    b = exchanges_dict[\\'deribit\\'].fetchTradingFee(tickers_dict[\\'deribit\\'][\\'info\\'][\\'instrument_name\\'])\\n    pprint(f\"fetchFees: {b}\")\\n    c = exchanges_dict[\\'deribit\\'].fetchTradingFees()\\n    pprint(f\"fetchFees: {c}\")\\n    d = exchanges_dict[\\'deribit\\'].fetchTransactionFee()\\n    pprint(f\"fetchFees: {d}\")\\n    e = exchanges_dict[\\'deribit\\'].fetchTransactionFees()\\n    pprint(f\"fetchFees: {e}\")\\nexcept Exception as e:\\n    pprint(e)\\n'"
      ]
     },
     "execution_count": 134,
     "metadata": {},
     "output_type": "execute_result"
    }
   ],
   "source": [
    "\"\"\"\n",
    "try:\n",
    "    a = exchanges_dict['delta'].fetchFees()\n",
    "    pprint(f\"fetchFees: {a}\")\n",
    "    #b = exchanges_dict['delta'].fetchTradingFee(tickers_dict['delta']['info']['product_id'])\n",
    "    #pprint(f\"fetchFees: {b}\")\n",
    "    #c = exchanges_dict['delta'].fetchTradingFees()\n",
    "    #pprint(f\"fetchFees: {c}\")\n",
    "    # d = exchanges_dict['delta'].fetchTransactionFee()\n",
    "    # pprint(f\"fetchFees: {d}\")\n",
    "    #e = exchanges_dict['delta'].fetchTransactionFees()\n",
    "    #pprint(f\"fetchFees: {e}\")\n",
    "    #a = exchanges_dict['deribit'].fetchFees()\n",
    "    #pprint(f\"fetchFees: {a}\")\n",
    "    b = exchanges_dict['deribit'].fetchTradingFee(tickers_dict['deribit']['info']['instrument_name'])\n",
    "    pprint(f\"fetchFees: {b}\")\n",
    "    c = exchanges_dict['deribit'].fetchTradingFees()\n",
    "    pprint(f\"fetchFees: {c}\")\n",
    "    d = exchanges_dict['deribit'].fetchTransactionFee()\n",
    "    pprint(f\"fetchFees: {d}\")\n",
    "    e = exchanges_dict['deribit'].fetchTransactionFees()\n",
    "    pprint(f\"fetchFees: {e}\")\n",
    "except Exception as e:\n",
    "    pprint(e)\n",
    "\"\"\""
   ]
  },
  {
   "cell_type": "code",
   "execution_count": 135,
   "metadata": {},
   "outputs": [],
   "source": [
    "### DeltaExchange Format\n",
    "\"\"\"\n",
    "    Retrieve\n",
    "    IV\n",
    "    index price (Underlying price)\n",
    "    days until expiration\n",
    "    strike price\n",
    "    interest rate\n",
    "    dividend yield (0)\n",
    "\"\"\"\n",
    "delta_option_contract = tickers_dict['delta']\n",
    "greeks = delta_option_contract[\"info\"][\"greeks\"]\n",
    "ask_iv = float(delta_option_contract[\"info\"][\"quotes\"]['ask_iv'])\n",
    "ask_size = float(delta_option_contract[\"info\"][\"quotes\"]['ask_size'])\n",
    "best_ask = float(delta_option_contract[\"info\"][\"quotes\"]['best_ask'])\n",
    "best_bid = float(delta_option_contract[\"info\"][\"quotes\"]['best_bid'])\n",
    "bid_iv = float(delta_option_contract[\"info\"][\"quotes\"]['bid_iv'])\n",
    "bid_size = float(delta_option_contract[\"info\"][\"quotes\"]['bid_size'])\n",
    "mark_iv = float(delta_option_contract[\"info\"][\"quotes\"]['mark_iv'])\n",
    "strike_price = float(delta_option_contract[\"info\"][\"strike_price\"])\n",
    "spot_price = float(delta_option_contract[\"info\"][\"spot_price\"])\n",
    "\n",
    "exchanges_option_contract.update(\n",
    "    {\n",
    "        'delta': {\n",
    "            'best_ask': best_ask,\n",
    "            'spot_price': spot_price,\n",
    "            'ask_iv': ask_iv,\n",
    "        }\n",
    "    }\n",
    ")"
   ]
  },
  {
   "cell_type": "code",
   "execution_count": 136,
   "metadata": {},
   "outputs": [],
   "source": [
    "### Deribit Format\n",
    "deribit_option_contract = tickers_dict['deribit']\n",
    "greeks = deribit_option_contract[\"info\"][\"greeks\"] # Deribit format\n",
    "ask_iv = float(deribit_option_contract['info']['ask_iv']) if float(deribit_option_contract['info']['ask_iv']) else float(deribit_option_contract['info']['mark_iv']) \n",
    "strike_price = option_specification['strike']\n",
    "spot_price = float(deribit_option_contract[\"info\"][\"underlying_price\"])\n",
    "best_ask_price = float(deribit_option_contract[\"info\"]['best_ask_price']) if float(deribit_option_contract['info']['best_ask_price']) else float(deribit_option_contract['info']['mark_price']) \n",
    "\n",
    "exchanges_option_contract.update(\n",
    "    {\n",
    "        'deribit': {\n",
    "            'best_ask': best_ask_price*spot_price,\n",
    "            'spot_price': spot_price,\n",
    "            'ask_iv': ask_iv/100.0,\n",
    "        }\n",
    "    }\n",
    ")"
   ]
  },
  {
   "cell_type": "code",
   "execution_count": 137,
   "metadata": {},
   "outputs": [],
   "source": [
    "def binomial_price(S0, K, T, r, sigma, N=15000, payoff=\"call\"):\n",
    "    # N number of periods or number of time steps  \n",
    "\n",
    "    dT = float(T) / N                             # Delta t\n",
    "    u = np.exp(sigma * np.sqrt(dT))                 # up factor\n",
    "    d = 1.0 / u                                   # down factor \n",
    "\n",
    "    V = np.zeros(N+1)                             # initialize the price vector\n",
    "    S_T = np.array( [(S0 * u**j * d**(N - j)) for j in range(N + 1)] )  # price S_T at time T\n",
    "\n",
    "    a = np.exp(r * dT)    # risk free compounded return\n",
    "    p = (a - d)/ (u - d)  # risk neutral up probability\n",
    "    q = 1.0 - p           # risk neutral down probability   \n",
    "\n",
    "    if payoff ==\"call\":\n",
    "        V[:] = np.maximum(S_T-K, 0.0)\n",
    "    else:\n",
    "        V[:] = np.maximum(K-S_T, 0.0)\n",
    "\n",
    "    for i in range(N-1, -1, -1):\n",
    "        V[:-1] = np.exp(-r*dT) * (p * V[1:] + q * V[:-1])    # the price vector is overwritten at each step\n",
    "            \n",
    "    return V[0]\n"
   ]
  },
  {
   "cell_type": "code",
   "execution_count": 138,
   "metadata": {},
   "outputs": [
    {
     "name": "stdout",
     "output_type": "stream",
     "text": [
      "==============================================\n",
      "Our BS price: 467.48739214286707\n",
      "current market price on delta = 471.0\n",
      "==============================================\n",
      "Our BS price: 456.61298329627334\n",
      "current market price on deribit = 457.41833999999994\n",
      "==============================================\n"
     ]
    }
   ],
   "source": [
    "for exch, option  in exchanges_option_contract.items():\n",
    "   print(\"==============================================\")\n",
    "   info = {\n",
    "      \"S0\": float(option['spot_price']),\n",
    "      \"K\": float(option_specification['strike']),\n",
    "      \"T\": float(days_until_expiration/365),\n",
    "      \"r\": float(1/100),\n",
    "      \"sigma\": float(option['ask_iv']),\n",
    "      \"payoff\": option_specification[\"payoff\"]\n",
    "   }\n",
    "   option_price = BS_pricer.BlackScholes(**info)\n",
    "\n",
    "   print(f\"Our BS price: {option_price}\")\n",
    "   #bin_price = binomial_price(**info)\n",
    "   #print(f\"binomial price: {bin_price}\") \n",
    "   print(f\"current market price on {exch} = {option['best_ask']}\")\n",
    "print(\"==============================================\")"
   ]
  },
  {
   "cell_type": "code",
   "execution_count": 139,
   "metadata": {},
   "outputs": [
    {
     "name": "stdout",
     "output_type": "stream",
     "text": [
      "Delta Exchange\n",
      "BTC/USDT:USDT\n",
      "ETH/USDT:USDT\n",
      "Deribit\n",
      "BTC/USDT:USDT\n"
     ]
    },
    {
     "ename": "BadSymbol",
     "evalue": "deribit does not have market symbol BTC/USDT:USDT",
     "output_type": "error",
     "traceback": [
      "\u001b[0;31m---------------------------------------------------------------------------\u001b[0m",
      "\u001b[0;31mBadSymbol\u001b[0m                                 Traceback (most recent call last)",
      "Cell \u001b[0;32mIn[139], line 38\u001b[0m\n\u001b[1;32m     36\u001b[0m all_ohlcv \u001b[39m=\u001b[39m []\n\u001b[1;32m     37\u001b[0m \u001b[39mwhile\u001b[39;00m since \u001b[39m<\u001b[39m exch\u001b[39m.\u001b[39mmilliseconds():\n\u001b[0;32m---> 38\u001b[0m     coin_ohlcv \u001b[39m=\u001b[39m exch\u001b[39m.\u001b[39;49mfetchOHLCV(coin, t_frame, since)\n\u001b[1;32m     39\u001b[0m     \u001b[39mif\u001b[39;00m \u001b[39mnot\u001b[39;00m coin_ohlcv: \u001b[39mbreak\u001b[39;00m\n\u001b[1;32m     40\u001b[0m     since \u001b[39m=\u001b[39m coin_ohlcv[\u001b[39m-\u001b[39m\u001b[39m1\u001b[39m][\u001b[39m0\u001b[39m] \u001b[39m+\u001b[39m \u001b[39m1\u001b[39m \u001b[39m# query the last and add 1 to the number of milliseconds\u001b[39;00m\n",
      "File \u001b[0;32m~/.local/share/virtualenvs/data-acc-msZwibCE/lib/python3.11/site-packages/ccxt/deribit.py:1056\u001b[0m, in \u001b[0;36mderibit.fetch_ohlcv\u001b[0;34m(self, symbol, timeframe, since, limit, params)\u001b[0m\n\u001b[1;32m   1046\u001b[0m \u001b[39m\u001b[39m\u001b[39m\"\"\"\u001b[39;00m\n\u001b[1;32m   1047\u001b[0m \u001b[39mfetches historical candlestick data containing the open, high, low, and close price, and the volume of a market\u001b[39;00m\n\u001b[1;32m   1048\u001b[0m \u001b[39m:param str symbol: unified symbol of the market to fetch OHLCV data for\u001b[39;00m\n\u001b[0;32m   (...)\u001b[0m\n\u001b[1;32m   1053\u001b[0m \u001b[39m:returns [[int]]: A list of candles ordered as timestamp, open, high, low, close, volume\u001b[39;00m\n\u001b[1;32m   1054\u001b[0m \u001b[39m\"\"\"\u001b[39;00m\n\u001b[1;32m   1055\u001b[0m \u001b[39mself\u001b[39m\u001b[39m.\u001b[39mload_markets()\n\u001b[0;32m-> 1056\u001b[0m market \u001b[39m=\u001b[39m \u001b[39mself\u001b[39;49m\u001b[39m.\u001b[39;49mmarket(symbol)\n\u001b[1;32m   1057\u001b[0m request \u001b[39m=\u001b[39m {\n\u001b[1;32m   1058\u001b[0m     \u001b[39m'\u001b[39m\u001b[39minstrument_name\u001b[39m\u001b[39m'\u001b[39m: market[\u001b[39m'\u001b[39m\u001b[39mid\u001b[39m\u001b[39m'\u001b[39m],\n\u001b[1;32m   1059\u001b[0m     \u001b[39m'\u001b[39m\u001b[39mresolution\u001b[39m\u001b[39m'\u001b[39m: \u001b[39mself\u001b[39m\u001b[39m.\u001b[39mtimeframes[timeframe],\n\u001b[1;32m   1060\u001b[0m }\n\u001b[1;32m   1061\u001b[0m duration \u001b[39m=\u001b[39m \u001b[39mself\u001b[39m\u001b[39m.\u001b[39mparse_timeframe(timeframe)\n",
      "File \u001b[0;32m~/.local/share/virtualenvs/data-acc-msZwibCE/lib/python3.11/site-packages/ccxt/base/exchange.py:3239\u001b[0m, in \u001b[0;36mExchange.market\u001b[0;34m(self, symbol)\u001b[0m\n\u001b[1;32m   3237\u001b[0m                 \u001b[39mreturn\u001b[39;00m market\n\u001b[1;32m   3238\u001b[0m         \u001b[39mreturn\u001b[39;00m markets[\u001b[39m0\u001b[39m]\n\u001b[0;32m-> 3239\u001b[0m \u001b[39mraise\u001b[39;00m BadSymbol(\u001b[39mself\u001b[39m\u001b[39m.\u001b[39mid \u001b[39m+\u001b[39m \u001b[39m'\u001b[39m\u001b[39m does not have market symbol \u001b[39m\u001b[39m'\u001b[39m \u001b[39m+\u001b[39m symbol)\n",
      "\u001b[0;31mBadSymbol\u001b[0m: deribit does not have market symbol BTC/USDT:USDT"
     ]
    }
   ],
   "source": [
    "header = ['Timestamp', 'Open', 'High', 'Low', 'Close', 'Volume']\n",
    "# since = exchange.milliseconds () - 86400000  # -1 day from now\n",
    "start_date = '2023-01-01T00:00:00Z' # fetch from a certain starting datetime\n",
    "t_frame = '1d' # 1-day timeframe, usually from 1-minute to 1-week depending on the exchange\n",
    "symbols = [\n",
    "    'BTC/USDT:USDT',\n",
    "    'ETH/USDT:USDT',\n",
    "    #'AAVE/USDT:USDT',\n",
    "    #'BNB/USDT:USDT',\n",
    "    #'CRV/USDT:USDT',\n",
    "    #'SNX/USDT:USDT',\n",
    "    #'LINK/USDT:USDT',\n",
    "]\n",
    "exchange_list = ['delta']#, 'deribit']\n",
    "data_df = pd.DataFrame(None, columns=header).set_index('Timestamp')\n",
    "\n",
    "for exchange_name, exch in exchanges_dict.items():\n",
    "    print(exch)\n",
    "    if exch.has[\"fetchOHLCV\"] != True:\n",
    "        print('-'*36,' ERROR ','-'*35)\n",
    "        print(f'{exchange_name} does not support fetching OHLC data. Please use another exchange')\n",
    "        print('-'*80)\n",
    "        quit()\n",
    "    if (not hasattr(exch, 'timeframes')) or (t_frame not in exch.timeframes):\n",
    "        print('-'*36,' ERROR ','-'*35)\n",
    "        print(f'The requested timeframe ({t_frame}) is not available from {exchange_name}\\n')\n",
    "        print('Available timeframes are:')\n",
    "        for key in exch.timeframes.keys():\n",
    "            print('  - ' + key)\n",
    "        print('-'*80)\n",
    "        quit()\n",
    "    exch.load_markets()\n",
    "    for coin in symbols:\n",
    "        print(coin)\n",
    "        since = exch.parse8601(start_date) # fetch from a certain starting datetime\n",
    "        all_ohlcv = []\n",
    "        while since < exch.milliseconds():\n",
    "            coin_ohlcv = exch.fetchOHLCV(coin, t_frame, since)\n",
    "            if not coin_ohlcv: break\n",
    "            since = coin_ohlcv[-1][0] + 1 # query the last and add 1 to the number of milliseconds\n",
    "            all_ohlcv += coin_ohlcv\n",
    "        df = pd.DataFrame(all_ohlcv, columns=header).set_index('Timestamp')\n",
    "        df['Symbol'] = coin\n",
    "        df['Exchange'] = exch\n",
    "        data_df = pd.concat([data_df, df])\n",
    "\n",
    "data_df.index /= 1000 #Timestamp is 1000 times bigger than it should be in this case\n",
    "data_df['Date'] = pd.to_datetime(data_df.index, unit='s')\n",
    "data_df.to_csv(f\"./data/{start_date}_{t_frame}\")"
   ]
  },
  {
   "cell_type": "code",
   "execution_count": null,
   "metadata": {},
   "outputs": [],
   "source": [
    "### DATA RETRIEVE BACKUP\n",
    "\n",
    "for exch in exchange_list:\n",
    "    print(exch)\n",
    "    try:\n",
    "        exchange = getattr(ccxt, exch)()\n",
    "    except AttributeError:\n",
    "        print('-'*36,' ERROR ','-'*35)\n",
    "        print('Exchange \"{}\" not found. Please check the exchange is supported.'.format(exch))\n",
    "        print('-'*80)\n",
    "        quit()\n",
    "    if exchange.has[\"fetchOHLCV\"] != True:\n",
    "        print('-'*36,' ERROR ','-'*35)\n",
    "        print('{} does not support fetching OHLC data. Please use another exchange'.format(exch))\n",
    "        print('-'*80)\n",
    "        quit()\n",
    "    if (not hasattr(exchange, 'timeframes')) or (t_frame not in exchange.timeframes):\n",
    "        print('-'*36,' ERROR ','-'*35)\n",
    "        print('The requested timeframe ({}) is not available from {}\\n'.format(t_frame,exch))\n",
    "        print('Available timeframes are:')\n",
    "        for key in exchange.timeframes.keys():\n",
    "            print('  - ' + key)\n",
    "        print('-'*80)\n",
    "        quit()\n",
    "    exchange.load_markets()\n",
    "    for coin in symbols:\n",
    "        print(coin)\n",
    "        since = exchange.parse8601(start_date) # fetch from a certain starting datetime\n",
    "        all_ohlcv = []\n",
    "        while since < exchange.milliseconds():\n",
    "            coin_ohlcv = exchange.fetchOHLCV(coin, t_frame, since)\n",
    "            if not coin_ohlcv: break\n",
    "            since = coin_ohlcv[-1][0] + 1 # query the last and add 1 to the number of milliseconds\n",
    "            all_ohlcv += coin_ohlcv\n",
    "        df = pd.DataFrame(all_ohlcv, columns=header).set_index('Timestamp')\n",
    "        df['Symbol'] = coin\n",
    "        df['Exchange'] = exch\n",
    "        data_df = pd.concat([data_df, df])\n",
    "\n",
    "data_df.index /= 1000 #Timestamp is 1000 times bigger than it should be in this case\n",
    "data_df['Date'] = pd.to_datetime(data_df.index, unit='s')\n",
    "data_df.to_csv(f\"./data/{start_date}_{t_frame}\")"
   ]
  },
  {
   "cell_type": "code",
   "execution_count": 21,
   "metadata": {},
   "outputs": [
    {
     "data": {
      "text/html": [
       "<div>\n",
       "<style scoped>\n",
       "    .dataframe tbody tr th:only-of-type {\n",
       "        vertical-align: middle;\n",
       "    }\n",
       "\n",
       "    .dataframe tbody tr th {\n",
       "        vertical-align: top;\n",
       "    }\n",
       "\n",
       "    .dataframe thead th {\n",
       "        text-align: right;\n",
       "    }\n",
       "</style>\n",
       "<table border=\"1\" class=\"dataframe\">\n",
       "  <thead>\n",
       "    <tr style=\"text-align: right;\">\n",
       "      <th></th>\n",
       "      <th>Timestamp</th>\n",
       "      <th>Open</th>\n",
       "      <th>High</th>\n",
       "      <th>Low</th>\n",
       "      <th>Close</th>\n",
       "      <th>Volume</th>\n",
       "      <th>Symbol</th>\n",
       "      <th>Exchange</th>\n",
       "    </tr>\n",
       "    <tr>\n",
       "      <th>Date</th>\n",
       "      <th></th>\n",
       "      <th></th>\n",
       "      <th></th>\n",
       "      <th></th>\n",
       "      <th></th>\n",
       "      <th></th>\n",
       "      <th></th>\n",
       "      <th></th>\n",
       "    </tr>\n",
       "  </thead>\n",
       "  <tbody>\n",
       "    <tr>\n",
       "      <th>2021-01-01</th>\n",
       "      <td>1.609459e+09</td>\n",
       "      <td>28989.5</td>\n",
       "      <td>29633.5</td>\n",
       "      <td>28699.5</td>\n",
       "      <td>29339.0</td>\n",
       "      <td>543183.0</td>\n",
       "      <td>BTC/USDT:USDT</td>\n",
       "      <td>delta</td>\n",
       "    </tr>\n",
       "    <tr>\n",
       "      <th>2021-01-02</th>\n",
       "      <td>1.609546e+09</td>\n",
       "      <td>29311.0</td>\n",
       "      <td>33311.0</td>\n",
       "      <td>28990.0</td>\n",
       "      <td>32222.0</td>\n",
       "      <td>671497.0</td>\n",
       "      <td>BTC/USDT:USDT</td>\n",
       "      <td>delta</td>\n",
       "    </tr>\n",
       "    <tr>\n",
       "      <th>2021-01-03</th>\n",
       "      <td>1.609632e+09</td>\n",
       "      <td>32237.0</td>\n",
       "      <td>34776.5</td>\n",
       "      <td>32037.0</td>\n",
       "      <td>33021.0</td>\n",
       "      <td>478717.0</td>\n",
       "      <td>BTC/USDT:USDT</td>\n",
       "      <td>delta</td>\n",
       "    </tr>\n",
       "    <tr>\n",
       "      <th>2021-01-04</th>\n",
       "      <td>1.609718e+09</td>\n",
       "      <td>33032.5</td>\n",
       "      <td>33620.0</td>\n",
       "      <td>28322.0</td>\n",
       "      <td>32027.5</td>\n",
       "      <td>530053.0</td>\n",
       "      <td>BTC/USDT:USDT</td>\n",
       "      <td>delta</td>\n",
       "    </tr>\n",
       "    <tr>\n",
       "      <th>2021-01-05</th>\n",
       "      <td>1.609805e+09</td>\n",
       "      <td>32087.5</td>\n",
       "      <td>34446.5</td>\n",
       "      <td>29968.0</td>\n",
       "      <td>34040.0</td>\n",
       "      <td>670836.0</td>\n",
       "      <td>BTC/USDT:USDT</td>\n",
       "      <td>delta</td>\n",
       "    </tr>\n",
       "    <tr>\n",
       "      <th>...</th>\n",
       "      <td>...</td>\n",
       "      <td>...</td>\n",
       "      <td>...</td>\n",
       "      <td>...</td>\n",
       "      <td>...</td>\n",
       "      <td>...</td>\n",
       "      <td>...</td>\n",
       "      <td>...</td>\n",
       "    </tr>\n",
       "    <tr>\n",
       "      <th>2022-12-16</th>\n",
       "      <td>1.671149e+09</td>\n",
       "      <td>17352.0</td>\n",
       "      <td>17528.0</td>\n",
       "      <td>16519.5</td>\n",
       "      <td>16624.5</td>\n",
       "      <td>2247244.0</td>\n",
       "      <td>BTC/USDT:USDT</td>\n",
       "      <td>delta</td>\n",
       "    </tr>\n",
       "    <tr>\n",
       "      <th>2022-12-17</th>\n",
       "      <td>1.671235e+09</td>\n",
       "      <td>16623.5</td>\n",
       "      <td>16789.0</td>\n",
       "      <td>16575.5</td>\n",
       "      <td>16769.5</td>\n",
       "      <td>1329591.0</td>\n",
       "      <td>BTC/USDT:USDT</td>\n",
       "      <td>delta</td>\n",
       "    </tr>\n",
       "    <tr>\n",
       "      <th>2022-12-18</th>\n",
       "      <td>1.671322e+09</td>\n",
       "      <td>16768.5</td>\n",
       "      <td>16871.0</td>\n",
       "      <td>16655.0</td>\n",
       "      <td>16731.0</td>\n",
       "      <td>1221652.0</td>\n",
       "      <td>BTC/USDT:USDT</td>\n",
       "      <td>delta</td>\n",
       "    </tr>\n",
       "    <tr>\n",
       "      <th>2022-12-19</th>\n",
       "      <td>1.671408e+09</td>\n",
       "      <td>16731.0</td>\n",
       "      <td>16805.5</td>\n",
       "      <td>16218.5</td>\n",
       "      <td>16431.0</td>\n",
       "      <td>1482652.0</td>\n",
       "      <td>BTC/USDT:USDT</td>\n",
       "      <td>delta</td>\n",
       "    </tr>\n",
       "    <tr>\n",
       "      <th>2022-12-20</th>\n",
       "      <td>1.671494e+09</td>\n",
       "      <td>16430.0</td>\n",
       "      <td>17045.5</td>\n",
       "      <td>16391.5</td>\n",
       "      <td>16804.0</td>\n",
       "      <td>1441945.0</td>\n",
       "      <td>BTC/USDT:USDT</td>\n",
       "      <td>delta</td>\n",
       "    </tr>\n",
       "  </tbody>\n",
       "</table>\n",
       "<p>719 rows × 8 columns</p>\n",
       "</div>"
      ],
      "text/plain": [
       "               Timestamp     Open     High      Low    Close     Volume  \\\n",
       "Date                                                                      \n",
       "2021-01-01  1.609459e+09  28989.5  29633.5  28699.5  29339.0   543183.0   \n",
       "2021-01-02  1.609546e+09  29311.0  33311.0  28990.0  32222.0   671497.0   \n",
       "2021-01-03  1.609632e+09  32237.0  34776.5  32037.0  33021.0   478717.0   \n",
       "2021-01-04  1.609718e+09  33032.5  33620.0  28322.0  32027.5   530053.0   \n",
       "2021-01-05  1.609805e+09  32087.5  34446.5  29968.0  34040.0   670836.0   \n",
       "...                  ...      ...      ...      ...      ...        ...   \n",
       "2022-12-16  1.671149e+09  17352.0  17528.0  16519.5  16624.5  2247244.0   \n",
       "2022-12-17  1.671235e+09  16623.5  16789.0  16575.5  16769.5  1329591.0   \n",
       "2022-12-18  1.671322e+09  16768.5  16871.0  16655.0  16731.0  1221652.0   \n",
       "2022-12-19  1.671408e+09  16731.0  16805.5  16218.5  16431.0  1482652.0   \n",
       "2022-12-20  1.671494e+09  16430.0  17045.5  16391.5  16804.0  1441945.0   \n",
       "\n",
       "                   Symbol Exchange  \n",
       "Date                                \n",
       "2021-01-01  BTC/USDT:USDT    delta  \n",
       "2021-01-02  BTC/USDT:USDT    delta  \n",
       "2021-01-03  BTC/USDT:USDT    delta  \n",
       "2021-01-04  BTC/USDT:USDT    delta  \n",
       "2021-01-05  BTC/USDT:USDT    delta  \n",
       "...                   ...      ...  \n",
       "2022-12-16  BTC/USDT:USDT    delta  \n",
       "2022-12-17  BTC/USDT:USDT    delta  \n",
       "2022-12-18  BTC/USDT:USDT    delta  \n",
       "2022-12-19  BTC/USDT:USDT    delta  \n",
       "2022-12-20  BTC/USDT:USDT    delta  \n",
       "\n",
       "[719 rows x 8 columns]"
      ]
     },
     "execution_count": 21,
     "metadata": {},
     "output_type": "execute_result"
    }
   ],
   "source": [
    "df = pd.read_csv(f\"./data/{start_date}_{t_frame}\", index_col=\"Date\")\n",
    "df"
   ]
  },
  {
   "cell_type": "code",
   "execution_count": 22,
   "metadata": {},
   "outputs": [
    {
     "data": {
      "text/plain": [
       "Date\n",
       "2021-01-02    9.826511\n",
       "2021-01-03    2.479672\n",
       "2021-01-04   -3.008691\n",
       "2021-01-05    6.283662\n",
       "2021-01-06    8.168331\n",
       "                ...   \n",
       "2022-12-16   -4.192600\n",
       "2022-12-17    0.872207\n",
       "2022-12-18   -0.229583\n",
       "2022-12-19   -1.793079\n",
       "2022-12-20    2.270099\n",
       "Name: Close, Length: 718, dtype: float64"
      ]
     },
     "execution_count": 22,
     "metadata": {},
     "output_type": "execute_result"
    }
   ],
   "source": [
    "returns = 100 * df[df[\"Symbol\"] == \"BTC/USDT:USDT\"][\"Close\"].pct_change().dropna()\n",
    "returns"
   ]
  },
  {
   "cell_type": "code",
   "execution_count": 23,
   "metadata": {},
   "outputs": [
    {
     "name": "stdout",
     "output_type": "stream",
     "text": [
      "Iteration:      5,   Func. Count:     35,   Neg. LLF: 1986.6276349780278\n",
      "Iteration:     10,   Func. Count:     64,   Neg. LLF: 1970.9922385375985\n",
      "Optimization terminated successfully    (Exit mode 0)\n",
      "            Current function value: 1970.9839043467969\n",
      "            Iterations: 14\n",
      "            Function evaluations: 86\n",
      "            Gradient evaluations: 14\n",
      "Iteration:      1,   Func. Count:      6,   Neg. LLF: 424074121.17835295\n",
      "Iteration:      2,   Func. Count:     14,   Neg. LLF: 2338.7083696338486\n",
      "Iteration:      3,   Func. Count:     22,   Neg. LLF: 2039.6286477783688\n",
      "Iteration:      4,   Func. Count:     29,   Neg. LLF: 1986.3394479465649\n",
      "Iteration:      5,   Func. Count:     35,   Neg. LLF: 1986.6276349780278\n",
      "Iteration:      6,   Func. Count:     41,   Neg. LLF: 1985.7314531882776\n",
      "Iteration:      7,   Func. Count:     47,   Neg. LLF: 1983.261585117878\n",
      "Iteration:      8,   Func. Count:     53,   Neg. LLF: 1971.7411278357495\n",
      "Iteration:      9,   Func. Count:     59,   Neg. LLF: 1970.9939980945976\n",
      "Iteration:     10,   Func. Count:     64,   Neg. LLF: 1970.9922385375985\n",
      "Iteration:     11,   Func. Count:     70,   Neg. LLF: 1970.9894861449814\n",
      "Iteration:     12,   Func. Count:     76,   Neg. LLF: 1970.984084333717\n",
      "Iteration:     13,   Func. Count:     82,   Neg. LLF: 1970.9839043467969\n",
      "Iteration:     14,   Func. Count:     86,   Neg. LLF: 1970.9839043465158\n",
      "Optimization terminated successfully    (Exit mode 0)\n",
      "            Current function value: 1970.9839043467969\n",
      "            Iterations: 14\n",
      "            Function evaluations: 86\n",
      "            Gradient evaluations: 14\n"
     ]
    },
    {
     "data": {
      "text/plain": [
       "0.4979188297159979"
      ]
     },
     "execution_count": 23,
     "metadata": {},
     "output_type": "execute_result"
    }
   ],
   "source": [
    "am = arch_model(returns, vol=\"Garch\", p=1, o=0, q=1, dist=\"Normal\")\n",
    "res = am.fit(update_freq=5)\n",
    "\n",
    "res = am.fit()\n",
    "forecast = res.forecast(horizon=1, reindex=False)\n",
    "variance_forecast = forecast.variance.iloc[-1][0]\n",
    "volatility_forecast = np.sqrt(variance_forecast)\n",
    "annualized_volatility_forecast = volatility_forecast * np.sqrt(252) / 100\n",
    "# Cette VOL est issu de la prediction du GARCH a comparer avec les IV de l'Option Wheel \n",
    "# et trade le mispricing\n",
    "annualized_volatility_forecast"
   ]
  },
  {
   "cell_type": "code",
   "execution_count": 24,
   "metadata": {},
   "outputs": [
    {
     "name": "stdout",
     "output_type": "stream",
     "text": [
      "0.003873559103627855\n"
     ]
    }
   ],
   "source": [
    "call_price = BS_pricer.BlackScholes(\"put\", S0=S0, K=K, T=T ,r=r, sigma=annualized_volatility_forecast)\n",
    "print(call_price) # our price"
   ]
  },
  {
   "cell_type": "code",
   "execution_count": null,
   "metadata": {},
   "outputs": [],
   "source": [
    "base = datetime.datetime.today()"
   ]
  },
  {
   "cell_type": "code",
   "execution_count": null,
   "metadata": {},
   "outputs": [],
   "source": [
    "s = exchange.parse8601(base)"
   ]
  },
  {
   "cell_type": "code",
   "execution_count": null,
   "metadata": {},
   "outputs": [],
   "source": [
    "exchange.milliseconds()"
   ]
  },
  {
   "cell_type": "code",
   "execution_count": 50,
   "metadata": {},
   "outputs": [],
   "source": [
    "df['symbol'] = symbol\n",
    "df['exchange'] = exch\n",
    "df.index /= 1000 #Timestamp is 1000 times bigger than it should be in this case\n",
    "df['Date'] = pd.to_datetime(df.index, unit='s')\n",
    "df.to_csv(f\"./data/{exch}_{t_frame}\")"
   ]
  },
  {
   "cell_type": "code",
   "execution_count": 51,
   "metadata": {},
   "outputs": [
    {
     "data": {
      "text/plain": [
       "16771"
      ]
     },
     "execution_count": 51,
     "metadata": {},
     "output_type": "execute_result"
    }
   ],
   "source": [
    "len(all_ohlcv)"
   ]
  },
  {
   "cell_type": "code",
   "execution_count": 14,
   "metadata": {},
   "outputs": [],
   "source": [
    "def price_range(iv, current_price, day_to_expiration):\n",
    "    range_delta = current_price*iv/100*math.sqrt(day_to_expiration/365)\n",
    "    return f\"[{current_price - range_delta:.02f}, {current_price + range_delta:.02f}]\""
   ]
  },
  {
   "cell_type": "code",
   "execution_count": 17,
   "metadata": {},
   "outputs": [
    {
     "data": {
      "text/plain": [
       "'[1231.36, 1270.64]'"
      ]
     },
     "execution_count": 17,
     "metadata": {},
     "output_type": "execute_result"
    }
   ],
   "source": [
    "price_range(30, 1251, 1)"
   ]
  },
  {
   "cell_type": "code",
   "execution_count": null,
   "metadata": {},
   "outputs": [],
   "source": []
  }
 ],
 "metadata": {
  "kernelspec": {
   "display_name": "Python 3.11.0rc2 ('data-acc-msZwibCE')",
   "language": "python",
   "name": "python3"
  },
  "language_info": {
   "codemirror_mode": {
    "name": "ipython",
    "version": 3
   },
   "file_extension": ".py",
   "mimetype": "text/x-python",
   "name": "python",
   "nbconvert_exporter": "python",
   "pygments_lexer": "ipython3",
   "version": "3.11.0rc2"
  },
  "orig_nbformat": 4,
  "vscode": {
   "interpreter": {
    "hash": "6c204f47349a62a61f679ecb91d9dfc52def4c454061bafec016fcb7353013ec"
   }
  }
 },
 "nbformat": 4,
 "nbformat_minor": 2
}
