{
 "cells": [
  {
   "cell_type": "code",
   "execution_count": 5,
   "metadata": {},
   "outputs": [],
   "source": [
    "import ccxt\n",
    "import os\n",
    "import datetime\n",
    "\n",
    "from dotenv import dotenv_values\n",
    "from pprint import pprint\n",
    "\n",
    "import ccxt.async_support as ccxt # link against the asynchronous version of ccxt"
   ]
  },
  {
   "cell_type": "code",
   "execution_count": 6,
   "metadata": {},
   "outputs": [],
   "source": [
    "from functions.BS_pricer import BS_pricer\n",
    "from functions.Parameters import Option_param\n",
    "from functions.Processes import Diffusion_process\n",
    "\n",
    "import numpy as np\n",
    "import scipy as scp\n",
    "import scipy.stats as ss\n",
    "from scipy.integrate import quad\n",
    "from functools import partial\n",
    "\n",
    "import matplotlib.pyplot as plt\n",
    "%matplotlib inline"
   ]
  },
  {
   "cell_type": "code",
   "execution_count": 7,
   "metadata": {},
   "outputs": [
    {
     "name": "stdout",
     "output_type": "stream",
     "text": [
      "{'apiKey': True, 'secret': False, 'uid': False, 'login': False, 'password': False, 'twofa': False, 'privateKey': False, 'walletAddress': False, 'token': False}\n"
     ]
    }
   ],
   "source": [
    "config = {\n",
    "    **dotenv_values(\".env.shared\"),  # load shared development variables\n",
    "    **dotenv_values(\".env.secret\"),  # load sensitive variables\n",
    "    **os.environ,  # override loaded values with environment variables\n",
    "}\n",
    "\n",
    "exchange = ccxt.delta(config)\n",
    "exchange.verbose = False \n",
    "\n",
    "exchange.check_required_credentials()\n",
    "print(exchange.requiredCredentials) "
   ]
  },
  {
   "cell_type": "code",
   "execution_count": 9,
   "metadata": {},
   "outputs": [],
   "source": [
    "%%capture --no-display\n",
    "\n",
    "# markets = await exchange.fetchMarkets() # Full reloading\n",
    "symbol = \"BTC/USDT:USDT\"\n",
    "markets = exchange.load_markets()\n",
    "balance = exchange.fetch_balance()\n",
    "currencies = exchange.fetch_currencies()\n",
    "orderbook = exchange.fetch_order_book(symbol)\n",
    "l2_orderbook = exchange.fetch_l2_order_book(symbol)\n",
    "fetchTrades = exchange.fetch_trades(symbol)\n",
    "ticker = exchange.fetch_ticker(symbol)\n",
    "positions = exchange.fetch_positions()\n",
    "ledger = exchange.fetch_ledger()\n",
    "\n",
    "# risk = exchange.fetch_positions_risk(symbol) # not suppoted yet\n",
    "# transactions = exchange.fetch_transactions() # not supported yet"
   ]
  },
  {
   "cell_type": "code",
   "execution_count": 10,
   "metadata": {},
   "outputs": [],
   "source": [
    "delta_exchange_markets = await exchange.load_markets()\n",
    "# Retrieve only options contract id\n",
    "_ = {}\n",
    "for k, v in delta_exchange_markets.items():\n",
    "    if k.startswith(symbol): _.update({k:v})\n",
    "\n",
    "btc_options = {}\n",
    "for k, v in _.items():\n",
    "    if v[\"option\"]: btc_options.update({k:v})"
   ]
  },
  {
   "cell_type": "code",
   "execution_count": 11,
   "metadata": {},
   "outputs": [],
   "source": [
    "# to get IV/Greeks\n",
    "delta_exchange_ticker = await exchange.fetchTickers(list(btc_options.keys()))\n",
    "\n",
    "# to get Index price (Underlying price)\n",
    "index_info = await exchange.fetch_ticker(symbol, params={'price':'index'})\n",
    "index_price = index_info['last']"
   ]
  },
  {
   "cell_type": "code",
   "execution_count": 13,
   "metadata": {},
   "outputs": [
    {
     "name": "stdout",
     "output_type": "stream",
     "text": [
      "{'ask': None,\n",
      " 'askVolume': None,\n",
      " 'average': 427.0,\n",
      " 'baseVolume': 0.051000000000000004,\n",
      " 'bid': None,\n",
      " 'bidVolume': None,\n",
      " 'change': 0.0,\n",
      " 'close': 427.0,\n",
      " 'datetime': '2022-11-29T00:45:35.122Z',\n",
      " 'high': 427.0,\n",
      " 'info': {'close': '427',\n",
      "          'contract_type': 'call_options',\n",
      "          'greeks': {'delta': '0.9200',\n",
      "                     'gamma': '0.0005',\n",
      "                     'rho': '0.1860',\n",
      "                     'spot': '16177.515698727313',\n",
      "                     'theta': '-43.4060',\n",
      "                     'vega': '0.8615'},\n",
      "          'high': '427',\n",
      "          'low': '427',\n",
      "          'mark_price': '387.2324975',\n",
      "          'mark_vol': '0.4702156595885753631591796875',\n",
      "          'oi': '0.0510',\n",
      "          'oi_contracts': '51',\n",
      "          'oi_value': '0.0510',\n",
      "          'oi_value_symbol': 'BTC',\n",
      "          'oi_value_usd': '823.8548',\n",
      "          'open': '427',\n",
      "          'price_band': {'lower_limit': '64.1154418522176200000000000',\n",
      "                         'upper_limit': '890.30660760'},\n",
      "          'product_id': '89410',\n",
      "          'quotes': {'ask_iv': '0.57402789592742919921875',\n",
      "                     'ask_size': '938',\n",
      "                     'best_ask': '398',\n",
      "                     'best_bid': '377',\n",
      "                     'bid_iv': '0.000005',\n",
      "                     'bid_size': '2449',\n",
      "                     'mark_iv': '0.4701004984478155771891276042'},\n",
      "          'size': '51',\n",
      "          'spot_price': '16177.388343115905',\n",
      "          'strike_price': '15800',\n",
      "          'symbol': 'C-BTC-15800-291122',\n",
      "          'timestamp': '1669682735122440',\n",
      "          'turnover': '827.21097751',\n",
      "          'turnover_symbol': 'USDT',\n",
      "          'turnover_usd': '827.21097751',\n",
      "          'volume': '0.051000000000000004'},\n",
      " 'last': 427.0,\n",
      " 'low': 427.0,\n",
      " 'open': 427.0,\n",
      " 'percentage': 0.0,\n",
      " 'previousClose': None,\n",
      " 'quoteVolume': 827.21097751,\n",
      " 'symbol': 'BTC/USDT:USDT-221129:15800:C',\n",
      " 'timestamp': 1669682735122,\n",
      " 'vwap': 16219.82308843137}\n"
     ]
    },
    {
     "ename": "KeyError",
     "evalue": "'expiryDatetime'",
     "output_type": "error",
     "traceback": [
      "\u001b[0;31m---------------------------------------------------------------------------\u001b[0m",
      "\u001b[0;31mKeyError\u001b[0m                                  Traceback (most recent call last)",
      "Cell \u001b[0;32mIn[13], line 5\u001b[0m\n\u001b[1;32m      3\u001b[0m pprint(contract)\n\u001b[1;32m      4\u001b[0m a \u001b[39m=\u001b[39m datetime\u001b[39m.\u001b[39mdatetime\u001b[39m.\u001b[39mnow()\n\u001b[0;32m----> 5\u001b[0m b \u001b[39m=\u001b[39m datetime\u001b[39m.\u001b[39mdatetime\u001b[39m.\u001b[39mstrptime(contract[\u001b[39m\"\u001b[39;49m\u001b[39mexpiryDatetime\u001b[39;49m\u001b[39m\"\u001b[39;49m], \u001b[39m\"\u001b[39m\u001b[39m%\u001b[39m\u001b[39mY-\u001b[39m\u001b[39m%\u001b[39m\u001b[39mm-\u001b[39m\u001b[39m%d\u001b[39;00m\u001b[39mT\u001b[39m\u001b[39m%\u001b[39m\u001b[39mH:\u001b[39m\u001b[39m%\u001b[39m\u001b[39mM:\u001b[39m\u001b[39m%\u001b[39m\u001b[39mSZ\u001b[39m\u001b[39m\"\u001b[39m)\n\u001b[1;32m      7\u001b[0m seconds_until_expiration \u001b[39m=\u001b[39m b\u001b[39m-\u001b[39ma\n\u001b[1;32m      8\u001b[0m seconds_until_expiration\n",
      "\u001b[0;31mKeyError\u001b[0m: 'expiryDatetime'"
     ]
    }
   ],
   "source": [
    "option_contract = \"BTC/USDT:USDT-221129:15800:C\"\n",
    "contract = delta_exchange_ticker[option_contract]\n",
    "pprint(contract)\n",
    "a = datetime.datetime.now()\n",
    "b = datetime.datetime.strptime(contract[\"expiryDatetime\"], \"%Y-%m-%dT%H:%M:%SZ\")\n",
    "\n",
    "seconds_until_expiration = b-a\n",
    "seconds_until_expiration"
   ]
  },
  {
   "cell_type": "code",
   "execution_count": 18,
   "metadata": {},
   "outputs": [],
   "source": [
    "\"\"\"\n",
    "    Retrieve\n",
    "    IV\n",
    "    index price (Underlying price)\n",
    "    days until expiration\n",
    "    strike price\n",
    "    interest rate\n",
    "    dividend yield (0)\n",
    "\"\"\"\n",
    "greeks = contract[\"info\"][\"greeks\"]\n",
    "ask_iv = float(contract[\"info\"][\"quotes\"]['ask_iv'])\n",
    "ask_size = float(contract[\"info\"][\"quotes\"]['ask_size'])\n",
    "best_ask = float(contract[\"info\"][\"quotes\"]['best_ask'])\n",
    "best_bid = float(contract[\"info\"][\"quotes\"]['best_bid'])\n",
    "bid_iv = float(contract[\"info\"][\"quotes\"]['bid_iv'])\n",
    "bid_size = float(contract[\"info\"][\"quotes\"]['bid_size'])\n",
    "mark_iv = float(contract[\"info\"][\"quotes\"]['mark_iv'])\n",
    "strike_price = float(contract[\"info\"][\"strike_price\"])\n",
    "spot_price = float(contract[\"info\"][\"spot_price\"])"
   ]
  },
  {
   "cell_type": "code",
   "execution_count": 25,
   "metadata": {},
   "outputs": [],
   "source": [
    "S0=spot_price\n",
    "K=strike_price\n",
    "T=1/(365*24)\n",
    "r=0.1\n",
    "sigma=ask_iv"
   ]
  },
  {
   "cell_type": "code",
   "execution_count": 35,
   "metadata": {},
   "outputs": [],
   "source": [
    "def binomial_price(S0, K, T, r, sigma, N=15000, payoff=\"call\"):\n",
    "    # N number of periods or number of time steps  \n",
    "\n",
    "    dT = float(T) / N                             # Delta t\n",
    "    u = np.exp(sigma * np.sqrt(dT))                 # up factor\n",
    "    d = 1.0 / u                                   # down factor \n",
    "\n",
    "    V = np.zeros(N+1)                             # initialize the price vector\n",
    "    S_T = np.array( [(S0 * u**j * d**(N - j)) for j in range(N + 1)] )  # price S_T at time T\n",
    "\n",
    "    a = np.exp(r * dT)    # risk free compounded return\n",
    "    p = (a - d)/ (u - d)  # risk neutral up probability\n",
    "    q = 1.0 - p           # risk neutral down probability   \n",
    "\n",
    "    if payoff ==\"call\":\n",
    "        V[:] = np.maximum(S_T-K, 0.0)\n",
    "    else:\n",
    "        V[:] = np.maximum(K-S_T, 0.0)\n",
    "\n",
    "    for i in range(N-1, -1, -1):\n",
    "        V[:-1] = np.exp(-r*dT) * (p * V[1:] + q * V[:-1])    # the price vector is overwritten at each step\n",
    "            \n",
    "    return V[0]\n"
   ]
  },
  {
   "cell_type": "code",
   "execution_count": 36,
   "metadata": {},
   "outputs": [
    {
     "name": "stdout",
     "output_type": "stream",
     "text": [
      "377.570052304769\n",
      "377.57005065889064\n",
      "398.0\n"
     ]
    }
   ],
   "source": [
    "call_price = BS_pricer.BlackScholes(\"call\", S0=S0, K=K, T=T ,r=r, sigma=sigma)\n",
    "print(call_price) # our price\n",
    "print(binomial_price(S0,K,T,r,sigma)) # binomial price\n",
    "print(best_ask) # market price"
   ]
  },
  {
   "cell_type": "code",
   "execution_count": null,
   "metadata": {},
   "outputs": [],
   "source": []
  }
 ],
 "metadata": {
  "kernelspec": {
   "display_name": "Python 3.11.0rc2 ('data-acc-msZwibCE')",
   "language": "python",
   "name": "python3"
  },
  "language_info": {
   "codemirror_mode": {
    "name": "ipython",
    "version": 3
   },
   "file_extension": ".py",
   "mimetype": "text/x-python",
   "name": "python",
   "nbconvert_exporter": "python",
   "pygments_lexer": "ipython3",
   "version": "3.11.0rc2"
  },
  "orig_nbformat": 4,
  "vscode": {
   "interpreter": {
    "hash": "6c204f47349a62a61f679ecb91d9dfc52def4c454061bafec016fcb7353013ec"
   }
  }
 },
 "nbformat": 4,
 "nbformat_minor": 2
}
