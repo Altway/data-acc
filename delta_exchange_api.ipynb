{
 "cells": [
  {
   "cell_type": "code",
   "execution_count": 1,
   "metadata": {},
   "outputs": [],
   "source": [
    "import ccxt\n",
    "import os\n",
    "import datetime\n",
    "import math\n",
    "\n",
    "from dotenv import dotenv_values, load_dotenv\n",
    "from pprint import pprint\n",
    "from arch import arch_model\n",
    "\n",
    "import ccxt.async_support as ccxt # link against the asynchronous version of ccxt\n",
    "\n",
    "from functions.BS_pricer import BS_pricer\n",
    "from functions.Parameters import Option_param\n",
    "from functions.Processes import Diffusion_process\n",
    "\n",
    "import numpy as np\n",
    "import scipy as scp\n",
    "import scipy.stats as ss\n",
    "from scipy.integrate import quad\n",
    "from functools import partial\n",
    "\n",
    "import matplotlib.pyplot as plt\n",
    "%matplotlib inline"
   ]
  },
  {
   "cell_type": "code",
   "execution_count": 15,
   "metadata": {},
   "outputs": [
    {
     "name": "stdout",
     "output_type": "stream",
     "text": [
      "{'delta': ccxt.delta(), 'deribit': ccxt.deribit()}\n"
     ]
    }
   ],
   "source": [
    "import ccxt\n",
    "import os\n",
    "from dotenv import load_dotenv\n",
    "\n",
    "# Load environment variables from .env file\n",
    "load_dotenv()\n",
    "\n",
    "# Create the exchange objects\n",
    "delta = ccxt.delta()\n",
    "deribit = ccxt.deribit()\n",
    "\n",
    "# Set the API keys for the exchanges\n",
    "delta_api_key = os.getenv('DELTA_API_KEY')\n",
    "delta_api_secret = os.getenv('DELTA_API_SECRET')\n",
    "deribit_api_key = os.getenv('DERIBIT_API_KEY')\n",
    "deribit_api_secret = os.getenv('DERIBIT_API_SECRET')\n",
    "\n",
    "# Create the dictionary\n",
    "exchanges_dict = {'delta': delta, 'deribit': deribit}\n",
    "pprint(exchanges_dict)"
   ]
  },
  {
   "cell_type": "code",
   "execution_count": 16,
   "metadata": {},
   "outputs": [],
   "source": [
    "# delta_instruments = exchanges_dict['delta'].fetchMarkets()\n",
    "# deribit_instruments = exchanges_dict['deribit'].fetchMarkets()\n",
    "instruments_dict = {k: exchanges_dict[k].fetchMarkets() for k in exchanges_dict}\n"
   ]
  },
  {
   "cell_type": "code",
   "execution_count": 17,
   "metadata": {},
   "outputs": [
    {
     "name": "stdout",
     "output_type": "stream",
     "text": [
      "'example for Delta: BTC/USDT:USDT-230108:17400:C'\n",
      "'example for Deribit: BTC/USD:BTC-230929-16000-P'\n"
     ]
    }
   ],
   "source": [
    "delta_symbol = instruments_dict['delta'][0]['symbol']\n",
    "deribit_symbol = instruments_dict['deribit'][1000]['symbol']\n",
    "pprint(f\"example for Delta: {delta_symbol}\")\n",
    "pprint(f\"example for Deribit: {deribit_symbol}\")\n",
    "\n",
    "# We define the contract we are looking for\n",
    "option_specification = {\n",
    "    'expiration': '230127',\n",
    "    'payoff': 'C',\n",
    "    'underlying': 'BTC',\n",
    "    'strike': 17000,\n",
    "    'quote': 'USDT'\n",
    "}"
   ]
  },
  {
   "cell_type": "code",
   "execution_count": 18,
   "metadata": {},
   "outputs": [
    {
     "name": "stdout",
     "output_type": "stream",
     "text": [
      "(\"Delta ticker: {'symbol': 'BTC/USDT:USDT-230127:17000:C', 'timestamp': \"\n",
      " \"1673037231465, 'datetime': '2023-01-06T20:33:51.465Z', 'high': 545.0, 'low': \"\n",
      " \"428.5, 'bid': None, 'bidVolume': None, 'ask': None, 'askVolume': None, \"\n",
      " \"'vwap': 16812.147419381407, 'open': 488.0, 'close': 545.0, 'last': 545.0, \"\n",
      " \"'previousClose': None, 'change': 57.0, 'percentage': 11.680327868852459, \"\n",
      " \"'average': 516.5, 'baseVolume': 5.561, 'quoteVolume': 93492.35179918, \"\n",
      " \"'info': {'close': '545', 'contract_type': 'call_options', 'greeks': \"\n",
      " \"{'delta': '0.50186587', 'gamma': '0.00029313', 'rho': '4.51758324', 'spot': \"\n",
      " \"'16951.663820343336', 'theta': '-13.15061363', 'vega': '16.08272161'}, \"\n",
      " \"'high': '545', 'low': '428.5', 'mark_price': '520.20900122', 'mark_vol': \"\n",
      " \"'0.3377847649001826842625935873', 'oi': '4.2980', 'oi_contracts': '4298', \"\n",
      " \"'oi_value': '4.2980', 'oi_value_symbol': 'BTC', 'oi_value_usd': \"\n",
      " \"'72842.4818', 'open': '488', 'price_band': {'lower_limit': \"\n",
      " \"'0.100000000000000000', 'upper_limit': '4706.28451375'}, 'product_id': \"\n",
      " \"'84997', 'quotes': {'ask_iv': '0.3458314156159758567810058594', 'ask_size': \"\n",
      " \"'380', 'best_ask': '533', 'best_bid': '506.5', 'bid_iv': \"\n",
      " \"'0.32935418188571929931640625', 'bid_size': '250', 'mark_iv': \"\n",
      " \"'0.3378383260375509659449259441'}, 'size': '5561', 'spot_price': \"\n",
      " \"'16951.963365512824', 'strike_price': '17000', 'symbol': \"\n",
      " \"'C-BTC-17000-270123', 'timestamp': '1673037231465755', 'turnover': \"\n",
      " \"'93492.35179918', 'turnover_symbol': 'USDT', 'turnover_usd': \"\n",
      " \"'93492.35179918', 'volume': '5.561'}}\")\n",
      "(\"Deribit ticker: {'symbol': 'BTC/USD:BTC-230127-17000-C', 'timestamp': \"\n",
      " \"1673037233680, 'datetime': '2023-01-06T20:33:53.680Z', 'high': 0.0325, \"\n",
      " \"'low': 0.0245, 'bid': 0.03, 'bidVolume': 1.8, 'ask': 0.031, 'askVolume': \"\n",
      " \"10.1, 'vwap': None, 'open': None, 'close': 0.0325, 'last': 0.0325, \"\n",
      " \"'previousClose': None, 'change': None, 'percentage': None, 'average': None, \"\n",
      " \"'baseVolume': None, 'quoteVolume': 356.9, 'info': {'underlying_price': \"\n",
      " \"'16960.68', 'underlying_index': 'BTC-27JAN23', 'timestamp': '1673037233680', \"\n",
      " \"'stats': {'volume': '356.9', 'price_change': '6.5574', 'low': '0.0245', \"\n",
      " \"'high': '0.0325'}, 'state': 'open', 'settlement_price': '0.02747589', \"\n",
      " \"'open_interest': '1958.7', 'min_price': '0.009', 'max_price': '0.062', \"\n",
      " \"'mark_price': '0.0309', 'mark_iv': '33.84', 'last_price': '0.0325', \"\n",
      " \"'interest_rate': '0.0', 'instrument_name': 'BTC-27JAN23-17000-C', \"\n",
      " \"'index_price': '16949.82', 'greeks': {'vega': '16.02531', 'theta': \"\n",
      " \"'-13.24006', 'rho': '4.50629', 'gamma': '0.00029', 'delta': '0.50446'}, \"\n",
      " \"'estimated_delivery_price': '16949.82', 'bid_iv': '32.93', 'best_bid_price': \"\n",
      " \"'0.03', 'best_bid_amount': '1.8', 'best_ask_price': '0.031', \"\n",
      " \"'best_ask_amount': '10.1', 'ask_iv': '33.99'}}\")\n"
     ]
    }
   ],
   "source": [
    "def get_ticker(strike, expiration, underlying, quote, payoff):\n",
    "    # Construct the ticker symbol for the contract\n",
    "    delta_ticker_specification = f\"{underlying}/{quote}:{quote}-{expiration}:{strike}:{payoff}\"\n",
    "    if quote == \"USDT\": quote = \"USD\"\n",
    "    deribit_ticker_specification = f\"{underlying}/{quote}:{underlying}-{expiration}-{strike}-{payoff}\"\n",
    "    # Fetch the ticker data from the Delta exchange\n",
    "    delta_ticker = exchanges_dict['delta'].fetch_ticker(delta_ticker_specification)\n",
    "    pprint(f\"Delta ticker: {delta_ticker}\")\n",
    "\n",
    "    # Fetch the ticker data from the Deribit exchange\n",
    "    deribit_ticker = exchanges_dict['deribit'].fetch_ticker(deribit_ticker_specification)\n",
    "    pprint(f\"Deribit ticker: {deribit_ticker}\")\n",
    "\n",
    "    return {\n",
    "        \"delta\": delta_ticker,\n",
    "        \"deribit\": deribit_ticker,\n",
    "    }\n",
    "    \n",
    "tickers_dict = get_ticker(**option_specification)"
   ]
  },
  {
   "cell_type": "code",
   "execution_count": 19,
   "metadata": {},
   "outputs": [
    {
     "name": "stdout",
     "output_type": "stream",
     "text": [
      "{'expiration': datetime.datetime(2023, 1, 27, 0, 0),\n",
      " 'payoff': 'put',\n",
      " 'quote': 'USDT',\n",
      " 'strike': 17000.0,\n",
      " 'underlying': 'BTC'}\n"
     ]
    }
   ],
   "source": [
    "def parse_option_spectification_delta(option_specification):\n",
    "    expiration = datetime.datetime.strptime(option_specification['expiration'], \"%y%m%d\")\n",
    "\n",
    "    return {\n",
    "        \"underlying\": option_specification['underlying'],\n",
    "        \"quote\": option_specification['quote'],\n",
    "        \"expiration\": expiration,\n",
    "        \"strike\": float(option_specification['strike']),\n",
    "        \"payoff\": \"call\" if option_specification['payoff'] == any((\"C\", \"call\", \"Call\", \"CALL\")) else \"put\",\n",
    "    }\n",
    "\n",
    "option_specification = parse_option_spectification_delta(option_specification)\n",
    "pprint(option_specification)"
   ]
  },
  {
   "cell_type": "code",
   "execution_count": 28,
   "metadata": {},
   "outputs": [
    {
     "name": "stdout",
     "output_type": "stream",
     "text": [
      "(datetime.datetime(2023, 1, 6, 21, 35, 23, 797345), datetime.datetime(2023, 1, 27, 0, 0))\n",
      "20.100419012210647\n"
     ]
    }
   ],
   "source": [
    "now = datetime.datetime.now()\n",
    "forward_date = option_specification[\"expiration\"]\n",
    "print((now, forward_date))\n",
    "\n",
    "timedelta_until_expiration = forward_date - now\n",
    "\n",
    "days_until_expiration = timedelta_until_expiration.total_seconds() / 86400\n",
    "print(days_until_expiration)\n",
    "\n",
    "exchanges_option_contract = {}"
   ]
  },
  {
   "cell_type": "code",
   "execution_count": 50,
   "metadata": {},
   "outputs": [],
   "source": [
    "### DeltaExchange Format\n",
    "\"\"\"\n",
    "    Retrieve\n",
    "    IV\n",
    "    index price (Underlying price)\n",
    "    days until expiration\n",
    "    strike price\n",
    "    interest rate\n",
    "    dividend yield (0)\n",
    "\"\"\"\n",
    "delta_option_contract = tickers_dict['delta']\n",
    "greeks = delta_option_contract[\"info\"][\"greeks\"]\n",
    "ask_iv = float(delta_option_contract[\"info\"][\"quotes\"]['ask_iv'])\n",
    "ask_size = float(delta_option_contract[\"info\"][\"quotes\"]['ask_size'])\n",
    "best_ask = float(delta_option_contract[\"info\"][\"quotes\"]['best_ask'])\n",
    "best_bid = float(delta_option_contract[\"info\"][\"quotes\"]['best_bid'])\n",
    "bid_iv = float(delta_option_contract[\"info\"][\"quotes\"]['bid_iv'])\n",
    "bid_size = float(delta_option_contract[\"info\"][\"quotes\"]['bid_size'])\n",
    "mark_iv = float(delta_option_contract[\"info\"][\"quotes\"]['mark_iv'])\n",
    "strike_price = float(delta_option_contract[\"info\"][\"strike_price\"])\n",
    "spot_price = float(delta_option_contract[\"info\"][\"spot_price\"])\n",
    "\n",
    "exchanges_option_contract.update(\n",
    "    {\n",
    "        'delta': {\n",
    "            'best_ask': best_ask,\n",
    "            'spot_price': spot_price,\n",
    "            'ask_iv': ask_iv,\n",
    "        }\n",
    "    }\n",
    ")"
   ]
  },
  {
   "cell_type": "code",
   "execution_count": 51,
   "metadata": {},
   "outputs": [],
   "source": [
    "### Deribit Format\n",
    "deribit_option_contract = tickers_dict['deribit']\n",
    "greeks = deribit_option_contract[\"info\"][\"greeks\"] # Deribit format\n",
    "ask_iv = float(deribit_option_contract['info']['ask_iv']) if float(deribit_option_contract['info']['ask_iv']) else float(deribit_option_contract['info']['mark_iv']) \n",
    "strike_price = option_specification['strike']\n",
    "spot_price = float(deribit_option_contract[\"info\"][\"underlying_price\"])\n",
    "best_ask_price = float(deribit_option_contract[\"info\"]['best_ask_price']) if float(deribit_option_contract['info']['best_ask_price']) else float(deribit_option_contract['info']['mark_price']) \n",
    "\n",
    "exchanges_option_contract.update(\n",
    "    {\n",
    "        'deribit': {\n",
    "            'best_ask': best_ask_price*spot_price,\n",
    "            'spot_price': spot_price,\n",
    "            'ask_iv': ask_iv/100.0,\n",
    "        }\n",
    "    }\n",
    ")"
   ]
  },
  {
   "cell_type": "code",
   "execution_count": 52,
   "metadata": {},
   "outputs": [],
   "source": [
    "def binomial_price(S0, K, T, r, sigma, N=15000, payoff=\"call\"):\n",
    "    # N number of periods or number of time steps  \n",
    "\n",
    "    dT = float(T) / N                             # Delta t\n",
    "    u = np.exp(sigma * np.sqrt(dT))                 # up factor\n",
    "    d = 1.0 / u                                   # down factor \n",
    "\n",
    "    V = np.zeros(N+1)                             # initialize the price vector\n",
    "    S_T = np.array( [(S0 * u**j * d**(N - j)) for j in range(N + 1)] )  # price S_T at time T\n",
    "\n",
    "    a = np.exp(r * dT)    # risk free compounded return\n",
    "    p = (a - d)/ (u - d)  # risk neutral up probability\n",
    "    q = 1.0 - p           # risk neutral down probability   \n",
    "\n",
    "    if payoff ==\"call\":\n",
    "        V[:] = np.maximum(S_T-K, 0.0)\n",
    "    else:\n",
    "        V[:] = np.maximum(K-S_T, 0.0)\n",
    "\n",
    "    for i in range(N-1, -1, -1):\n",
    "        V[:-1] = np.exp(-r*dT) * (p * V[1:] + q * V[:-1])    # the price vector is overwritten at each step\n",
    "            \n",
    "    return V[0]\n"
   ]
  },
  {
   "cell_type": "code",
   "execution_count": 54,
   "metadata": {},
   "outputs": [
    {
     "name": "stdout",
     "output_type": "stream",
     "text": [
      "==============================================\n",
      "Our BS price: 568.8766781877475\n",
      "current market price on delta = 533.0\n",
      "==============================================\n",
      "Our BS price: 555.156207117363\n",
      "current market price on deribit = 525.78108\n",
      "==============================================\n"
     ]
    }
   ],
   "source": [
    "for exch, option  in exchanges_option_contract.items():\n",
    "   print(\"==============================================\")\n",
    "   info = {\n",
    "      \"S0\": float(option['spot_price']),\n",
    "      \"K\": float(option_specification['strike']),\n",
    "      \"T\": float(days_until_expiration/365),\n",
    "      \"r\": float(1/100),\n",
    "      \"sigma\": float(option['ask_iv']),\n",
    "      \"payoff\": option_specification[\"payoff\"]\n",
    "   }\n",
    "   option_price = BS_pricer.BlackScholes(**info)\n",
    "\n",
    "   print(f\"Our BS price: {option_price}\")\n",
    "   # bin_price = binomial_price(**info)\n",
    "   # print(f\"binomial price: {bin_price}\") \n",
    "   print(f\"current market price on {exch} = {option['best_ask']}\")\n",
    "print(\"==============================================\")"
   ]
  },
  {
   "cell_type": "code",
   "execution_count": 20,
   "metadata": {},
   "outputs": [
    {
     "name": "stdout",
     "output_type": "stream",
     "text": [
      "delta\n",
      "BTC/USDT:USDT\n"
     ]
    }
   ],
   "source": [
    "import ccxt\n",
    "import pandas as pd\n",
    "from pprint import pprint\n",
    "\n",
    "header = ['Timestamp', 'Open', 'High', 'Low', 'Close', 'Volume']\n",
    "# since = exchange.milliseconds () - 86400000  # -1 day from now\n",
    "start_date = '2021-01-01T00:00:00Z' # fetch from a certain starting datetime\n",
    "t_frame = '1d' # 1-day timeframe, usually from 1-minute to 1-week depending on the exchange\n",
    "symbols = [\n",
    "    'BTC/USDT:USDT',\n",
    "    'ETH/USDT:USDT',\n",
    "    #'AAVE/USDT:USDT',\n",
    "    #'BNB/USDT:USDT',\n",
    "    #'CRV/USDT:USDT',\n",
    "    #'SNX/USDT:USDT',\n",
    "    #'LINK/USDT:USDT',\n",
    "]\n",
    "exchange_list = ['delta', 'deribit']\n",
    "data_df = pd.DataFrame(None, columns=header).set_index('Timestamp')\n",
    "\n",
    "for exch in exchange_list:\n",
    "    print(exch)\n",
    "    try:\n",
    "        exchange = getattr(ccxt, exch)()\n",
    "    except AttributeError:\n",
    "        print('-'*36,' ERROR ','-'*35)\n",
    "        print('Exchange \"{}\" not found. Please check the exchange is supported.'.format(exch))\n",
    "        print('-'*80)\n",
    "        quit()\n",
    "    if exchange.has[\"fetchOHLCV\"] != True:\n",
    "        print('-'*36,' ERROR ','-'*35)\n",
    "        print('{} does not support fetching OHLC data. Please use another exchange'.format(exch))\n",
    "        print('-'*80)\n",
    "        quit()\n",
    "    if (not hasattr(exchange, 'timeframes')) or (t_frame not in exchange.timeframes):\n",
    "        print('-'*36,' ERROR ','-'*35)\n",
    "        print('The requested timeframe ({}) is not available from {}\\n'.format(t_frame,exch))\n",
    "        print('Available timeframes are:')\n",
    "        for key in exchange.timeframes.keys():\n",
    "            print('  - ' + key)\n",
    "        print('-'*80)\n",
    "        quit()\n",
    "    exchange.load_markets()\n",
    "    for coin in symbols:\n",
    "        print(coin)\n",
    "        since = exchange.parse8601(start_date) # fetch from a certain starting datetime\n",
    "        all_ohlcv = []\n",
    "        while since < exchange.milliseconds():\n",
    "            coin_ohlcv = exchange.fetchOHLCV(coin, t_frame, since)\n",
    "            if not coin_ohlcv: break\n",
    "            since = coin_ohlcv[-1][0] + 1 # query the last and add 1 to the number of milliseconds\n",
    "            all_ohlcv += coin_ohlcv\n",
    "        df = pd.DataFrame(all_ohlcv, columns=header).set_index('Timestamp')\n",
    "        df['Symbol'] = coin\n",
    "        df['Exchange'] = exch\n",
    "        data_df = pd.concat([data_df, df])\n",
    "\n",
    "data_df.index /= 1000 #Timestamp is 1000 times bigger than it should be in this case\n",
    "data_df['Date'] = pd.to_datetime(data_df.index, unit='s')\n",
    "data_df.to_csv(f\"./data/{start_date}_{t_frame}\")"
   ]
  },
  {
   "cell_type": "code",
   "execution_count": 21,
   "metadata": {},
   "outputs": [
    {
     "data": {
      "text/html": [
       "<div>\n",
       "<style scoped>\n",
       "    .dataframe tbody tr th:only-of-type {\n",
       "        vertical-align: middle;\n",
       "    }\n",
       "\n",
       "    .dataframe tbody tr th {\n",
       "        vertical-align: top;\n",
       "    }\n",
       "\n",
       "    .dataframe thead th {\n",
       "        text-align: right;\n",
       "    }\n",
       "</style>\n",
       "<table border=\"1\" class=\"dataframe\">\n",
       "  <thead>\n",
       "    <tr style=\"text-align: right;\">\n",
       "      <th></th>\n",
       "      <th>Timestamp</th>\n",
       "      <th>Open</th>\n",
       "      <th>High</th>\n",
       "      <th>Low</th>\n",
       "      <th>Close</th>\n",
       "      <th>Volume</th>\n",
       "      <th>Symbol</th>\n",
       "      <th>Exchange</th>\n",
       "    </tr>\n",
       "    <tr>\n",
       "      <th>Date</th>\n",
       "      <th></th>\n",
       "      <th></th>\n",
       "      <th></th>\n",
       "      <th></th>\n",
       "      <th></th>\n",
       "      <th></th>\n",
       "      <th></th>\n",
       "      <th></th>\n",
       "    </tr>\n",
       "  </thead>\n",
       "  <tbody>\n",
       "    <tr>\n",
       "      <th>2021-01-01</th>\n",
       "      <td>1.609459e+09</td>\n",
       "      <td>28989.5</td>\n",
       "      <td>29633.5</td>\n",
       "      <td>28699.5</td>\n",
       "      <td>29339.0</td>\n",
       "      <td>543183.0</td>\n",
       "      <td>BTC/USDT:USDT</td>\n",
       "      <td>delta</td>\n",
       "    </tr>\n",
       "    <tr>\n",
       "      <th>2021-01-02</th>\n",
       "      <td>1.609546e+09</td>\n",
       "      <td>29311.0</td>\n",
       "      <td>33311.0</td>\n",
       "      <td>28990.0</td>\n",
       "      <td>32222.0</td>\n",
       "      <td>671497.0</td>\n",
       "      <td>BTC/USDT:USDT</td>\n",
       "      <td>delta</td>\n",
       "    </tr>\n",
       "    <tr>\n",
       "      <th>2021-01-03</th>\n",
       "      <td>1.609632e+09</td>\n",
       "      <td>32237.0</td>\n",
       "      <td>34776.5</td>\n",
       "      <td>32037.0</td>\n",
       "      <td>33021.0</td>\n",
       "      <td>478717.0</td>\n",
       "      <td>BTC/USDT:USDT</td>\n",
       "      <td>delta</td>\n",
       "    </tr>\n",
       "    <tr>\n",
       "      <th>2021-01-04</th>\n",
       "      <td>1.609718e+09</td>\n",
       "      <td>33032.5</td>\n",
       "      <td>33620.0</td>\n",
       "      <td>28322.0</td>\n",
       "      <td>32027.5</td>\n",
       "      <td>530053.0</td>\n",
       "      <td>BTC/USDT:USDT</td>\n",
       "      <td>delta</td>\n",
       "    </tr>\n",
       "    <tr>\n",
       "      <th>2021-01-05</th>\n",
       "      <td>1.609805e+09</td>\n",
       "      <td>32087.5</td>\n",
       "      <td>34446.5</td>\n",
       "      <td>29968.0</td>\n",
       "      <td>34040.0</td>\n",
       "      <td>670836.0</td>\n",
       "      <td>BTC/USDT:USDT</td>\n",
       "      <td>delta</td>\n",
       "    </tr>\n",
       "    <tr>\n",
       "      <th>...</th>\n",
       "      <td>...</td>\n",
       "      <td>...</td>\n",
       "      <td>...</td>\n",
       "      <td>...</td>\n",
       "      <td>...</td>\n",
       "      <td>...</td>\n",
       "      <td>...</td>\n",
       "      <td>...</td>\n",
       "    </tr>\n",
       "    <tr>\n",
       "      <th>2022-12-16</th>\n",
       "      <td>1.671149e+09</td>\n",
       "      <td>17352.0</td>\n",
       "      <td>17528.0</td>\n",
       "      <td>16519.5</td>\n",
       "      <td>16624.5</td>\n",
       "      <td>2247244.0</td>\n",
       "      <td>BTC/USDT:USDT</td>\n",
       "      <td>delta</td>\n",
       "    </tr>\n",
       "    <tr>\n",
       "      <th>2022-12-17</th>\n",
       "      <td>1.671235e+09</td>\n",
       "      <td>16623.5</td>\n",
       "      <td>16789.0</td>\n",
       "      <td>16575.5</td>\n",
       "      <td>16769.5</td>\n",
       "      <td>1329591.0</td>\n",
       "      <td>BTC/USDT:USDT</td>\n",
       "      <td>delta</td>\n",
       "    </tr>\n",
       "    <tr>\n",
       "      <th>2022-12-18</th>\n",
       "      <td>1.671322e+09</td>\n",
       "      <td>16768.5</td>\n",
       "      <td>16871.0</td>\n",
       "      <td>16655.0</td>\n",
       "      <td>16731.0</td>\n",
       "      <td>1221652.0</td>\n",
       "      <td>BTC/USDT:USDT</td>\n",
       "      <td>delta</td>\n",
       "    </tr>\n",
       "    <tr>\n",
       "      <th>2022-12-19</th>\n",
       "      <td>1.671408e+09</td>\n",
       "      <td>16731.0</td>\n",
       "      <td>16805.5</td>\n",
       "      <td>16218.5</td>\n",
       "      <td>16431.0</td>\n",
       "      <td>1482652.0</td>\n",
       "      <td>BTC/USDT:USDT</td>\n",
       "      <td>delta</td>\n",
       "    </tr>\n",
       "    <tr>\n",
       "      <th>2022-12-20</th>\n",
       "      <td>1.671494e+09</td>\n",
       "      <td>16430.0</td>\n",
       "      <td>17045.5</td>\n",
       "      <td>16391.5</td>\n",
       "      <td>16804.0</td>\n",
       "      <td>1441945.0</td>\n",
       "      <td>BTC/USDT:USDT</td>\n",
       "      <td>delta</td>\n",
       "    </tr>\n",
       "  </tbody>\n",
       "</table>\n",
       "<p>719 rows × 8 columns</p>\n",
       "</div>"
      ],
      "text/plain": [
       "               Timestamp     Open     High      Low    Close     Volume  \\\n",
       "Date                                                                      \n",
       "2021-01-01  1.609459e+09  28989.5  29633.5  28699.5  29339.0   543183.0   \n",
       "2021-01-02  1.609546e+09  29311.0  33311.0  28990.0  32222.0   671497.0   \n",
       "2021-01-03  1.609632e+09  32237.0  34776.5  32037.0  33021.0   478717.0   \n",
       "2021-01-04  1.609718e+09  33032.5  33620.0  28322.0  32027.5   530053.0   \n",
       "2021-01-05  1.609805e+09  32087.5  34446.5  29968.0  34040.0   670836.0   \n",
       "...                  ...      ...      ...      ...      ...        ...   \n",
       "2022-12-16  1.671149e+09  17352.0  17528.0  16519.5  16624.5  2247244.0   \n",
       "2022-12-17  1.671235e+09  16623.5  16789.0  16575.5  16769.5  1329591.0   \n",
       "2022-12-18  1.671322e+09  16768.5  16871.0  16655.0  16731.0  1221652.0   \n",
       "2022-12-19  1.671408e+09  16731.0  16805.5  16218.5  16431.0  1482652.0   \n",
       "2022-12-20  1.671494e+09  16430.0  17045.5  16391.5  16804.0  1441945.0   \n",
       "\n",
       "                   Symbol Exchange  \n",
       "Date                                \n",
       "2021-01-01  BTC/USDT:USDT    delta  \n",
       "2021-01-02  BTC/USDT:USDT    delta  \n",
       "2021-01-03  BTC/USDT:USDT    delta  \n",
       "2021-01-04  BTC/USDT:USDT    delta  \n",
       "2021-01-05  BTC/USDT:USDT    delta  \n",
       "...                   ...      ...  \n",
       "2022-12-16  BTC/USDT:USDT    delta  \n",
       "2022-12-17  BTC/USDT:USDT    delta  \n",
       "2022-12-18  BTC/USDT:USDT    delta  \n",
       "2022-12-19  BTC/USDT:USDT    delta  \n",
       "2022-12-20  BTC/USDT:USDT    delta  \n",
       "\n",
       "[719 rows x 8 columns]"
      ]
     },
     "execution_count": 21,
     "metadata": {},
     "output_type": "execute_result"
    }
   ],
   "source": [
    "df = pd.read_csv(f\"./data/{start_date}_{t_frame}\", index_col=\"Date\")\n",
    "df"
   ]
  },
  {
   "cell_type": "code",
   "execution_count": 22,
   "metadata": {},
   "outputs": [
    {
     "data": {
      "text/plain": [
       "Date\n",
       "2021-01-02    9.826511\n",
       "2021-01-03    2.479672\n",
       "2021-01-04   -3.008691\n",
       "2021-01-05    6.283662\n",
       "2021-01-06    8.168331\n",
       "                ...   \n",
       "2022-12-16   -4.192600\n",
       "2022-12-17    0.872207\n",
       "2022-12-18   -0.229583\n",
       "2022-12-19   -1.793079\n",
       "2022-12-20    2.270099\n",
       "Name: Close, Length: 718, dtype: float64"
      ]
     },
     "execution_count": 22,
     "metadata": {},
     "output_type": "execute_result"
    }
   ],
   "source": [
    "returns = 100 * df[df[\"Symbol\"] == \"BTC/USDT:USDT\"][\"Close\"].pct_change().dropna()\n",
    "returns"
   ]
  },
  {
   "cell_type": "code",
   "execution_count": 23,
   "metadata": {},
   "outputs": [
    {
     "name": "stdout",
     "output_type": "stream",
     "text": [
      "Iteration:      5,   Func. Count:     35,   Neg. LLF: 1986.6276349780278\n",
      "Iteration:     10,   Func. Count:     64,   Neg. LLF: 1970.9922385375985\n",
      "Optimization terminated successfully    (Exit mode 0)\n",
      "            Current function value: 1970.9839043467969\n",
      "            Iterations: 14\n",
      "            Function evaluations: 86\n",
      "            Gradient evaluations: 14\n",
      "Iteration:      1,   Func. Count:      6,   Neg. LLF: 424074121.17835295\n",
      "Iteration:      2,   Func. Count:     14,   Neg. LLF: 2338.7083696338486\n",
      "Iteration:      3,   Func. Count:     22,   Neg. LLF: 2039.6286477783688\n",
      "Iteration:      4,   Func. Count:     29,   Neg. LLF: 1986.3394479465649\n",
      "Iteration:      5,   Func. Count:     35,   Neg. LLF: 1986.6276349780278\n",
      "Iteration:      6,   Func. Count:     41,   Neg. LLF: 1985.7314531882776\n",
      "Iteration:      7,   Func. Count:     47,   Neg. LLF: 1983.261585117878\n",
      "Iteration:      8,   Func. Count:     53,   Neg. LLF: 1971.7411278357495\n",
      "Iteration:      9,   Func. Count:     59,   Neg. LLF: 1970.9939980945976\n",
      "Iteration:     10,   Func. Count:     64,   Neg. LLF: 1970.9922385375985\n",
      "Iteration:     11,   Func. Count:     70,   Neg. LLF: 1970.9894861449814\n",
      "Iteration:     12,   Func. Count:     76,   Neg. LLF: 1970.984084333717\n",
      "Iteration:     13,   Func. Count:     82,   Neg. LLF: 1970.9839043467969\n",
      "Iteration:     14,   Func. Count:     86,   Neg. LLF: 1970.9839043465158\n",
      "Optimization terminated successfully    (Exit mode 0)\n",
      "            Current function value: 1970.9839043467969\n",
      "            Iterations: 14\n",
      "            Function evaluations: 86\n",
      "            Gradient evaluations: 14\n"
     ]
    },
    {
     "data": {
      "text/plain": [
       "0.4979188297159979"
      ]
     },
     "execution_count": 23,
     "metadata": {},
     "output_type": "execute_result"
    }
   ],
   "source": [
    "am = arch_model(returns, vol=\"Garch\", p=1, o=0, q=1, dist=\"Normal\")\n",
    "res = am.fit(update_freq=5)\n",
    "\n",
    "res = am.fit()\n",
    "forecast = res.forecast(horizon=1, reindex=False)\n",
    "variance_forecast = forecast.variance.iloc[-1][0]\n",
    "volatility_forecast = np.sqrt(variance_forecast)\n",
    "annualized_volatility_forecast = volatility_forecast * np.sqrt(252) / 100\n",
    "# Cette VOL est issu de la prediction du GARCH a comparer avec les IV de l'Option Wheel \n",
    "# et trade le mispricing\n",
    "annualized_volatility_forecast"
   ]
  },
  {
   "cell_type": "code",
   "execution_count": 24,
   "metadata": {},
   "outputs": [
    {
     "name": "stdout",
     "output_type": "stream",
     "text": [
      "0.003873559103627855\n"
     ]
    }
   ],
   "source": [
    "call_price = BS_pricer.BlackScholes(\"put\", S0=S0, K=K, T=T ,r=r, sigma=annualized_volatility_forecast)\n",
    "print(call_price) # our price"
   ]
  },
  {
   "cell_type": "code",
   "execution_count": null,
   "metadata": {},
   "outputs": [],
   "source": [
    "base = datetime.datetime.today()"
   ]
  },
  {
   "cell_type": "code",
   "execution_count": null,
   "metadata": {},
   "outputs": [],
   "source": [
    "s = exchange.parse8601(base)"
   ]
  },
  {
   "cell_type": "code",
   "execution_count": null,
   "metadata": {},
   "outputs": [],
   "source": [
    "exchange.milliseconds()"
   ]
  },
  {
   "cell_type": "code",
   "execution_count": 50,
   "metadata": {},
   "outputs": [],
   "source": [
    "df['symbol'] = symbol\n",
    "df['exchange'] = exch\n",
    "df.index /= 1000 #Timestamp is 1000 times bigger than it should be in this case\n",
    "df['Date'] = pd.to_datetime(df.index, unit='s')\n",
    "df.to_csv(f\"./data/{exch}_{t_frame}\")"
   ]
  },
  {
   "cell_type": "code",
   "execution_count": 51,
   "metadata": {},
   "outputs": [
    {
     "data": {
      "text/plain": [
       "16771"
      ]
     },
     "execution_count": 51,
     "metadata": {},
     "output_type": "execute_result"
    }
   ],
   "source": [
    "len(all_ohlcv)"
   ]
  },
  {
   "cell_type": "code",
   "execution_count": 14,
   "metadata": {},
   "outputs": [],
   "source": [
    "def price_range(iv, current_price, day_to_expiration):\n",
    "    range_delta = current_price*iv/100*math.sqrt(day_to_expiration/365)\n",
    "    return f\"[{current_price - range_delta:.02f}, {current_price + range_delta:.02f}]\""
   ]
  },
  {
   "cell_type": "code",
   "execution_count": 17,
   "metadata": {},
   "outputs": [
    {
     "data": {
      "text/plain": [
       "'[1231.36, 1270.64]'"
      ]
     },
     "execution_count": 17,
     "metadata": {},
     "output_type": "execute_result"
    }
   ],
   "source": [
    "price_range(30, 1251, 1)"
   ]
  },
  {
   "cell_type": "code",
   "execution_count": null,
   "metadata": {},
   "outputs": [],
   "source": []
  }
 ],
 "metadata": {
  "kernelspec": {
   "display_name": "Python 3.11.0rc2 ('data-acc-msZwibCE')",
   "language": "python",
   "name": "python3"
  },
  "language_info": {
   "codemirror_mode": {
    "name": "ipython",
    "version": 3
   },
   "file_extension": ".py",
   "mimetype": "text/x-python",
   "name": "python",
   "nbconvert_exporter": "python",
   "pygments_lexer": "ipython3",
   "version": "3.11.0rc2"
  },
  "orig_nbformat": 4,
  "vscode": {
   "interpreter": {
    "hash": "6c204f47349a62a61f679ecb91d9dfc52def4c454061bafec016fcb7353013ec"
   }
  }
 },
 "nbformat": 4,
 "nbformat_minor": 2
}
