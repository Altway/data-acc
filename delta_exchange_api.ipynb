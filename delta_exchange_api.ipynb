{
 "cells": [
  {
   "cell_type": "code",
   "execution_count": 174,
   "metadata": {},
   "outputs": [],
   "source": [
    "import ccxt\n",
    "import os\n",
    "import datetime\n",
    "import math\n",
    "\n",
    "from dotenv import dotenv_values, load_dotenv\n",
    "from pprint import pprint\n",
    "from arch import arch_model\n",
    "\n",
    "# import ccxt.async_support as ccxt # link against the asynchronous version of ccxt\n",
    "\n",
    "from functions.BS_pricer import BS_pricer\n",
    "from functions.Parameters import Option_param\n",
    "from functions.Processes import Diffusion_process\n",
    "\n",
    "import numpy as np\n",
    "import pandas as pd\n",
    "import scipy as scp\n",
    "\n",
    "# Set the float_format to limit the number of decimal places to 3\n",
    "pd.options.display.float_format = '{:,.3f}'.format\n",
    "\n",
    "import scipy.stats as ss\n",
    "from scipy.integrate import quad\n",
    "from functools import partial\n",
    "\n",
    "import matplotlib.pyplot as plt\n",
    "%matplotlib inline"
   ]
  },
  {
   "cell_type": "code",
   "execution_count": 147,
   "metadata": {},
   "outputs": [
    {
     "name": "stdout",
     "output_type": "stream",
     "text": [
      "{'delta': ccxt.delta(), 'deribit': ccxt.deribit()}\n"
     ]
    }
   ],
   "source": [
    "# Load environment variables from .env file\n",
    "load_dotenv()\n",
    "\n",
    "# Set the API keys for the exchanges\n",
    "delta_api_key = os.getenv('DELTA_API_KEY')\n",
    "delta_api_secret = os.getenv('DELTA_API_SECRET')\n",
    "deribit_api_key = os.getenv('DERIBIT_API_KEY')\n",
    "deribit_api_secret = os.getenv('DERIBIT_API_SECRET')\n",
    "\n",
    "# Create the exchange objects\n",
    "delta = ccxt.delta({\n",
    "    'apiKey': delta_api_key,\n",
    "    'secret': delta_api_secret,\n",
    "})\n",
    "deribit = ccxt.deribit({\n",
    "    'apiKey': deribit_api_key,\n",
    "    'secret': deribit_api_secret,\n",
    "})\n",
    "\n",
    "# Create the dictionary\n",
    "exchanges_dict = {'delta': delta, 'deribit': deribit}\n",
    "pprint(exchanges_dict)"
   ]
  },
  {
   "cell_type": "code",
   "execution_count": 148,
   "metadata": {},
   "outputs": [],
   "source": [
    "# delta_instruments = exchanges_dict['delta'].fetchMarkets()\n",
    "# deribit_instruments = exchanges_dict['deribit'].fetchMarkets()\n",
    "instruments_dict = {k: exchanges_dict[k].fetchMarkets() for k in exchanges_dict}\n",
    "instruments_dict['delta'] = {d['symbol']: d for d in instruments_dict['delta']}\n",
    "instruments_dict['deribit'] = {d['symbol']: d for d in instruments_dict['deribit']}"
   ]
  },
  {
   "cell_type": "code",
   "execution_count": 149,
   "metadata": {},
   "outputs": [],
   "source": [
    "# We define the contract we are looking for\n",
    "contract_specification = {\n",
    "    'expiration': '230127',\n",
    "    'payoff': 'C',\n",
    "    'underlying': 'BTC',\n",
    "    'strike': 17000,\n",
    "    'quote': 'USDT'\n",
    "}"
   ]
  },
  {
   "cell_type": "code",
   "execution_count": 150,
   "metadata": {},
   "outputs": [
    {
     "name": "stdout",
     "output_type": "stream",
     "text": [
      "(\"Delta ticker: {'symbol': 'BTC/USDT:USDT-230127:17000:C', 'timestamp': \"\n",
      " \"1673185417372, 'datetime': '2023-01-08T13:43:37.372Z', 'high': 467.6, 'low': \"\n",
      " \"433.1, 'bid': None, 'bidVolume': None, 'ask': None, 'askVolume': None, \"\n",
      " \"'vwap': 16937.093425572915, 'open': 467.6, 'close': 433.1, 'last': 433.1, \"\n",
      " \"'previousClose': None, 'change': -34.5, 'percentage': -7.378100940975193, \"\n",
      " \"'average': 450.35, 'baseVolume': 0.192, 'quoteVolume': 3251.92193771, \"\n",
      " \"'info': {'close': '433.1', 'contract_type': 'call_options', 'greeks': \"\n",
      " \"{'delta': '0.49208203', 'gamma': '0.00032480', 'rho': '4.08346658', 'spot': \"\n",
      " \"'16930.94980827388', 'theta': '-12.93884367', 'vega': '15.37844914'}, \"\n",
      " \"'high': '467.6', 'low': '433.1', 'mark_price': '456.84607678', 'mark_vol': \"\n",
      " \"'0.3183646767865866422653198243', 'oi': '4.3760', 'oi_contracts': '4376', \"\n",
      " \"'oi_value': '4.3760', 'oi_value_symbol': 'BTC', 'oi_value_usd': \"\n",
      " \"'74094.0973', 'open': '467.6', 'price_band': {'lower_limit': \"\n",
      " \"'0.100000000000000000', 'upper_limit': '4501.38575053'}, 'product_id': \"\n",
      " \"'84997', 'quotes': {'ask_iv': '0.3314793389290571212768554688', 'ask_size': \"\n",
      " \"'395', 'best_ask': '477', 'best_bid': '437.1', 'bid_iv': \"\n",
      " \"'0.3055339958518743515014648438', 'bid_size': '202', 'mark_iv': \"\n",
      " \"'0.3183904550193498531977335613'}, 'size': '192', 'spot_price': \"\n",
      " \"'16930.98097386225', 'strike_price': '17000', 'symbol': \"\n",
      " \"'C-BTC-17000-270123', 'timestamp': '1673185417372801', 'turnover': \"\n",
      " \"'3251.92193771', 'turnover_symbol': 'USDT', 'turnover_usd': '3251.92193771', \"\n",
      " \"'volume': '0.192'}}\")\n",
      "(\"Deribit ticker: {'symbol': 'BTC/USD:BTC-230127-17000-C', 'timestamp': \"\n",
      " \"1673185419196, 'datetime': '2023-01-08T13:43:39.196Z', 'high': 0.0285, \"\n",
      " \"'low': 0.027, 'bid': 0.0265, 'bidVolume': 8.0, 'ask': 0.0275, 'askVolume': \"\n",
      " \"5.7, 'vwap': None, 'open': None, 'close': 0.027, 'last': 0.027, \"\n",
      " \"'previousClose': None, 'change': None, 'percentage': None, 'average': None, \"\n",
      " \"'baseVolume': None, 'quoteVolume': 41.6, 'info': {'underlying_price': \"\n",
      " \"'16941.54', 'underlying_index': 'BTC-27JAN23', 'timestamp': '1673185419196', \"\n",
      " \"'stats': {'volume': '41.6', 'price_change': '0.0', 'low': '0.027', 'high': \"\n",
      " \"'0.0285'}, 'state': 'open', 'settlement_price': '0.02795464', \"\n",
      " \"'open_interest': '1965.2', 'min_price': '0.007', 'max_price': '0.057', \"\n",
      " \"'mark_price': '0.0271', 'mark_iv': '31.75', 'last_price': '0.027', \"\n",
      " \"'interest_rate': '0.0', 'instrument_name': 'BTC-27JAN23-17000-C', \"\n",
      " \"'index_price': '16931.58', 'greeks': {'vega': '15.32199', 'theta': \"\n",
      " \"'-12.96556', 'rho': '4.07708', 'gamma': '0.00033', 'delta': '0.49527'}, \"\n",
      " \"'estimated_delivery_price': '16931.58', 'bid_iv': '31.12', 'best_bid_price': \"\n",
      " \"'0.0265', 'best_bid_amount': '8.0', 'best_ask_price': '0.0275', \"\n",
      " \"'best_ask_amount': '5.7', 'ask_iv': '32.23'}}\")\n"
     ]
    }
   ],
   "source": [
    "def get_ticker(strike, expiration, underlying, quote, payoff):\n",
    "    # Construct the ticker symbol for the contract\n",
    "    delta_ticker_specification = f\"{underlying}/{quote}:{quote}-{expiration}:{strike}:{payoff}\"\n",
    "    if quote == \"USDT\": quote = \"USD\"\n",
    "    deribit_ticker_specification = f\"{underlying}/{quote}:{underlying}-{expiration}-{strike}-{payoff}\"\n",
    "    # Fetch the ticker data from the Delta exchange\n",
    "    delta_ticker = exchanges_dict['delta'].fetch_ticker(delta_ticker_specification)\n",
    "    pprint(f\"Delta ticker: {delta_ticker}\")\n",
    "\n",
    "    # Fetch the ticker data from the Deribit exchange\n",
    "    deribit_ticker = exchanges_dict['deribit'].fetch_ticker(deribit_ticker_specification)\n",
    "    pprint(f\"Deribit ticker: {deribit_ticker}\")\n",
    "\n",
    "    return {\n",
    "        \"delta\": delta_ticker,\n",
    "        \"deribit\": deribit_ticker,\n",
    "    }\n",
    "    \n",
    "tickers_dict = get_ticker(**contract_specification)"
   ]
  },
  {
   "cell_type": "code",
   "execution_count": 151,
   "metadata": {},
   "outputs": [
    {
     "name": "stdout",
     "output_type": "stream",
     "text": [
      "{'expiration': datetime.datetime(2023, 1, 27, 0, 0),\n",
      " 'payoff': 'call',\n",
      " 'quote': 'USDT',\n",
      " 'strike': 17000.0,\n",
      " 'underlying': 'BTC'}\n"
     ]
    }
   ],
   "source": [
    "def parse_option_spectification_delta(option_specification):\n",
    "    expiration = datetime.datetime.strptime(option_specification['expiration'], \"%y%m%d\")\n",
    "\n",
    "    return {\n",
    "        \"underlying\": option_specification['underlying'],\n",
    "        \"quote\": option_specification['quote'],\n",
    "        \"expiration\": expiration,\n",
    "        \"strike\": float(option_specification['strike']),\n",
    "        \"payoff\": \"call\" if option_specification['payoff'] in (\"C\", \"call\", \"Call\", \"CALL\") else \"put\",\n",
    "    }\n",
    "\n",
    "option_specification = parse_option_spectification_delta(contract_specification)\n",
    "pprint(option_specification)"
   ]
  },
  {
   "cell_type": "code",
   "execution_count": 152,
   "metadata": {},
   "outputs": [
    {
     "name": "stdout",
     "output_type": "stream",
     "text": [
      "(datetime.datetime(2023, 1, 8, 14, 43, 40, 676183), datetime.datetime(2023, 1, 27, 0, 0))\n",
      "18.386334766400463\n"
     ]
    }
   ],
   "source": [
    "now = datetime.datetime.now()\n",
    "forward_date = option_specification[\"expiration\"]\n",
    "print((now, forward_date))\n",
    "\n",
    "timedelta_until_expiration = forward_date - now\n",
    "\n",
    "days_until_expiration = timedelta_until_expiration.total_seconds() / 86400\n",
    "print(days_until_expiration)\n",
    "\n",
    "exchanges_option_contract = {}"
   ]
  },
  {
   "cell_type": "code",
   "execution_count": 153,
   "metadata": {},
   "outputs": [
    {
     "name": "stdout",
     "output_type": "stream",
     "text": [
      "'BTC/USDT:USDT-230127:17000:C'\n",
      "[0.03, 0.03, 0.1]\n"
     ]
    }
   ],
   "source": [
    "pprint(tickers_dict['delta']['symbol'])\n",
    "\n",
    "# pprint(instruments_dict['delta'][tickers_dict['delta']['symbol']])\n",
    "delta_maker_fees_rate = float(instruments_dict['delta'][tickers_dict['delta']['symbol']]['maker'])*100\n",
    "delta_taker_fees_rate = float(instruments_dict['delta'][tickers_dict['delta']['symbol']]['taker'])*100\n",
    "delta_premium_commission_rate = float(instruments_dict['delta'][tickers_dict['delta']['symbol']]['info']['product_specs']['premium_commission_rate'])\n",
    "\n",
    "pprint([\n",
    "    delta_maker_fees_rate,\n",
    "    delta_taker_fees_rate,\n",
    "    delta_premium_commission_rate\n",
    "])"
   ]
  },
  {
   "cell_type": "code",
   "execution_count": 154,
   "metadata": {},
   "outputs": [
    {
     "name": "stdout",
     "output_type": "stream",
     "text": [
      "'BTC/USD:BTC-230127-17000-C'\n",
      "[0.03, 0.03, 0.125]\n"
     ]
    }
   ],
   "source": [
    "pprint(tickers_dict['deribit']['symbol'])\n",
    "# pprint(instruments_dict['deribit'][tickers_dict['deribit']['symbol']])\n",
    "\n",
    "deribit_maker_fees_rate = float(instruments_dict['deribit'][tickers_dict['deribit']['symbol']]['maker'])*100\n",
    "deribit_taker_fees_rate = float(instruments_dict['deribit'][tickers_dict['deribit']['symbol']]['taker'])*100\n",
    "deribit_premium_commission_rate = 0.125\n",
    "\n",
    "pprint([\n",
    "    deribit_maker_fees_rate,\n",
    "    deribit_taker_fees_rate,\n",
    "    deribit_premium_commission_rate\n",
    "])"
   ]
  },
  {
   "cell_type": "code",
   "execution_count": 155,
   "metadata": {},
   "outputs": [
    {
     "data": {
      "text/plain": [
       "'\\ntry:\\n    a = exchanges_dict[\\'delta\\'].fetchFees()\\n    pprint(f\"fetchFees: {a}\")\\n    #b = exchanges_dict[\\'delta\\'].fetchTradingFee(tickers_dict[\\'delta\\'][\\'info\\'][\\'product_id\\'])\\n    #pprint(f\"fetchFees: {b}\")\\n    #c = exchanges_dict[\\'delta\\'].fetchTradingFees()\\n    #pprint(f\"fetchFees: {c}\")\\n    # d = exchanges_dict[\\'delta\\'].fetchTransactionFee()\\n    # pprint(f\"fetchFees: {d}\")\\n    #e = exchanges_dict[\\'delta\\'].fetchTransactionFees()\\n    #pprint(f\"fetchFees: {e}\")\\n    #a = exchanges_dict[\\'deribit\\'].fetchFees()\\n    #pprint(f\"fetchFees: {a}\")\\n    b = exchanges_dict[\\'deribit\\'].fetchTradingFee(tickers_dict[\\'deribit\\'][\\'info\\'][\\'instrument_name\\'])\\n    pprint(f\"fetchFees: {b}\")\\n    c = exchanges_dict[\\'deribit\\'].fetchTradingFees()\\n    pprint(f\"fetchFees: {c}\")\\n    d = exchanges_dict[\\'deribit\\'].fetchTransactionFee()\\n    pprint(f\"fetchFees: {d}\")\\n    e = exchanges_dict[\\'deribit\\'].fetchTransactionFees()\\n    pprint(f\"fetchFees: {e}\")\\nexcept Exception as e:\\n    pprint(e)\\n'"
      ]
     },
     "execution_count": 155,
     "metadata": {},
     "output_type": "execute_result"
    }
   ],
   "source": [
    "\"\"\"\n",
    "try:\n",
    "    a = exchanges_dict['delta'].fetchFees()\n",
    "    pprint(f\"fetchFees: {a}\")\n",
    "    #b = exchanges_dict['delta'].fetchTradingFee(tickers_dict['delta']['info']['product_id'])\n",
    "    #pprint(f\"fetchFees: {b}\")\n",
    "    #c = exchanges_dict['delta'].fetchTradingFees()\n",
    "    #pprint(f\"fetchFees: {c}\")\n",
    "    # d = exchanges_dict['delta'].fetchTransactionFee()\n",
    "    # pprint(f\"fetchFees: {d}\")\n",
    "    #e = exchanges_dict['delta'].fetchTransactionFees()\n",
    "    #pprint(f\"fetchFees: {e}\")\n",
    "    #a = exchanges_dict['deribit'].fetchFees()\n",
    "    #pprint(f\"fetchFees: {a}\")\n",
    "    b = exchanges_dict['deribit'].fetchTradingFee(tickers_dict['deribit']['info']['instrument_name'])\n",
    "    pprint(f\"fetchFees: {b}\")\n",
    "    c = exchanges_dict['deribit'].fetchTradingFees()\n",
    "    pprint(f\"fetchFees: {c}\")\n",
    "    d = exchanges_dict['deribit'].fetchTransactionFee()\n",
    "    pprint(f\"fetchFees: {d}\")\n",
    "    e = exchanges_dict['deribit'].fetchTransactionFees()\n",
    "    pprint(f\"fetchFees: {e}\")\n",
    "except Exception as e:\n",
    "    pprint(e)\n",
    "\"\"\""
   ]
  },
  {
   "cell_type": "code",
   "execution_count": 156,
   "metadata": {},
   "outputs": [],
   "source": [
    "### DeltaExchange Format\n",
    "\"\"\"\n",
    "    Retrieve\n",
    "    IV\n",
    "    index price (Underlying price)\n",
    "    days until expiration\n",
    "    strike price\n",
    "    interest rate\n",
    "    dividend yield (0)\n",
    "\"\"\"\n",
    "delta_option_contract = tickers_dict['delta']\n",
    "greeks = delta_option_contract[\"info\"][\"greeks\"]\n",
    "ask_iv = float(delta_option_contract[\"info\"][\"quotes\"]['ask_iv'])\n",
    "ask_size = float(delta_option_contract[\"info\"][\"quotes\"]['ask_size'])\n",
    "best_ask = float(delta_option_contract[\"info\"][\"quotes\"]['best_ask'])\n",
    "best_bid = float(delta_option_contract[\"info\"][\"quotes\"]['best_bid'])\n",
    "bid_iv = float(delta_option_contract[\"info\"][\"quotes\"]['bid_iv'])\n",
    "bid_size = float(delta_option_contract[\"info\"][\"quotes\"]['bid_size'])\n",
    "mark_iv = float(delta_option_contract[\"info\"][\"quotes\"]['mark_iv'])\n",
    "strike_price = float(delta_option_contract[\"info\"][\"strike_price\"])\n",
    "spot_price = float(delta_option_contract[\"info\"][\"spot_price\"])\n",
    "\n",
    "exchanges_option_contract.update(\n",
    "    {\n",
    "        'delta': {\n",
    "            'best_ask': best_ask,\n",
    "            'spot_price': spot_price,\n",
    "            'ask_iv': ask_iv,\n",
    "        }\n",
    "    }\n",
    ")"
   ]
  },
  {
   "cell_type": "code",
   "execution_count": 157,
   "metadata": {},
   "outputs": [],
   "source": [
    "### Deribit Format\n",
    "deribit_option_contract = tickers_dict['deribit']\n",
    "greeks = deribit_option_contract[\"info\"][\"greeks\"] # Deribit format\n",
    "ask_iv = float(deribit_option_contract['info']['ask_iv']) if float(deribit_option_contract['info']['ask_iv']) else float(deribit_option_contract['info']['mark_iv']) \n",
    "strike_price = option_specification['strike']\n",
    "spot_price = float(deribit_option_contract[\"info\"][\"underlying_price\"])\n",
    "best_ask_price = float(deribit_option_contract[\"info\"]['best_ask_price']) if float(deribit_option_contract['info']['best_ask_price']) else float(deribit_option_contract['info']['mark_price']) \n",
    "\n",
    "exchanges_option_contract.update(\n",
    "    {\n",
    "        'deribit': {\n",
    "            'best_ask': best_ask_price*spot_price,\n",
    "            'spot_price': spot_price,\n",
    "            'ask_iv': ask_iv/100.0,\n",
    "        }\n",
    "    }\n",
    ")"
   ]
  },
  {
   "cell_type": "code",
   "execution_count": 158,
   "metadata": {},
   "outputs": [],
   "source": [
    "def binomial_price(S0, K, T, r, sigma, N=15000, payoff=\"call\"):\n",
    "    # N number of periods or number of time steps  \n",
    "\n",
    "    dT = float(T) / N                             # Delta t\n",
    "    u = np.exp(sigma * np.sqrt(dT))                 # up factor\n",
    "    d = 1.0 / u                                   # down factor \n",
    "\n",
    "    V = np.zeros(N+1)                             # initialize the price vector\n",
    "    S_T = np.array( [(S0 * u**j * d**(N - j)) for j in range(N + 1)] )  # price S_T at time T\n",
    "\n",
    "    a = np.exp(r * dT)    # risk free compounded return\n",
    "    p = (a - d)/ (u - d)  # risk neutral up probability\n",
    "    q = 1.0 - p           # risk neutral down probability   \n",
    "\n",
    "    if payoff ==\"call\":\n",
    "        V[:] = np.maximum(S_T-K, 0.0)\n",
    "    else:\n",
    "        V[:] = np.maximum(K-S_T, 0.0)\n",
    "\n",
    "    for i in range(N-1, -1, -1):\n",
    "        V[:-1] = np.exp(-r*dT) * (p * V[1:] + q * V[:-1])    # the price vector is overwritten at each step\n",
    "            \n",
    "    return V[0]\n"
   ]
  },
  {
   "cell_type": "code",
   "execution_count": 170,
   "metadata": {},
   "outputs": [
    {
     "name": "stdout",
     "output_type": "stream",
     "text": [
      "Delta Exchange\n",
      "BTC/USDT:USDT\n",
      "ETH/USDT:USDT\n",
      "Deribit\n"
     ]
    }
   ],
   "source": [
    "header = ['Timestamp', 'Open', 'High', 'Low', 'Close', 'Volume']\n",
    "# since = exchange.milliseconds () - 86400000  # -1 day from now\n",
    "start_date = '2021-01-01T00:00:00Z' # fetch from a certain starting datetime\n",
    "t_frame = '1d' # 1-day timeframe, usually from 1-minute to 1-week depending on the exchange\n",
    "symbols = [\n",
    "    'BTC/USDT:USDT',\n",
    "    'ETH/USDT:USDT',\n",
    "    #'AAVE/USDT:USDT',\n",
    "    #'BNB/USDT:USDT',\n",
    "    #'CRV/USDT:USDT',\n",
    "    #'SNX/USDT:USDT',\n",
    "    #'LINK/USDT:USDT',\n",
    "]\n",
    "exchange_list = ['delta', 'deribit']\n",
    "data_df = pd.DataFrame(None, columns=header).set_index('Timestamp')\n",
    "\n",
    "for exchange_name, exch in exchanges_dict.items():\n",
    "    print(exch)\n",
    "    if exchange_name == \"deribit\": continue\n",
    "    if exch.has[\"fetchOHLCV\"] != True:\n",
    "        print('-'*36,' ERROR ','-'*35)\n",
    "        print(f'{exchange_name} does not support fetching OHLC data. Please use another exchange')\n",
    "        print('-'*80)\n",
    "        quit()\n",
    "    if (not hasattr(exch, 'timeframes')) or (t_frame not in exch.timeframes):\n",
    "        print('-'*36,' ERROR ','-'*35)\n",
    "        print(f'The requested timeframe ({t_frame}) is not available from {exchange_name}\\n')\n",
    "        print('Available timeframes are:')\n",
    "        for key in exch.timeframes.keys():\n",
    "            print('  - ' + key)\n",
    "        print('-'*80)\n",
    "        quit()\n",
    "    exch.load_markets()\n",
    "    for coin in symbols:\n",
    "        print(coin)\n",
    "        since = exch.parse8601(start_date) # fetch from a certain starting datetime\n",
    "        all_ohlcv = []\n",
    "        while since < exch.milliseconds():\n",
    "            coin_ohlcv = exch.fetchOHLCV(coin, t_frame, since)\n",
    "            if not coin_ohlcv: break\n",
    "            since = coin_ohlcv[-1][0] + 1 # query the last and add 1 to the number of milliseconds\n",
    "            all_ohlcv += coin_ohlcv\n",
    "        df = pd.DataFrame(all_ohlcv, columns=header).set_index('Timestamp')\n",
    "        df['Symbol'] = coin\n",
    "        df['Exchange'] = exch\n",
    "        data_df = pd.concat([data_df, df])\n",
    "\n",
    "data_df.index /= 1000 #Timestamp is 1000 times bigger than it should be in this case\n",
    "data_df['Date'] = pd.to_datetime(data_df.index, unit='s')\n",
    "data_df.to_csv(f\"./data/{start_date}_{t_frame}\")"
   ]
  },
  {
   "cell_type": "code",
   "execution_count": 172,
   "metadata": {},
   "outputs": [
    {
     "name": "stdout",
     "output_type": "stream",
     "text": [
      "Iteration:      5,   Func. Count:     36,   Neg. LLF: 2007.2591878795997\n",
      "Optimization terminated successfully    (Exit mode 0)\n",
      "            Current function value: 2007.2532823218557\n",
      "            Iterations: 8\n",
      "            Function evaluations: 51\n",
      "            Gradient evaluations: 8\n",
      "'1d'\n",
      "18.386334766400463\n",
      "0.39937545146029846\n"
     ]
    }
   ],
   "source": [
    "df = pd.read_csv(f\"./data/{start_date}_{t_frame}\", index_col=\"Date\")\n",
    "# option['underlyin']/option['quote']:option['quote']\n",
    "returns = 100 * df[df[\"Symbol\"] == \"BTC/USDT:USDT\"][\"Close\"].pct_change().dropna()\n",
    "am = arch_model(returns, vol=\"Garch\", p=1, o=0, q=1, dist=\"Normal\")\n",
    "res = am.fit(update_freq=5)\n",
    "pprint(t_frame)\n",
    "pprint(days_until_expiration)\n",
    "integer_t_frame = 24 if t_frame in (('1h',)) else 1\n",
    "\n",
    "forecast = res.forecast(horizon=integer_t_frame*int(days_until_expiration)+1, reindex=False)\n",
    "# forecast = res.forecast(horizon=1, reindex=False)\n",
    "variance_forecast = forecast.variance.iloc[-1][0]\n",
    "volatility_forecast = np.sqrt(variance_forecast)\n",
    "my_annualized_volatility_forecast = volatility_forecast * np.sqrt(252) / 100\n",
    "# Cette VOL est issu de la prediction du GARCH a comparer avec les IV de l'Option Wheel \n",
    "# et trade le mispricing\n",
    "pprint(my_annualized_volatility_forecast)"
   ]
  },
  {
   "cell_type": "code",
   "execution_count": 202,
   "metadata": {},
   "outputs": [
    {
     "data": {
      "text/plain": [
       "[15476.188, 18523.812]"
      ]
     },
     "execution_count": 202,
     "metadata": {},
     "output_type": "execute_result"
    }
   ],
   "source": [
    "def price_range(iv, current_price, day_to_expiration):\n",
    "    range_delta = float(current_price*iv*math.sqrt(day_to_expiration/365))\n",
    "    return [round(current_price - range_delta,3), round(current_price + range_delta,3)]\n",
    "### JUST AN EXAMPLE\n",
    "price_range(my_annualized_volatility_forecast, option_specification['strike'], days_until_expiration)"
   ]
  },
  {
   "cell_type": "code",
   "execution_count": 203,
   "metadata": {},
   "outputs": [
    {
     "name": "stdout",
     "output_type": "stream",
     "text": [
      "==================== DELTA ====================\n",
      "Theorical price, Their IV: 473.645, 33.148%\n",
      "Price Range: [15671.36, 18190.602]\n",
      "GARCH price, My IV: 576.573, 39.938%\n",
      "Price Range: [15413.355, 18448.607]\n",
      "binomial price: 473.652\n",
      "current market price 477.000\n",
      "==================== DERIBIT ====================\n",
      "Theorical price, Their IV: 464.973, 32.230%\n",
      "Price Range: [15716.037, 18167.043]\n",
      "GARCH price, My IV: 581.889, 39.938%\n",
      "Price Range: [15422.968, 18460.112]\n",
      "binomial price: 464.970\n",
      "current market price 465.892\n",
      "=================================================\n"
     ]
    }
   ],
   "source": [
    "for exch, option  in exchanges_option_contract.items():\n",
    "   print(f\"{'='*20} {exch.upper()} {'='*20}\")\n",
    "   info = {\n",
    "      \"S0\": float(option['spot_price']),\n",
    "      \"K\": float(option_specification['strike']),\n",
    "      \"T\": float(days_until_expiration/365),\n",
    "      \"r\": float(1/100),\n",
    "      \"sigma\": float(option['ask_iv']),\n",
    "      \"payoff\": option_specification[\"payoff\"]\n",
    "   }\n",
    "   # pprint(f\"{info['sigma']:.03f}\")\n",
    "   # BS CLASSIC WITH IV\n",
    "   theorical_option_price = BS_pricer.BlackScholes(**info)\n",
    "   # BS CLASSIC WITH GARCH IV\n",
    "   my_option_price = BS_pricer.BlackScholes(\n",
    "      S0=float(option['spot_price']),\n",
    "      K=float(option_specification['strike']),\n",
    "      T=float(days_until_expiration/365),\n",
    "      r=float(1/100),\n",
    "      sigma=float(my_annualized_volatility_forecast),\n",
    "      payoff=option_specification[\"payoff\"]     \n",
    "   )\n",
    "   # pprint(f\"{float(my_annualized_volatility_forecast):.03f}\")\n",
    "   # BIN PRICING WITH THEIR IV   \n",
    "   bin_price = binomial_price(**info)\n",
    "\n",
    "   # PRINT\n",
    "   print(f\"Theorical price, Their IV: {theorical_option_price:.03f}, {float(option['ask_iv'])*100:.03f}%\")\n",
    "   print(f\"Price Range: {price_range(float(option['ask_iv']), float(option['spot_price']), days_until_expiration)}\")\n",
    "   print(f\"GARCH price, My IV: {my_option_price:.03f}, {float(my_annualized_volatility_forecast)*100:.03f}%\")\n",
    "   print(f\"Price Range: {price_range(float(my_annualized_volatility_forecast), float(option['spot_price']), days_until_expiration)}\")\n",
    "   print(f\"binomial price: {bin_price:.03f}\") \n",
    "   print(f\"current market price {option['best_ask']:.03f}\")\n",
    "\n",
    "print(f\"=\"*(42+len(max(list(exchanges_dict.keys())))))"
   ]
  },
  {
   "cell_type": "code",
   "execution_count": null,
   "metadata": {},
   "outputs": [],
   "source": [
    "### DATA RETRIEVE BACKUP\n",
    "\n",
    "for exch in exchange_list:\n",
    "    print(exch)\n",
    "    try:\n",
    "        exchange = getattr(ccxt, exch)()\n",
    "    except AttributeError:\n",
    "        print('-'*36,' ERROR ','-'*35)\n",
    "        print('Exchange \"{}\" not found. Please check the exchange is supported.'.format(exch))\n",
    "        print('-'*80)\n",
    "        quit()\n",
    "    if exchange.has[\"fetchOHLCV\"] != True:\n",
    "        print('-'*36,' ERROR ','-'*35)\n",
    "        print('{} does not support fetching OHLC data. Please use another exchange'.format(exch))\n",
    "        print('-'*80)\n",
    "        quit()\n",
    "    if (not hasattr(exchange, 'timeframes')) or (t_frame not in exchange.timeframes):\n",
    "        print('-'*36,' ERROR ','-'*35)\n",
    "        print('The requested timeframe ({}) is not available from {}\\n'.format(t_frame,exch))\n",
    "        print('Available timeframes are:')\n",
    "        for key in exchange.timeframes.keys():\n",
    "            print('  - ' + key)\n",
    "        print('-'*80)\n",
    "        quit()\n",
    "    exchange.load_markets()\n",
    "    for coin in symbols:\n",
    "        print(coin)\n",
    "        since = exchange.parse8601(start_date) # fetch from a certain starting datetime\n",
    "        all_ohlcv = []\n",
    "        while since < exchange.milliseconds():\n",
    "            coin_ohlcv = exchange.fetchOHLCV(coin, t_frame, since)\n",
    "            if not coin_ohlcv: break\n",
    "            since = coin_ohlcv[-1][0] + 1 # query the last and add 1 to the number of milliseconds\n",
    "            all_ohlcv += coin_ohlcv\n",
    "        df = pd.DataFrame(all_ohlcv, columns=header).set_index('Timestamp')\n",
    "        df['Symbol'] = coin\n",
    "        df['Exchange'] = exch\n",
    "        data_df = pd.concat([data_df, df])\n",
    "\n",
    "data_df.index /= 1000 #Timestamp is 1000 times bigger than it should be in this case\n",
    "data_df['Date'] = pd.to_datetime(data_df.index, unit='s')\n",
    "data_df.to_csv(f\"./data/{start_date}_{t_frame}\")"
   ]
  },
  {
   "cell_type": "code",
   "execution_count": 17,
   "metadata": {},
   "outputs": [
    {
     "data": {
      "text/plain": [
       "'[1231.36, 1270.64]'"
      ]
     },
     "execution_count": 17,
     "metadata": {},
     "output_type": "execute_result"
    }
   ],
   "source": []
  },
  {
   "cell_type": "code",
   "execution_count": null,
   "metadata": {},
   "outputs": [],
   "source": []
  }
 ],
 "metadata": {
  "kernelspec": {
   "display_name": "Python 3.11.0rc2 ('data-acc-msZwibCE')",
   "language": "python",
   "name": "python3"
  },
  "language_info": {
   "codemirror_mode": {
    "name": "ipython",
    "version": 3
   },
   "file_extension": ".py",
   "mimetype": "text/x-python",
   "name": "python",
   "nbconvert_exporter": "python",
   "pygments_lexer": "ipython3",
   "version": "3.11.0rc2"
  },
  "orig_nbformat": 4,
  "vscode": {
   "interpreter": {
    "hash": "6c204f47349a62a61f679ecb91d9dfc52def4c454061bafec016fcb7353013ec"
   }
  }
 },
 "nbformat": 4,
 "nbformat_minor": 2
}
